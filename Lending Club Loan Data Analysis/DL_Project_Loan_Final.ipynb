{
 "cells": [
  {
   "cell_type": "markdown",
   "id": "b446e64b-cb8a-46be-85c7-9bf183ea8424",
   "metadata": {},
   "source": [
    "# Lending Club Loan Data Analysis"
   ]
  },
  {
   "cell_type": "markdown",
   "id": "d8e4513c-8b2c-43b2-a469-b311f9437ce6",
   "metadata": {},
   "source": [
    "## Importing Required Libraries and Data"
   ]
  },
  {
   "cell_type": "code",
   "execution_count": 106,
   "id": "40ff2922-971d-4630-b07e-d0c0749b640b",
   "metadata": {},
   "outputs": [],
   "source": [
    "import numpy as np\n",
    "import pandas as pd\n",
    "import matplotlib.pyplot as plt\n",
    "import seaborn as sns\n",
    "import tensorflow as tf\n",
    "from sklearn.utils import resample\n",
    "from sklearn.utils import shuffle\n",
    "from sklearn.preprocessing import OneHotEncoder\n",
    "from sklearn.model_selection import train_test_split\n",
    "from sklearn.preprocessing import StandardScaler,MinMaxScaler\n",
    "import warnings\n",
    "warnings.filterwarnings('ignore')\n",
    "from keras.wrappers.scikit_learn import KerasClassifier\n",
    "from sklearn.model_selection import GridSearchCV\n",
    "from sklearn.model_selection import KFold\n",
    "import tensorflow_addons as tfa\n",
    "from sklearn.metrics import classification_report, confusion_matrix, accuracy_score\n",
    "from sklearn.metrics import roc_curve,auc"
   ]
  },
  {
   "cell_type": "code",
   "execution_count": 107,
   "id": "2b6b5a6d-e44a-433e-a91b-7687b623ddb1",
   "metadata": {},
   "outputs": [
    {
     "name": "stdout",
     "output_type": "stream",
     "text": [
      "<class 'pandas.core.frame.DataFrame'>\n",
      "RangeIndex: 9578 entries, 0 to 9577\n",
      "Data columns (total 14 columns):\n",
      " #   Column             Non-Null Count  Dtype  \n",
      "---  ------             --------------  -----  \n",
      " 0   credit.policy      9578 non-null   int64  \n",
      " 1   purpose            9578 non-null   object \n",
      " 2   int.rate           9578 non-null   float64\n",
      " 3   installment        9578 non-null   float64\n",
      " 4   log.annual.inc     9578 non-null   float64\n",
      " 5   dti                9578 non-null   float64\n",
      " 6   fico               9578 non-null   int64  \n",
      " 7   days.with.cr.line  9578 non-null   float64\n",
      " 8   revol.bal          9578 non-null   int64  \n",
      " 9   revol.util         9578 non-null   float64\n",
      " 10  inq.last.6mths     9578 non-null   int64  \n",
      " 11  delinq.2yrs        9578 non-null   int64  \n",
      " 12  pub.rec            9578 non-null   int64  \n",
      " 13  not.fully.paid     9578 non-null   int64  \n",
      "dtypes: float64(6), int64(7), object(1)\n",
      "memory usage: 1.0+ MB\n"
     ]
    }
   ],
   "source": [
    "df = pd.read_csv(\"loan_data.csv\")\n",
    "df.info()"
   ]
  },
  {
   "cell_type": "code",
   "execution_count": 108,
   "id": "a479d1fa-57a4-4dbd-b23d-422d2178fcfe",
   "metadata": {},
   "outputs": [
    {
     "name": "stdout",
     "output_type": "stream",
     "text": [
      "credit.policy           2\n",
      "purpose                 7\n",
      "int.rate              249\n",
      "installment          4788\n",
      "log.annual.inc       1987\n",
      "dti                  2529\n",
      "fico                   44\n",
      "days.with.cr.line    2687\n",
      "revol.bal            7869\n",
      "revol.util           1035\n",
      "inq.last.6mths         28\n",
      "delinq.2yrs            11\n",
      "pub.rec                 6\n",
      "not.fully.paid          2\n",
      "dtype: int64\n",
      "----------------------------------------\n",
      "Unique elements in categorical columns:\n",
      "purpose:['debt_consolidation' 'credit_card' 'all_other' 'home_improvement'\n",
      " 'small_business' 'major_purchase' 'educational']\n",
      "----------------------------------------\n",
      "Unique elements in Numerical columns with nunique<15:\n",
      "credit.policy:[1 0]\n",
      "delinq.2yrs:[ 0  1  2  4  3  5  6 13  7  8 11]\n",
      "pub.rec:[0 1 2 3 4 5]\n",
      "not.fully.paid:[0 1]\n"
     ]
    }
   ],
   "source": [
    "Categorical_colms = df.select_dtypes(['object']).columns\n",
    "Numerical_colms = df.select_dtypes(['float64','int64']).columns\n",
    "print(df.nunique())\n",
    "print('----------------------------------------')\n",
    "print('Unique elements in categorical columns:')\n",
    "for col in Categorical_colms:\n",
    "    print('{}:{}'.format(col,df[col].unique()))\n",
    "print('----------------------------------------')\n",
    "print('Unique elements in Numerical columns with nunique<15:')\n",
    "for col in Numerical_colms:\n",
    "    if(df[col].nunique()<15):\n",
    "        print('{}:{}'.format(col,df[col].unique()))"
   ]
  },
  {
   "cell_type": "code",
   "execution_count": 109,
   "id": "551f1705-70c5-43f8-8625-bcf3e9d36909",
   "metadata": {},
   "outputs": [
    {
     "data": {
      "text/plain": [
       "<AxesSubplot:xlabel='purpose', ylabel='count'>"
      ]
     },
     "execution_count": 109,
     "metadata": {},
     "output_type": "execute_result"
    },
    {
     "data": {
      "image/png": "[encoded data removed]",
      "text/plain": [
       "<Figure size 1296x432 with 1 Axes>"
      ]
     },
     "metadata": {
      "needs_background": "light"
     },
     "output_type": "display_data"
    }
   ],
   "source": [
    "plt.figure(figsize=(18,6))\n",
    "sns.countplot(x='purpose', data=df, hue='not.fully.paid')"
   ]
  },
  {
   "cell_type": "markdown",
   "id": "284fcd7b-534b-45ce-a7de-0b0531814cf6",
   "metadata": {},
   "source": [
    "# Feature Transformation"
   ]
  },
  {
   "cell_type": "markdown",
   "id": "dbfa3c46-fa71-42c8-a85b-fa863a3c9c1d",
   "metadata": {},
   "source": [
    "### Transforming categorical values into numerical values (discrete)"
   ]
  },
  {
   "cell_type": "code",
   "execution_count": 110,
   "id": "3f253c92-5e06-4aaa-900b-a2636dc1d7ba",
   "metadata": {},
   "outputs": [],
   "source": [
    "from sklearn.preprocessing import OneHotEncoder,LabelEncoder,OrdinalEncoder\n",
    "ohe = OneHotEncoder()\n",
    "le = LabelEncoder()\n",
    "oe=OrdinalEncoder()"
   ]
  },
  {
   "cell_type": "code",
   "execution_count": 111,
   "id": "2616a643-f0d5-4094-a5da-46b7a953ddd0",
   "metadata": {},
   "outputs": [
    {
     "data": {
      "text/html": [
       "<div>\n",
       "<style scoped>\n",
       "    .dataframe tbody tr th:only-of-type {\n",
       "        vertical-align: middle;\n",
       "    }\n",
       "\n",
       "    .dataframe tbody tr th {\n",
       "        vertical-align: top;\n",
       "    }\n",
       "\n",
       "    .dataframe thead th {\n",
       "        text-align: right;\n",
       "    }\n",
       "</style>\n",
       "<table border=\"1\" class=\"dataframe\">\n",
       "  <thead>\n",
       "    <tr style=\"text-align: right;\">\n",
       "      <th></th>\n",
       "      <th>0</th>\n",
       "      <th>1</th>\n",
       "      <th>2</th>\n",
       "      <th>3</th>\n",
       "      <th>4</th>\n",
       "      <th>5</th>\n",
       "      <th>6</th>\n",
       "    </tr>\n",
       "  </thead>\n",
       "  <tbody>\n",
       "    <tr>\n",
       "      <th>0</th>\n",
       "      <td>0.0</td>\n",
       "      <td>0.0</td>\n",
       "      <td>1.0</td>\n",
       "      <td>0.0</td>\n",
       "      <td>0.0</td>\n",
       "      <td>0.0</td>\n",
       "      <td>0.0</td>\n",
       "    </tr>\n",
       "    <tr>\n",
       "      <th>1</th>\n",
       "      <td>0.0</td>\n",
       "      <td>1.0</td>\n",
       "      <td>0.0</td>\n",
       "      <td>0.0</td>\n",
       "      <td>0.0</td>\n",
       "      <td>0.0</td>\n",
       "      <td>0.0</td>\n",
       "    </tr>\n",
       "    <tr>\n",
       "      <th>2</th>\n",
       "      <td>0.0</td>\n",
       "      <td>0.0</td>\n",
       "      <td>1.0</td>\n",
       "      <td>0.0</td>\n",
       "      <td>0.0</td>\n",
       "      <td>0.0</td>\n",
       "      <td>0.0</td>\n",
       "    </tr>\n",
       "    <tr>\n",
       "      <th>3</th>\n",
       "      <td>0.0</td>\n",
       "      <td>0.0</td>\n",
       "      <td>1.0</td>\n",
       "      <td>0.0</td>\n",
       "      <td>0.0</td>\n",
       "      <td>0.0</td>\n",
       "      <td>0.0</td>\n",
       "    </tr>\n",
       "    <tr>\n",
       "      <th>4</th>\n",
       "      <td>0.0</td>\n",
       "      <td>1.0</td>\n",
       "      <td>0.0</td>\n",
       "      <td>0.0</td>\n",
       "      <td>0.0</td>\n",
       "      <td>0.0</td>\n",
       "      <td>0.0</td>\n",
       "    </tr>\n",
       "    <tr>\n",
       "      <th>...</th>\n",
       "      <td>...</td>\n",
       "      <td>...</td>\n",
       "      <td>...</td>\n",
       "      <td>...</td>\n",
       "      <td>...</td>\n",
       "      <td>...</td>\n",
       "      <td>...</td>\n",
       "    </tr>\n",
       "    <tr>\n",
       "      <th>9573</th>\n",
       "      <td>1.0</td>\n",
       "      <td>0.0</td>\n",
       "      <td>0.0</td>\n",
       "      <td>0.0</td>\n",
       "      <td>0.0</td>\n",
       "      <td>0.0</td>\n",
       "      <td>0.0</td>\n",
       "    </tr>\n",
       "    <tr>\n",
       "      <th>9574</th>\n",
       "      <td>1.0</td>\n",
       "      <td>0.0</td>\n",
       "      <td>0.0</td>\n",
       "      <td>0.0</td>\n",
       "      <td>0.0</td>\n",
       "      <td>0.0</td>\n",
       "      <td>0.0</td>\n",
       "    </tr>\n",
       "    <tr>\n",
       "      <th>9575</th>\n",
       "      <td>0.0</td>\n",
       "      <td>0.0</td>\n",
       "      <td>1.0</td>\n",
       "      <td>0.0</td>\n",
       "      <td>0.0</td>\n",
       "      <td>0.0</td>\n",
       "      <td>0.0</td>\n",
       "    </tr>\n",
       "    <tr>\n",
       "      <th>9576</th>\n",
       "      <td>0.0</td>\n",
       "      <td>0.0</td>\n",
       "      <td>0.0</td>\n",
       "      <td>0.0</td>\n",
       "      <td>1.0</td>\n",
       "      <td>0.0</td>\n",
       "      <td>0.0</td>\n",
       "    </tr>\n",
       "    <tr>\n",
       "      <th>9577</th>\n",
       "      <td>0.0</td>\n",
       "      <td>0.0</td>\n",
       "      <td>1.0</td>\n",
       "      <td>0.0</td>\n",
       "      <td>0.0</td>\n",
       "      <td>0.0</td>\n",
       "      <td>0.0</td>\n",
       "    </tr>\n",
       "  </tbody>\n",
       "</table>\n",
       "<p>9578 rows × 7 columns</p>\n",
       "</div>"
      ],
      "text/plain": [
       "        0    1    2    3    4    5    6\n",
       "0     0.0  0.0  1.0  0.0  0.0  0.0  0.0\n",
       "1     0.0  1.0  0.0  0.0  0.0  0.0  0.0\n",
       "2     0.0  0.0  1.0  0.0  0.0  0.0  0.0\n",
       "3     0.0  0.0  1.0  0.0  0.0  0.0  0.0\n",
       "4     0.0  1.0  0.0  0.0  0.0  0.0  0.0\n",
       "...   ...  ...  ...  ...  ...  ...  ...\n",
       "9573  1.0  0.0  0.0  0.0  0.0  0.0  0.0\n",
       "9574  1.0  0.0  0.0  0.0  0.0  0.0  0.0\n",
       "9575  0.0  0.0  1.0  0.0  0.0  0.0  0.0\n",
       "9576  0.0  0.0  0.0  0.0  1.0  0.0  0.0\n",
       "9577  0.0  0.0  1.0  0.0  0.0  0.0  0.0\n",
       "\n",
       "[9578 rows x 7 columns]"
      ]
     },
     "execution_count": 111,
     "metadata": {},
     "output_type": "execute_result"
    }
   ],
   "source": [
    "df_cat = pd.DataFrame(ohe.fit_transform(df[Categorical_colms]).toarray())\n",
    "df_cat"
   ]
  },
  {
   "cell_type": "code",
   "execution_count": 112,
   "id": "aeef8458-c939-47bd-9154-b8e82d852b8a",
   "metadata": {},
   "outputs": [],
   "source": [
    "df.drop(Categorical_colms,axis=1,inplace = True)"
   ]
  },
  {
   "cell_type": "code",
   "execution_count": 113,
   "id": "8a773bd3-1c74-4f8f-a824-8be323ef312d",
   "metadata": {},
   "outputs": [],
   "source": [
    "df=pd.concat([df,df_cat],axis=1)"
   ]
  },
  {
   "cell_type": "code",
   "execution_count": 114,
   "id": "b6377a63-7853-419d-8b9f-aa91fa6cb543",
   "metadata": {},
   "outputs": [
    {
     "data": {
      "text/plain": [
       "(9578, 20)"
      ]
     },
     "execution_count": 114,
     "metadata": {},
     "output_type": "execute_result"
    }
   ],
   "source": [
    "df.shape"
   ]
  },
  {
   "cell_type": "code",
   "execution_count": 115,
   "id": "25170b00-3575-4407-84da-0fda0b69c6cd",
   "metadata": {},
   "outputs": [
    {
     "data": {
      "text/plain": [
       "0    8045\n",
       "1    1533\n",
       "Name: not.fully.paid, dtype: int64"
      ]
     },
     "execution_count": 115,
     "metadata": {},
     "output_type": "execute_result"
    }
   ],
   "source": [
    "df['not.fully.paid'].value_counts()"
   ]
  },
  {
   "cell_type": "markdown",
   "id": "3f873840-98a6-43b3-9d9b-33105cd3f758",
   "metadata": {},
   "source": [
    "# Exploratory data analysis of different factors of the dataset."
   ]
  },
  {
   "cell_type": "markdown",
   "id": "11e95edc-d9b2-4365-81ca-03e428ba86bb",
   "metadata": {},
   "source": [
    "## Balancing the Imbalanced Dataset"
   ]
  },
  {
   "cell_type": "code",
   "execution_count": 10,
   "id": "56d468cf-c43b-47e9-be0c-7d0d2cf2c942",
   "metadata": {},
   "outputs": [
    {
     "data": {
      "text/plain": [
       "((8045, 20), (1533, 20))"
      ]
     },
     "execution_count": 10,
     "metadata": {},
     "output_type": "execute_result"
    }
   ],
   "source": [
    "not_fully_paid_0 = df[df['not.fully.paid'] == 0]\n",
    "not_fully_paid_1 = df[df['not.fully.paid'] == 1]\n",
    "\n",
    "not_fully_paid_0.shape,not_fully_paid_1.shape"
   ]
  },
  {
   "cell_type": "code",
   "execution_count": 11,
   "id": "bc7cb89c-5f7b-47c6-8b10-0a86b1ce4668",
   "metadata": {},
   "outputs": [],
   "source": [
    "df_1_upsampled = resample(not_fully_paid_1, replace = True, n_samples = 8045)\n",
    "df = pd.concat([not_fully_paid_0, df_1_upsampled])\n",
    "\n",
    "df = shuffle(df)"
   ]
  },
  {
   "cell_type": "code",
   "execution_count": 12,
   "id": "8ebe0d73-bff1-4c9a-ab55-7d13f85693b0",
   "metadata": {},
   "outputs": [
    {
     "data": {
      "text/plain": [
       "0    8045\n",
       "1    8045\n",
       "Name: not.fully.paid, dtype: int64"
      ]
     },
     "execution_count": 12,
     "metadata": {},
     "output_type": "execute_result"
    }
   ],
   "source": [
    "df['not.fully.paid'].value_counts() "
   ]
  },
  {
   "cell_type": "code",
   "execution_count": 14,
   "id": "7a6c3a06-6e10-49bc-b5eb-6a247128eced",
   "metadata": {},
   "outputs": [
    {
     "data": {
      "text/plain": [
       "<AxesSubplot:>"
      ]
     },
     "execution_count": 14,
     "metadata": {},
     "output_type": "execute_result"
    },
    {
     "data": {
      "image/png": "[encoded data removed]",
      "text/plain": [
       "<Figure size 1440x576 with 1 Axes>"
      ]
     },
     "metadata": {
      "needs_background": "light"
     },
     "output_type": "display_data"
    }
   ],
   "source": [
    "fig = plt.figure(figsize=(20,8))\n",
    "sns.boxplot(data=df)"
   ]
  },
  {
   "cell_type": "code",
   "execution_count": 15,
   "id": "05815ffd-3d01-435b-9c88-27e103e02a18",
   "metadata": {},
   "outputs": [
    {
     "name": "stdout",
     "output_type": "stream",
     "text": [
      "Boxplot of:  credit.policy\n"
     ]
    },
    {
     "data": {
      "image/png": "[encoded data removed]",
      "text/plain": [
       "<Figure size 432x288 with 1 Axes>"
      ]
     },
     "metadata": {
      "needs_background": "light"
     },
     "output_type": "display_data"
    },
    {
     "name": "stdout",
     "output_type": "stream",
     "text": [
      "Boxplot of:  int.rate\n"
     ]
    },
    {
     "data": {
      "image/png": "[encoded data removed]",
      "text/plain": [
       "<Figure size 432x288 with 1 Axes>"
      ]
     },
     "metadata": {
      "needs_background": "light"
     },
     "output_type": "display_data"
    },
    {
     "name": "stdout",
     "output_type": "stream",
     "text": [
      "Boxplot of:  installment\n"
     ]
    },
    {
     "data": {
      "image/png": "[encoded data removed]",
      "text/plain": [
       "<Figure size 432x288 with 1 Axes>"
      ]
     },
     "metadata": {
      "needs_background": "light"
     },
     "output_type": "display_data"
    },
    {
     "name": "stdout",
     "output_type": "stream",
     "text": [
      "Boxplot of:  log.annual.inc\n"
     ]
    },
    {
     "data": {
      "image/png": "[encoded data removed]",
      "text/plain": [
       "<Figure size 432x288 with 1 Axes>"
      ]
     },
     "metadata": {
      "needs_background": "light"
     },
     "output_type": "display_data"
    },
    {
     "name": "stdout",
     "output_type": "stream",
     "text": [
      "Boxplot of:  dti\n"
     ]
    },
    {
     "data": {
      "image/png": "[encoded data removed]",
      "text/plain": [
       "<Figure size 432x288 with 1 Axes>"
      ]
     },
     "metadata": {
      "needs_background": "light"
     },
     "output_type": "display_data"
    },
    {
     "name": "stdout",
     "output_type": "stream",
     "text": [
      "Boxplot of:  fico\n"
     ]
    },
    {
     "data": {
      "image/png": "[encoded data removed]",
      "text/plain": [
       "<Figure size 432x288 with 1 Axes>"
      ]
     },
     "metadata": {
      "needs_background": "light"
     },
     "output_type": "display_data"
    },
    {
     "name": "stdout",
     "output_type": "stream",
     "text": [
      "Boxplot of:  days.with.cr.line\n"
     ]
    },
    {
     "data": {
      "image/png": "[encoded data removed]",
      "text/plain": [
       "<Figure size 432x288 with 1 Axes>"
      ]
     },
     "metadata": {
      "needs_background": "light"
     },
     "output_type": "display_data"
    },
    {
     "name": "stdout",
     "output_type": "stream",
     "text": [
      "Boxplot of:  revol.bal\n"
     ]
    },
    {
     "data": {
      "image/png": "[encoded data removed]",
      "text/plain": [
       "<Figure size 432x288 with 1 Axes>"
      ]
     },
     "metadata": {
      "needs_background": "light"
     },
     "output_type": "display_data"
    },
    {
     "name": "stdout",
     "output_type": "stream",
     "text": [
      "Boxplot of:  revol.util\n"
     ]
    },
    {
     "data": {
      "image/png": "[encoded data removed]",
      "text/plain": [
       "<Figure size 432x288 with 1 Axes>"
      ]
     },
     "metadata": {
      "needs_background": "light"
     },
     "output_type": "display_data"
    },
    {
     "name": "stdout",
     "output_type": "stream",
     "text": [
      "Boxplot of:  inq.last.6mths\n"
     ]
    },
    {
     "data": {
      "image/png": "[encoded data removed]",
      "text/plain": [
       "<Figure size 432x288 with 1 Axes>"
      ]
     },
     "metadata": {
      "needs_background": "light"
     },
     "output_type": "display_data"
    },
    {
     "name": "stdout",
     "output_type": "stream",
     "text": [
      "Boxplot of:  delinq.2yrs\n"
     ]
    },
    {
     "data": {
      "image/png": "[encoded data removed]",
      "text/plain": [
       "<Figure size 432x288 with 1 Axes>"
      ]
     },
     "metadata": {
      "needs_background": "light"
     },
     "output_type": "display_data"
    },
    {
     "name": "stdout",
     "output_type": "stream",
     "text": [
      "Boxplot of:  pub.rec\n"
     ]
    },
    {
     "data": {
      "image/png": "[encoded data removed]",
      "text/plain": [
       "<Figure size 432x288 with 1 Axes>"
      ]
     },
     "metadata": {
      "needs_background": "light"
     },
     "output_type": "display_data"
    },
    {
     "name": "stdout",
     "output_type": "stream",
     "text": [
      "Boxplot of:  not.fully.paid\n"
     ]
    },
    {
     "data": {
      "image/png": "[encoded data removed]",
      "text/plain": [
       "<Figure size 432x288 with 1 Axes>"
      ]
     },
     "metadata": {
      "needs_background": "light"
     },
     "output_type": "display_data"
    }
   ],
   "source": [
    "for col in Numerical_colms:\n",
    "    print('Boxplot of: ',col)\n",
    "    sns.boxplot(data = df[col])\n",
    "    plt.show()"
   ]
  },
  {
   "cell_type": "code",
   "execution_count": 16,
   "id": "9a92852f-8266-485f-bd8e-8eddb83cd9ce",
   "metadata": {},
   "outputs": [
    {
     "data": {
      "image/png": "[encoded data removed]",
      "text/plain": [
       "<Figure size 1296x1008 with 16 Axes>"
      ]
     },
     "metadata": {
      "needs_background": "light"
     },
     "output_type": "display_data"
    }
   ],
   "source": [
    "df[Numerical_colms].hist(figsize=(18,14));"
   ]
  },
  {
   "cell_type": "code",
   "execution_count": 17,
   "id": "df43945d-d802-40d6-bbe8-282e3b1ed91d",
   "metadata": {},
   "outputs": [
    {
     "name": "stdout",
     "output_type": "stream",
     "text": [
      "Number of unique values in revol.bal: 7859\n",
      "----------------------------------\n"
     ]
    },
    {
     "data": {
      "text/plain": [
       "0         580\n",
       "7562       17\n",
       "566        17\n",
       "12308      16\n",
       "3943       16\n",
       "         ... \n",
       "211463      1\n",
       "5010        1\n",
       "13852       1\n",
       "18076       1\n",
       "12785       1\n",
       "Name: revol.bal, Length: 7859, dtype: int64"
      ]
     },
     "execution_count": 17,
     "metadata": {},
     "output_type": "execute_result"
    }
   ],
   "source": [
    "print('Number of unique values in revol.bal:',df['revol.bal'].nunique())\n",
    "print('----------------------------------')\n",
    "df['revol.bal'].value_counts()"
   ]
  },
  {
   "cell_type": "code",
   "execution_count": 18,
   "id": "236ba603-e639-4ac2-a2d7-62d9553b25e9",
   "metadata": {},
   "outputs": [
    {
     "name": "stdout",
     "output_type": "stream",
     "text": [
      "Number of unique values in delinq.2yrs: 11\n",
      "----------------------------------\n"
     ]
    },
    {
     "data": {
      "text/plain": [
       "0     14166\n",
       "1      1428\n",
       "2       337\n",
       "3       115\n",
       "4        32\n",
       "5         6\n",
       "6         2\n",
       "11        1\n",
       "13        1\n",
       "7         1\n",
       "8         1\n",
       "Name: delinq.2yrs, dtype: int64"
      ]
     },
     "execution_count": 18,
     "metadata": {},
     "output_type": "execute_result"
    }
   ],
   "source": [
    "print('Number of unique values in delinq.2yrs:',df['delinq.2yrs'].nunique())\n",
    "print('----------------------------------')\n",
    "df['delinq.2yrs'].value_counts()"
   ]
  },
  {
   "cell_type": "code",
   "execution_count": 19,
   "id": "bb47ef44-e175-49a8-b582-2a6ea7c1b153",
   "metadata": {},
   "outputs": [
    {
     "name": "stdout",
     "output_type": "stream",
     "text": [
      "Number of unique values in delinq.2yrs: 6\n",
      "----------------------------------\n"
     ]
    },
    {
     "data": {
      "text/plain": [
       "0    14977\n",
       "1     1077\n",
       "2       29\n",
       "3        5\n",
       "4        1\n",
       "5        1\n",
       "Name: pub.rec, dtype: int64"
      ]
     },
     "execution_count": 19,
     "metadata": {},
     "output_type": "execute_result"
    }
   ],
   "source": [
    "print('Number of unique values in delinq.2yrs:',df['pub.rec'].nunique())\n",
    "print('----------------------------------')\n",
    "df['pub.rec'].value_counts()"
   ]
  },
  {
   "cell_type": "markdown",
   "id": "a43e6e44-a6f7-424f-8216-8ac0b6944e13",
   "metadata": {},
   "source": [
    "## Handling the Outliers"
   ]
  },
  {
   "cell_type": "code",
   "execution_count": 20,
   "id": "0f35aaf6-018c-4ffd-9b67-2b5ce5da281d",
   "metadata": {},
   "outputs": [],
   "source": [
    "def Outlier(data2, cols, rep):\n",
    "    data = data2.copy()\n",
    "    for column in cols:\n",
    "        if data[column].dtype != object:\n",
    "            Q1 = np.percentile(data[column],25)\n",
    "            Q3 = np.percentile(data[column],75)\n",
    "            IQR =  Q3 - Q1\n",
    "            lower = Q1 - (1.5 * IQR) # min value allowed\n",
    "            upper = Q3 + (1.5 * IQR)  # max. value allowed\n",
    "            if (rep == 'mean'):\n",
    "                mean = data[column].mean()\n",
    "                data[column] = data[column].apply(lambda x: mean if x>upper else  mean if x<lower else x)   \n",
    "            elif(rep == 'lu'):\n",
    "                data[column] = data[column].apply(lambda x: upper if x>upper else  lower if x<lower else x)\n",
    "            elif(rep == 'median'):\n",
    "                median = data[column].median()\n",
    "                data[column] = data[column].apply(lambda x: median if x>upper else  median if x<lower else x)\n",
    "            elif(rep =='mode'):\n",
    "                mode = data[column].mode()\n",
    "                data[column] = data[column].apply(lambda x: mode if x>upper else  mode if x<lower else x)\n",
    "    return data"
   ]
  },
  {
   "cell_type": "code",
   "execution_count": 21,
   "id": "69ee72b7-1684-48a4-ad1b-2053f35de997",
   "metadata": {},
   "outputs": [
    {
     "name": "stdout",
     "output_type": "stream",
     "text": [
      "Index([    'credit.policy',          'int.rate',       'installment',\n",
      "          'log.annual.inc',               'dti',              'fico',\n",
      "       'days.with.cr.line',         'revol.bal',        'revol.util',\n",
      "          'inq.last.6mths',       'delinq.2yrs',           'pub.rec',\n",
      "          'not.fully.paid',                   0,                   1,\n",
      "                         2,                   3,                   4,\n",
      "                         5,                   6],\n",
      "      dtype='object')\n"
     ]
    },
    {
     "data": {
      "text/plain": [
       "<AxesSubplot:>"
      ]
     },
     "execution_count": 21,
     "metadata": {},
     "output_type": "execute_result"
    },
    {
     "data": {
      "image/png": "[encoded data removed]",
      "text/plain": [
       "<Figure size 1440x576 with 1 Axes>"
      ]
     },
     "metadata": {
      "needs_background": "light"
     },
     "output_type": "display_data"
    }
   ],
   "source": [
    "df2 = Outlier(data2 = df, cols = ['delinq.2yrs','fico','pub.rec'],rep = 'mean')\n",
    "df3 = Outlier(data2 = df2, cols = ['inq.last.6mths','installment','days.with.cr.line','revol.bal','log.annual.inc'],rep = 'lu')\n",
    "#df3=df\n",
    "print(df3.columns)\n",
    "\n",
    "fig = plt.figure(figsize=(20,8))\n",
    "sns.boxplot(data=df3)"
   ]
  },
  {
   "cell_type": "code",
   "execution_count": 22,
   "id": "935f38d7-5c3c-45e3-b5e1-5ddc35bef45c",
   "metadata": {},
   "outputs": [
    {
     "name": "stdout",
     "output_type": "stream",
     "text": [
      "Boxplot of:  credit.policy\n"
     ]
    },
    {
     "data": {
      "image/png": "[encoded data removed]",
      "text/plain": [
       "<Figure size 432x288 with 1 Axes>"
      ]
     },
     "metadata": {
      "needs_background": "light"
     },
     "output_type": "display_data"
    },
    {
     "name": "stdout",
     "output_type": "stream",
     "text": [
      "Boxplot of:  int.rate\n"
     ]
    },
    {
     "data": {
      "image/png": "[encoded data removed]",
      "text/plain": [
       "<Figure size 432x288 with 1 Axes>"
      ]
     },
     "metadata": {
      "needs_background": "light"
     },
     "output_type": "display_data"
    },
    {
     "name": "stdout",
     "output_type": "stream",
     "text": [
      "Boxplot of:  installment\n"
     ]
    },
    {
     "data": {
      "image/png": "[encoded data removed]",
      "text/plain": [
       "<Figure size 432x288 with 1 Axes>"
      ]
     },
     "metadata": {
      "needs_background": "light"
     },
     "output_type": "display_data"
    },
    {
     "name": "stdout",
     "output_type": "stream",
     "text": [
      "Boxplot of:  log.annual.inc\n"
     ]
    },
    {
     "data": {
      "image/png": "[encoded data removed]",
      "text/plain": [
       "<Figure size 432x288 with 1 Axes>"
      ]
     },
     "metadata": {
      "needs_background": "light"
     },
     "output_type": "display_data"
    },
    {
     "name": "stdout",
     "output_type": "stream",
     "text": [
      "Boxplot of:  dti\n"
     ]
    },
    {
     "data": {
      "image/png": "[encoded data removed]",
      "text/plain": [
       "<Figure size 432x288 with 1 Axes>"
      ]
     },
     "metadata": {
      "needs_background": "light"
     },
     "output_type": "display_data"
    },
    {
     "name": "stdout",
     "output_type": "stream",
     "text": [
      "Boxplot of:  fico\n"
     ]
    },
    {
     "data": {
      "image/png": "[encoded data removed]",
      "text/plain": [
       "<Figure size 432x288 with 1 Axes>"
      ]
     },
     "metadata": {
      "needs_background": "light"
     },
     "output_type": "display_data"
    },
    {
     "name": "stdout",
     "output_type": "stream",
     "text": [
      "Boxplot of:  days.with.cr.line\n"
     ]
    },
    {
     "data": {
      "image/png": "[encoded data removed]",
      "text/plain": [
       "<Figure size 432x288 with 1 Axes>"
      ]
     },
     "metadata": {
      "needs_background": "light"
     },
     "output_type": "display_data"
    },
    {
     "name": "stdout",
     "output_type": "stream",
     "text": [
      "Boxplot of:  revol.bal\n"
     ]
    },
    {
     "data": {
      "image/png": "[encoded data removed]",
      "text/plain": [
       "<Figure size 432x288 with 1 Axes>"
      ]
     },
     "metadata": {
      "needs_background": "light"
     },
     "output_type": "display_data"
    },
    {
     "name": "stdout",
     "output_type": "stream",
     "text": [
      "Boxplot of:  revol.util\n"
     ]
    },
    {
     "data": {
      "image/png": "[encoded data removed]",
      "text/plain": [
       "<Figure size 432x288 with 1 Axes>"
      ]
     },
     "metadata": {
      "needs_background": "light"
     },
     "output_type": "display_data"
    },
    {
     "name": "stdout",
     "output_type": "stream",
     "text": [
      "Boxplot of:  inq.last.6mths\n"
     ]
    },
    {
     "data": {
      "image/png": "[encoded data removed]",
      "text/plain": [
       "<Figure size 432x288 with 1 Axes>"
      ]
     },
     "metadata": {
      "needs_background": "light"
     },
     "output_type": "display_data"
    },
    {
     "name": "stdout",
     "output_type": "stream",
     "text": [
      "Boxplot of:  delinq.2yrs\n"
     ]
    },
    {
     "data": {
      "image/png": "[encoded data removed]",
      "text/plain": [
       "<Figure size 432x288 with 1 Axes>"
      ]
     },
     "metadata": {
      "needs_background": "light"
     },
     "output_type": "display_data"
    },
    {
     "name": "stdout",
     "output_type": "stream",
     "text": [
      "Boxplot of:  pub.rec\n"
     ]
    },
    {
     "data": {
      "image/png": "[encoded data removed]",
      "text/plain": [
       "<Figure size 432x288 with 1 Axes>"
      ]
     },
     "metadata": {
      "needs_background": "light"
     },
     "output_type": "display_data"
    },
    {
     "name": "stdout",
     "output_type": "stream",
     "text": [
      "Boxplot of:  not.fully.paid\n"
     ]
    },
    {
     "data": {
      "image/png": "[encoded data removed]",
      "text/plain": [
       "<Figure size 432x288 with 1 Axes>"
      ]
     },
     "metadata": {
      "needs_background": "light"
     },
     "output_type": "display_data"
    }
   ],
   "source": [
    "for col in Numerical_colms:\n",
    "    print('Boxplot of: ',col)\n",
    "    sns.boxplot(data = df3[col])\n",
    "    plt.show()"
   ]
  },
  {
   "cell_type": "markdown",
   "id": "aec5372a-fb34-4ad9-9bf2-5f25666fdcb8",
   "metadata": {},
   "source": [
    "# Additional Feature Engineering"
   ]
  },
  {
   "cell_type": "markdown",
   "id": "314193eb-0f9a-4eef-8a49-e9930bc74244",
   "metadata": {},
   "source": [
    "### Checking the correlation between features"
   ]
  },
  {
   "cell_type": "code",
   "execution_count": 23,
   "id": "ff719c5e-22f3-4fd0-b831-192969b3d6cc",
   "metadata": {},
   "outputs": [
    {
     "data": {
      "text/plain": [
       "<AxesSubplot:>"
      ]
     },
     "execution_count": 23,
     "metadata": {},
     "output_type": "execute_result"
    },
    {
     "data": {
      "image/png": "[encoded data removed]",
      "text/plain": [
       "<Figure size 432x288 with 2 Axes>"
      ]
     },
     "metadata": {
      "needs_background": "light"
     },
     "output_type": "display_data"
    }
   ],
   "source": [
    "sns.heatmap(df3.corr())"
   ]
  },
  {
   "cell_type": "code",
   "execution_count": 24,
   "id": "629e0ef8-da67-40eb-b8b3-b5d4e714f45b",
   "metadata": {},
   "outputs": [
    {
     "data": {
      "text/plain": [
       "<AxesSubplot:>"
      ]
     },
     "execution_count": 24,
     "metadata": {},
     "output_type": "execute_result"
    },
    {
     "data": {
      "image/png": "[encoded data removed]",
      "text/plain": [
       "<Figure size 432x288 with 2 Axes>"
      ]
     },
     "metadata": {
      "needs_background": "light"
     },
     "output_type": "display_data"
    }
   ],
   "source": [
    "cor_matrix = df3.corr().abs()\n",
    "sns.heatmap(cor_matrix)"
   ]
  },
  {
   "cell_type": "code",
   "execution_count": 25,
   "id": "16800eff-1b91-4ec6-9922-761726c2dd89",
   "metadata": {},
   "outputs": [
    {
     "data": {
      "text/html": [
       "<div>\n",
       "<style scoped>\n",
       "    .dataframe tbody tr th:only-of-type {\n",
       "        vertical-align: middle;\n",
       "    }\n",
       "\n",
       "    .dataframe tbody tr th {\n",
       "        vertical-align: top;\n",
       "    }\n",
       "\n",
       "    .dataframe thead th {\n",
       "        text-align: right;\n",
       "    }\n",
       "</style>\n",
       "<table border=\"1\" class=\"dataframe\">\n",
       "  <thead>\n",
       "    <tr style=\"text-align: right;\">\n",
       "      <th></th>\n",
       "      <th>credit.policy</th>\n",
       "      <th>int.rate</th>\n",
       "      <th>installment</th>\n",
       "      <th>log.annual.inc</th>\n",
       "      <th>dti</th>\n",
       "      <th>fico</th>\n",
       "      <th>days.with.cr.line</th>\n",
       "      <th>revol.bal</th>\n",
       "      <th>revol.util</th>\n",
       "      <th>inq.last.6mths</th>\n",
       "      <th>delinq.2yrs</th>\n",
       "      <th>pub.rec</th>\n",
       "      <th>not.fully.paid</th>\n",
       "      <th>0</th>\n",
       "      <th>1</th>\n",
       "      <th>2</th>\n",
       "      <th>3</th>\n",
       "      <th>4</th>\n",
       "      <th>5</th>\n",
       "      <th>6</th>\n",
       "    </tr>\n",
       "  </thead>\n",
       "  <tbody>\n",
       "    <tr>\n",
       "      <th>credit.policy</th>\n",
       "      <td>NaN</td>\n",
       "      <td>0.28971</td>\n",
       "      <td>0.047855</td>\n",
       "      <td>0.012072</td>\n",
       "      <td>0.099434</td>\n",
       "      <td>0.376427</td>\n",
       "      <td>0.101181</td>\n",
       "      <td>0.072401</td>\n",
       "      <td>0.091759</td>\n",
       "      <td>0.590312</td>\n",
       "      <td>0.046999</td>\n",
       "      <td>0.057150</td>\n",
       "      <td>0.207656</td>\n",
       "      <td>0.036755</td>\n",
       "      <td>0.018639</td>\n",
       "      <td>0.028398</td>\n",
       "      <td>0.036266</td>\n",
       "      <td>0.010276</td>\n",
       "      <td>0.035970</td>\n",
       "      <td>0.005179</td>\n",
       "    </tr>\n",
       "    <tr>\n",
       "      <th>int.rate</th>\n",
       "      <td>NaN</td>\n",
       "      <td>NaN</td>\n",
       "      <td>0.267282</td>\n",
       "      <td>0.077377</td>\n",
       "      <td>0.216173</td>\n",
       "      <td>0.688037</td>\n",
       "      <td>0.111029</td>\n",
       "      <td>0.120280</td>\n",
       "      <td>0.425121</td>\n",
       "      <td>0.196710</td>\n",
       "      <td>0.159041</td>\n",
       "      <td>0.101933</td>\n",
       "      <td>0.213364</td>\n",
       "      <td>0.124357</td>\n",
       "      <td>0.043091</td>\n",
       "      <td>0.087392</td>\n",
       "      <td>0.015708</td>\n",
       "      <td>0.046008</td>\n",
       "      <td>0.058895</td>\n",
       "      <td>0.180712</td>\n",
       "    </tr>\n",
       "    <tr>\n",
       "      <th>installment</th>\n",
       "      <td>NaN</td>\n",
       "      <td>NaN</td>\n",
       "      <td>NaN</td>\n",
       "      <td>0.484455</td>\n",
       "      <td>0.030459</td>\n",
       "      <td>0.100184</td>\n",
       "      <td>0.188301</td>\n",
       "      <td>0.340355</td>\n",
       "      <td>0.054280</td>\n",
       "      <td>0.003863</td>\n",
       "      <td>0.000433</td>\n",
       "      <td>0.018926</td>\n",
       "      <td>0.073120</td>\n",
       "      <td>0.211689</td>\n",
       "      <td>0.017985</td>\n",
       "      <td>0.106359</td>\n",
       "      <td>0.097793</td>\n",
       "      <td>0.033983</td>\n",
       "      <td>0.048335</td>\n",
       "      <td>0.188294</td>\n",
       "    </tr>\n",
       "    <tr>\n",
       "      <th>log.annual.inc</th>\n",
       "      <td>NaN</td>\n",
       "      <td>NaN</td>\n",
       "      <td>NaN</td>\n",
       "      <td>NaN</td>\n",
       "      <td>0.033144</td>\n",
       "      <td>0.108624</td>\n",
       "      <td>0.368117</td>\n",
       "      <td>0.497762</td>\n",
       "      <td>0.072499</td>\n",
       "      <td>0.036035</td>\n",
       "      <td>0.011111</td>\n",
       "      <td>0.017962</td>\n",
       "      <td>0.038669</td>\n",
       "      <td>0.097143</td>\n",
       "      <td>0.079525</td>\n",
       "      <td>0.038429</td>\n",
       "      <td>0.115764</td>\n",
       "      <td>0.105800</td>\n",
       "      <td>0.026191</td>\n",
       "      <td>0.127590</td>\n",
       "    </tr>\n",
       "    <tr>\n",
       "      <th>dti</th>\n",
       "      <td>NaN</td>\n",
       "      <td>NaN</td>\n",
       "      <td>NaN</td>\n",
       "      <td>NaN</td>\n",
       "      <td>NaN</td>\n",
       "      <td>0.229796</td>\n",
       "      <td>0.106185</td>\n",
       "      <td>0.331974</td>\n",
       "      <td>0.322933</td>\n",
       "      <td>0.021282</td>\n",
       "      <td>0.022963</td>\n",
       "      <td>0.024981</td>\n",
       "      <td>0.057437</td>\n",
       "      <td>0.115004</td>\n",
       "      <td>0.074994</td>\n",
       "      <td>0.169160</td>\n",
       "      <td>0.032611</td>\n",
       "      <td>0.082125</td>\n",
       "      <td>0.073326</td>\n",
       "      <td>0.058788</td>\n",
       "    </tr>\n",
       "    <tr>\n",
       "      <th>fico</th>\n",
       "      <td>NaN</td>\n",
       "      <td>NaN</td>\n",
       "      <td>NaN</td>\n",
       "      <td>NaN</td>\n",
       "      <td>NaN</td>\n",
       "      <td>NaN</td>\n",
       "      <td>0.257354</td>\n",
       "      <td>0.039980</td>\n",
       "      <td>0.500587</td>\n",
       "      <td>0.182689</td>\n",
       "      <td>0.213893</td>\n",
       "      <td>0.152350</td>\n",
       "      <td>0.206960</td>\n",
       "      <td>0.045636</td>\n",
       "      <td>0.007675</td>\n",
       "      <td>0.142628</td>\n",
       "      <td>0.005775</td>\n",
       "      <td>0.089360</td>\n",
       "      <td>0.064047</td>\n",
       "      <td>0.067879</td>\n",
       "    </tr>\n",
       "    <tr>\n",
       "      <th>days.with.cr.line</th>\n",
       "      <td>NaN</td>\n",
       "      <td>NaN</td>\n",
       "      <td>NaN</td>\n",
       "      <td>NaN</td>\n",
       "      <td>NaN</td>\n",
       "      <td>NaN</td>\n",
       "      <td>NaN</td>\n",
       "      <td>0.347905</td>\n",
       "      <td>0.025388</td>\n",
       "      <td>0.026125</td>\n",
       "      <td>0.084745</td>\n",
       "      <td>0.083302</td>\n",
       "      <td>0.042858</td>\n",
       "      <td>0.086902</td>\n",
       "      <td>0.068663</td>\n",
       "      <td>0.006350</td>\n",
       "      <td>0.054358</td>\n",
       "      <td>0.059540</td>\n",
       "      <td>0.032992</td>\n",
       "      <td>0.049865</td>\n",
       "    </tr>\n",
       "    <tr>\n",
       "      <th>revol.bal</th>\n",
       "      <td>NaN</td>\n",
       "      <td>NaN</td>\n",
       "      <td>NaN</td>\n",
       "      <td>NaN</td>\n",
       "      <td>NaN</td>\n",
       "      <td>NaN</td>\n",
       "      <td>NaN</td>\n",
       "      <td>NaN</td>\n",
       "      <td>0.392370</td>\n",
       "      <td>0.017503</td>\n",
       "      <td>0.060919</td>\n",
       "      <td>0.038281</td>\n",
       "      <td>0.048333</td>\n",
       "      <td>0.135699</td>\n",
       "      <td>0.136661</td>\n",
       "      <td>0.066945</td>\n",
       "      <td>0.073427</td>\n",
       "      <td>0.024884</td>\n",
       "      <td>0.097307</td>\n",
       "      <td>0.074609</td>\n",
       "    </tr>\n",
       "    <tr>\n",
       "      <th>revol.util</th>\n",
       "      <td>NaN</td>\n",
       "      <td>NaN</td>\n",
       "      <td>NaN</td>\n",
       "      <td>NaN</td>\n",
       "      <td>NaN</td>\n",
       "      <td>NaN</td>\n",
       "      <td>NaN</td>\n",
       "      <td>NaN</td>\n",
       "      <td>NaN</td>\n",
       "      <td>0.048031</td>\n",
       "      <td>0.033082</td>\n",
       "      <td>0.076373</td>\n",
       "      <td>0.106715</td>\n",
       "      <td>0.102856</td>\n",
       "      <td>0.089784</td>\n",
       "      <td>0.192379</td>\n",
       "      <td>0.062966</td>\n",
       "      <td>0.105807</td>\n",
       "      <td>0.118821</td>\n",
       "      <td>0.061387</td>\n",
       "    </tr>\n",
       "    <tr>\n",
       "      <th>inq.last.6mths</th>\n",
       "      <td>NaN</td>\n",
       "      <td>NaN</td>\n",
       "      <td>NaN</td>\n",
       "      <td>NaN</td>\n",
       "      <td>NaN</td>\n",
       "      <td>NaN</td>\n",
       "      <td>NaN</td>\n",
       "      <td>NaN</td>\n",
       "      <td>NaN</td>\n",
       "      <td>NaN</td>\n",
       "      <td>0.005569</td>\n",
       "      <td>0.099162</td>\n",
       "      <td>0.194468</td>\n",
       "      <td>0.019961</td>\n",
       "      <td>0.059136</td>\n",
       "      <td>0.055888</td>\n",
       "      <td>0.055637</td>\n",
       "      <td>0.074739</td>\n",
       "      <td>0.007971</td>\n",
       "      <td>0.034587</td>\n",
       "    </tr>\n",
       "    <tr>\n",
       "      <th>delinq.2yrs</th>\n",
       "      <td>NaN</td>\n",
       "      <td>NaN</td>\n",
       "      <td>NaN</td>\n",
       "      <td>NaN</td>\n",
       "      <td>NaN</td>\n",
       "      <td>NaN</td>\n",
       "      <td>NaN</td>\n",
       "      <td>NaN</td>\n",
       "      <td>NaN</td>\n",
       "      <td>NaN</td>\n",
       "      <td>NaN</td>\n",
       "      <td>0.010636</td>\n",
       "      <td>0.014558</td>\n",
       "      <td>0.005784</td>\n",
       "      <td>0.000712</td>\n",
       "      <td>0.021278</td>\n",
       "      <td>0.018106</td>\n",
       "      <td>0.016170</td>\n",
       "      <td>0.003356</td>\n",
       "      <td>0.032194</td>\n",
       "    </tr>\n",
       "    <tr>\n",
       "      <th>pub.rec</th>\n",
       "      <td>NaN</td>\n",
       "      <td>NaN</td>\n",
       "      <td>NaN</td>\n",
       "      <td>NaN</td>\n",
       "      <td>NaN</td>\n",
       "      <td>NaN</td>\n",
       "      <td>NaN</td>\n",
       "      <td>NaN</td>\n",
       "      <td>NaN</td>\n",
       "      <td>NaN</td>\n",
       "      <td>NaN</td>\n",
       "      <td>NaN</td>\n",
       "      <td>0.066376</td>\n",
       "      <td>0.049828</td>\n",
       "      <td>0.033513</td>\n",
       "      <td>0.030363</td>\n",
       "      <td>0.001563</td>\n",
       "      <td>0.000190</td>\n",
       "      <td>0.021632</td>\n",
       "      <td>0.000960</td>\n",
       "    </tr>\n",
       "    <tr>\n",
       "      <th>not.fully.paid</th>\n",
       "      <td>NaN</td>\n",
       "      <td>NaN</td>\n",
       "      <td>NaN</td>\n",
       "      <td>NaN</td>\n",
       "      <td>NaN</td>\n",
       "      <td>NaN</td>\n",
       "      <td>NaN</td>\n",
       "      <td>NaN</td>\n",
       "      <td>NaN</td>\n",
       "      <td>NaN</td>\n",
       "      <td>NaN</td>\n",
       "      <td>NaN</td>\n",
       "      <td>NaN</td>\n",
       "      <td>0.007372</td>\n",
       "      <td>0.068103</td>\n",
       "      <td>0.021766</td>\n",
       "      <td>0.024767</td>\n",
       "      <td>0.017613</td>\n",
       "      <td>0.049649</td>\n",
       "      <td>0.106372</td>\n",
       "    </tr>\n",
       "    <tr>\n",
       "      <th>0</th>\n",
       "      <td>NaN</td>\n",
       "      <td>NaN</td>\n",
       "      <td>NaN</td>\n",
       "      <td>NaN</td>\n",
       "      <td>NaN</td>\n",
       "      <td>NaN</td>\n",
       "      <td>NaN</td>\n",
       "      <td>NaN</td>\n",
       "      <td>NaN</td>\n",
       "      <td>NaN</td>\n",
       "      <td>NaN</td>\n",
       "      <td>NaN</td>\n",
       "      <td>NaN</td>\n",
       "      <td>NaN</td>\n",
       "      <td>0.207095</td>\n",
       "      <td>0.470924</td>\n",
       "      <td>0.114460</td>\n",
       "      <td>0.155435</td>\n",
       "      <td>0.114173</td>\n",
       "      <td>0.173836</td>\n",
       "    </tr>\n",
       "    <tr>\n",
       "      <th>1</th>\n",
       "      <td>NaN</td>\n",
       "      <td>NaN</td>\n",
       "      <td>NaN</td>\n",
       "      <td>NaN</td>\n",
       "      <td>NaN</td>\n",
       "      <td>NaN</td>\n",
       "      <td>NaN</td>\n",
       "      <td>NaN</td>\n",
       "      <td>NaN</td>\n",
       "      <td>NaN</td>\n",
       "      <td>NaN</td>\n",
       "      <td>NaN</td>\n",
       "      <td>NaN</td>\n",
       "      <td>NaN</td>\n",
       "      <td>NaN</td>\n",
       "      <td>0.300847</td>\n",
       "      <td>0.073122</td>\n",
       "      <td>0.099299</td>\n",
       "      <td>0.072939</td>\n",
       "      <td>0.111054</td>\n",
       "    </tr>\n",
       "    <tr>\n",
       "      <th>2</th>\n",
       "      <td>NaN</td>\n",
       "      <td>NaN</td>\n",
       "      <td>NaN</td>\n",
       "      <td>NaN</td>\n",
       "      <td>NaN</td>\n",
       "      <td>NaN</td>\n",
       "      <td>NaN</td>\n",
       "      <td>NaN</td>\n",
       "      <td>NaN</td>\n",
       "      <td>NaN</td>\n",
       "      <td>NaN</td>\n",
       "      <td>NaN</td>\n",
       "      <td>NaN</td>\n",
       "      <td>NaN</td>\n",
       "      <td>NaN</td>\n",
       "      <td>NaN</td>\n",
       "      <td>0.166276</td>\n",
       "      <td>0.225801</td>\n",
       "      <td>0.165860</td>\n",
       "      <td>0.252532</td>\n",
       "    </tr>\n",
       "    <tr>\n",
       "      <th>3</th>\n",
       "      <td>NaN</td>\n",
       "      <td>NaN</td>\n",
       "      <td>NaN</td>\n",
       "      <td>NaN</td>\n",
       "      <td>NaN</td>\n",
       "      <td>NaN</td>\n",
       "      <td>NaN</td>\n",
       "      <td>NaN</td>\n",
       "      <td>NaN</td>\n",
       "      <td>NaN</td>\n",
       "      <td>NaN</td>\n",
       "      <td>NaN</td>\n",
       "      <td>NaN</td>\n",
       "      <td>NaN</td>\n",
       "      <td>NaN</td>\n",
       "      <td>NaN</td>\n",
       "      <td>NaN</td>\n",
       "      <td>0.054882</td>\n",
       "      <td>0.040313</td>\n",
       "      <td>0.061379</td>\n",
       "    </tr>\n",
       "    <tr>\n",
       "      <th>4</th>\n",
       "      <td>NaN</td>\n",
       "      <td>NaN</td>\n",
       "      <td>NaN</td>\n",
       "      <td>NaN</td>\n",
       "      <td>NaN</td>\n",
       "      <td>NaN</td>\n",
       "      <td>NaN</td>\n",
       "      <td>NaN</td>\n",
       "      <td>NaN</td>\n",
       "      <td>NaN</td>\n",
       "      <td>NaN</td>\n",
       "      <td>NaN</td>\n",
       "      <td>NaN</td>\n",
       "      <td>NaN</td>\n",
       "      <td>NaN</td>\n",
       "      <td>NaN</td>\n",
       "      <td>NaN</td>\n",
       "      <td>NaN</td>\n",
       "      <td>0.054745</td>\n",
       "      <td>0.083352</td>\n",
       "    </tr>\n",
       "    <tr>\n",
       "      <th>5</th>\n",
       "      <td>NaN</td>\n",
       "      <td>NaN</td>\n",
       "      <td>NaN</td>\n",
       "      <td>NaN</td>\n",
       "      <td>NaN</td>\n",
       "      <td>NaN</td>\n",
       "      <td>NaN</td>\n",
       "      <td>NaN</td>\n",
       "      <td>NaN</td>\n",
       "      <td>NaN</td>\n",
       "      <td>NaN</td>\n",
       "      <td>NaN</td>\n",
       "      <td>NaN</td>\n",
       "      <td>NaN</td>\n",
       "      <td>NaN</td>\n",
       "      <td>NaN</td>\n",
       "      <td>NaN</td>\n",
       "      <td>NaN</td>\n",
       "      <td>NaN</td>\n",
       "      <td>0.061225</td>\n",
       "    </tr>\n",
       "    <tr>\n",
       "      <th>6</th>\n",
       "      <td>NaN</td>\n",
       "      <td>NaN</td>\n",
       "      <td>NaN</td>\n",
       "      <td>NaN</td>\n",
       "      <td>NaN</td>\n",
       "      <td>NaN</td>\n",
       "      <td>NaN</td>\n",
       "      <td>NaN</td>\n",
       "      <td>NaN</td>\n",
       "      <td>NaN</td>\n",
       "      <td>NaN</td>\n",
       "      <td>NaN</td>\n",
       "      <td>NaN</td>\n",
       "      <td>NaN</td>\n",
       "      <td>NaN</td>\n",
       "      <td>NaN</td>\n",
       "      <td>NaN</td>\n",
       "      <td>NaN</td>\n",
       "      <td>NaN</td>\n",
       "      <td>NaN</td>\n",
       "    </tr>\n",
       "  </tbody>\n",
       "</table>\n",
       "</div>"
      ],
      "text/plain": [
       "                   credit.policy  int.rate  installment  log.annual.inc  \\\n",
       "credit.policy                NaN   0.28971     0.047855        0.012072   \n",
       "int.rate                     NaN       NaN     0.267282        0.077377   \n",
       "installment                  NaN       NaN          NaN        0.484455   \n",
       "log.annual.inc               NaN       NaN          NaN             NaN   \n",
       "dti                          NaN       NaN          NaN             NaN   \n",
       "fico                         NaN       NaN          NaN             NaN   \n",
       "days.with.cr.line            NaN       NaN          NaN             NaN   \n",
       "revol.bal                    NaN       NaN          NaN             NaN   \n",
       "revol.util                   NaN       NaN          NaN             NaN   \n",
       "inq.last.6mths               NaN       NaN          NaN             NaN   \n",
       "delinq.2yrs                  NaN       NaN          NaN             NaN   \n",
       "pub.rec                      NaN       NaN          NaN             NaN   \n",
       "not.fully.paid               NaN       NaN          NaN             NaN   \n",
       "0                            NaN       NaN          NaN             NaN   \n",
       "1                            NaN       NaN          NaN             NaN   \n",
       "2                            NaN       NaN          NaN             NaN   \n",
       "3                            NaN       NaN          NaN             NaN   \n",
       "4                            NaN       NaN          NaN             NaN   \n",
       "5                            NaN       NaN          NaN             NaN   \n",
       "6                            NaN       NaN          NaN             NaN   \n",
       "\n",
       "                        dti      fico  days.with.cr.line  revol.bal  \\\n",
       "credit.policy      0.099434  0.376427           0.101181   0.072401   \n",
       "int.rate           0.216173  0.688037           0.111029   0.120280   \n",
       "installment        0.030459  0.100184           0.188301   0.340355   \n",
       "log.annual.inc     0.033144  0.108624           0.368117   0.497762   \n",
       "dti                     NaN  0.229796           0.106185   0.331974   \n",
       "fico                    NaN       NaN           0.257354   0.039980   \n",
       "days.with.cr.line       NaN       NaN                NaN   0.347905   \n",
       "revol.bal               NaN       NaN                NaN        NaN   \n",
       "revol.util              NaN       NaN                NaN        NaN   \n",
       "inq.last.6mths          NaN       NaN                NaN        NaN   \n",
       "delinq.2yrs             NaN       NaN                NaN        NaN   \n",
       "pub.rec                 NaN       NaN                NaN        NaN   \n",
       "not.fully.paid          NaN       NaN                NaN        NaN   \n",
       "0                       NaN       NaN                NaN        NaN   \n",
       "1                       NaN       NaN                NaN        NaN   \n",
       "2                       NaN       NaN                NaN        NaN   \n",
       "3                       NaN       NaN                NaN        NaN   \n",
       "4                       NaN       NaN                NaN        NaN   \n",
       "5                       NaN       NaN                NaN        NaN   \n",
       "6                       NaN       NaN                NaN        NaN   \n",
       "\n",
       "                   revol.util  inq.last.6mths  delinq.2yrs   pub.rec  \\\n",
       "credit.policy        0.091759        0.590312     0.046999  0.057150   \n",
       "int.rate             0.425121        0.196710     0.159041  0.101933   \n",
       "installment          0.054280        0.003863     0.000433  0.018926   \n",
       "log.annual.inc       0.072499        0.036035     0.011111  0.017962   \n",
       "dti                  0.322933        0.021282     0.022963  0.024981   \n",
       "fico                 0.500587        0.182689     0.213893  0.152350   \n",
       "days.with.cr.line    0.025388        0.026125     0.084745  0.083302   \n",
       "revol.bal            0.392370        0.017503     0.060919  0.038281   \n",
       "revol.util                NaN        0.048031     0.033082  0.076373   \n",
       "inq.last.6mths            NaN             NaN     0.005569  0.099162   \n",
       "delinq.2yrs               NaN             NaN          NaN  0.010636   \n",
       "pub.rec                   NaN             NaN          NaN       NaN   \n",
       "not.fully.paid            NaN             NaN          NaN       NaN   \n",
       "0                         NaN             NaN          NaN       NaN   \n",
       "1                         NaN             NaN          NaN       NaN   \n",
       "2                         NaN             NaN          NaN       NaN   \n",
       "3                         NaN             NaN          NaN       NaN   \n",
       "4                         NaN             NaN          NaN       NaN   \n",
       "5                         NaN             NaN          NaN       NaN   \n",
       "6                         NaN             NaN          NaN       NaN   \n",
       "\n",
       "                   not.fully.paid         0         1         2         3  \\\n",
       "credit.policy            0.207656  0.036755  0.018639  0.028398  0.036266   \n",
       "int.rate                 0.213364  0.124357  0.043091  0.087392  0.015708   \n",
       "installment              0.073120  0.211689  0.017985  0.106359  0.097793   \n",
       "log.annual.inc           0.038669  0.097143  0.079525  0.038429  0.115764   \n",
       "dti                      0.057437  0.115004  0.074994  0.169160  0.032611   \n",
       "fico                     0.206960  0.045636  0.007675  0.142628  0.005775   \n",
       "days.with.cr.line        0.042858  0.086902  0.068663  0.006350  0.054358   \n",
       "revol.bal                0.048333  0.135699  0.136661  0.066945  0.073427   \n",
       "revol.util               0.106715  0.102856  0.089784  0.192379  0.062966   \n",
       "inq.last.6mths           0.194468  0.019961  0.059136  0.055888  0.055637   \n",
       "delinq.2yrs              0.014558  0.005784  0.000712  0.021278  0.018106   \n",
       "pub.rec                  0.066376  0.049828  0.033513  0.030363  0.001563   \n",
       "not.fully.paid                NaN  0.007372  0.068103  0.021766  0.024767   \n",
       "0                             NaN       NaN  0.207095  0.470924  0.114460   \n",
       "1                             NaN       NaN       NaN  0.300847  0.073122   \n",
       "2                             NaN       NaN       NaN       NaN  0.166276   \n",
       "3                             NaN       NaN       NaN       NaN       NaN   \n",
       "4                             NaN       NaN       NaN       NaN       NaN   \n",
       "5                             NaN       NaN       NaN       NaN       NaN   \n",
       "6                             NaN       NaN       NaN       NaN       NaN   \n",
       "\n",
       "                          4         5         6  \n",
       "credit.policy      0.010276  0.035970  0.005179  \n",
       "int.rate           0.046008  0.058895  0.180712  \n",
       "installment        0.033983  0.048335  0.188294  \n",
       "log.annual.inc     0.105800  0.026191  0.127590  \n",
       "dti                0.082125  0.073326  0.058788  \n",
       "fico               0.089360  0.064047  0.067879  \n",
       "days.with.cr.line  0.059540  0.032992  0.049865  \n",
       "revol.bal          0.024884  0.097307  0.074609  \n",
       "revol.util         0.105807  0.118821  0.061387  \n",
       "inq.last.6mths     0.074739  0.007971  0.034587  \n",
       "delinq.2yrs        0.016170  0.003356  0.032194  \n",
       "pub.rec            0.000190  0.021632  0.000960  \n",
       "not.fully.paid     0.017613  0.049649  0.106372  \n",
       "0                  0.155435  0.114173  0.173836  \n",
       "1                  0.099299  0.072939  0.111054  \n",
       "2                  0.225801  0.165860  0.252532  \n",
       "3                  0.054882  0.040313  0.061379  \n",
       "4                       NaN  0.054745  0.083352  \n",
       "5                       NaN       NaN  0.061225  \n",
       "6                       NaN       NaN       NaN  "
      ]
     },
     "execution_count": 25,
     "metadata": {},
     "output_type": "execute_result"
    }
   ],
   "source": [
    "upper_tri = cor_matrix.where(np.triu(np.ones(cor_matrix.shape),k=1).astype(bool))\n",
    "upper_tri"
   ]
  },
  {
   "cell_type": "markdown",
   "id": "2341b20a-e9b5-4bc9-8369-6bd1f0d87706",
   "metadata": {},
   "source": [
    "### Droping those features which have a strong correlation"
   ]
  },
  {
   "cell_type": "code",
   "execution_count": 26,
   "id": "9646a039-35d1-4256-8f8d-2996a9060bc4",
   "metadata": {},
   "outputs": [
    {
     "name": "stdout",
     "output_type": "stream",
     "text": [
      "[]\n"
     ]
    }
   ],
   "source": [
    "to_drop = [column for column in upper_tri.columns if any(upper_tri[column] > 0.8)]\n",
    "print(to_drop)"
   ]
  },
  {
   "cell_type": "code",
   "execution_count": 27,
   "id": "cb3b34e8-57f7-4406-882f-c26e2e5e7118",
   "metadata": {},
   "outputs": [],
   "source": [
    "df3.drop(to_drop,axis=1,inplace=True)"
   ]
  },
  {
   "cell_type": "code",
   "execution_count": 28,
   "id": "c2dadf17-b161-49be-bd41-a94b20955a85",
   "metadata": {},
   "outputs": [
    {
     "data": {
      "text/plain": [
       "not.fully.paid       1.000000\n",
       "int.rate             0.213364\n",
       "inq.last.6mths       0.194468\n",
       "revol.util           0.106715\n",
       "6                    0.106372\n",
       "installment          0.073120\n",
       "pub.rec              0.066376\n",
       "dti                  0.057437\n",
       "revol.bal            0.048333\n",
       "3                    0.024767\n",
       "4                    0.017613\n",
       "delinq.2yrs          0.014558\n",
       "0                    0.007372\n",
       "2                   -0.021766\n",
       "log.annual.inc      -0.038669\n",
       "days.with.cr.line   -0.042858\n",
       "5                   -0.049649\n",
       "1                   -0.068103\n",
       "fico                -0.206960\n",
       "credit.policy       -0.207656\n",
       "Name: not.fully.paid, dtype: float64"
      ]
     },
     "execution_count": 28,
     "metadata": {},
     "output_type": "execute_result"
    }
   ],
   "source": [
    "df3.corr()['not.fully.paid'].sort_values(ascending = False)"
   ]
  },
  {
   "cell_type": "markdown",
   "id": "fffbd2b0-dde8-4c89-8d98-00cb4b15db06",
   "metadata": {},
   "source": [
    "# Modeling"
   ]
  },
  {
   "cell_type": "code",
   "execution_count": 29,
   "id": "c629fb21-009a-41c7-8203-a8ae75726add",
   "metadata": {},
   "outputs": [
    {
     "data": {
      "text/plain": [
       "(16090, 20)"
      ]
     },
     "execution_count": 29,
     "metadata": {},
     "output_type": "execute_result"
    }
   ],
   "source": [
    "df3.shape"
   ]
  },
  {
   "cell_type": "code",
   "execution_count": 30,
   "id": "452561a4-fccd-4891-909a-e24cead7c955",
   "metadata": {},
   "outputs": [],
   "source": [
    "X = df3.drop('not.fully.paid',axis=1,inplace = False)\n",
    "y = df3['not.fully.paid']"
   ]
  },
  {
   "cell_type": "code",
   "execution_count": 31,
   "id": "9e11d896-f8d5-4b5c-a153-55658db76dd1",
   "metadata": {},
   "outputs": [],
   "source": [
    "scFeatures = StandardScaler()\n",
    "X = pd.DataFrame(scFeatures.fit_transform(X))"
   ]
  },
  {
   "cell_type": "code",
   "execution_count": 36,
   "id": "b5954109-709e-4db9-95fd-9af95dcec006",
   "metadata": {},
   "outputs": [],
   "source": [
    "def create_model(layers,outputs,activation_fn,activation_fn_output,optim_fn,loss_fn,metric_fn):\n",
    "    model = tf.keras.models.Sequential()\n",
    "    for i,nodes in enumerate(layers):\n",
    "        if (i==0):\n",
    "            model.add(tf.keras.layers.Dense( units = nodes  , activation= activation_fn , input_shape= (X.shape[1],)))\n",
    "        else:\n",
    "            model.add(tf.keras.layers.Dropout(0.2))\n",
    "            model.add(tf.keras.layers.Dense( units = nodes , activation= activation_fn ))\n",
    "    model.add(tf.keras.layers.Dense( units = outputs, activation= activation_fn_output ))\n",
    "    model.compile(optimizer=optim_fn,loss=loss_fn,metrics=[metric_fn])\n",
    "    return model\n",
    "model = KerasClassifier(build_fn= create_model,verbose=0)"
   ]
  },
  {
   "cell_type": "markdown",
   "id": "7ce3012e-c20a-4e84-b2c0-9b8316293c20",
   "metadata": {},
   "source": [
    "## Optimising the Hyper-Parameters using GridSearchCV"
   ]
  },
  {
   "cell_type": "code",
   "execution_count": 37,
   "id": "4db38d01-a0eb-41ec-b709-41de20fc235c",
   "metadata": {},
   "outputs": [],
   "source": [
    "layers = [[20],[12,12],[256,256,256]]\n",
    "activations = ['sigmoid','relu']\n",
    "activations_output = ['softmax','sigmoid']\n",
    "optim_fn=['sgd','adam']\n",
    "loss_fn =['binary_crossentropy']\n",
    "metric_fn = ['accuracy']\n",
    "param_grid = dict(layers=layers,outputs=[1],activation_fn=activations,activation_fn_output=activations_output,optim_fn= optim_fn,loss_fn=loss_fn,metric_fn=metric_fn,batch_size = [64,128,256],epochs = [10,20])\n",
    "grid = GridSearchCV(estimator = model,param_grid = param_grid)"
   ]
  },
  {
   "cell_type": "code",
   "execution_count": 38,
   "id": "87a402d4-5e6a-4ece-b450-1cbfd57ddd2a",
   "metadata": {},
   "outputs": [],
   "source": [
    "grid_results = grid.fit(X,y)"
   ]
  },
  {
   "cell_type": "code",
   "execution_count": 39,
   "id": "8f29b3b2-d1a7-4088-a07a-3380eba27e59",
   "metadata": {},
   "outputs": [
    {
     "name": "stdout",
     "output_type": "stream",
     "text": [
      "Best Score:  0.8025481700897217\n",
      "------------------------\n",
      "{'activation_fn': 'relu', 'activation_fn_output': 'sigmoid', 'batch_size': 64, 'epochs': 20, 'layers': [256, 256, 256], 'loss_fn': 'binary_crossentropy', 'metric_fn': 'accuracy', 'optim_fn': 'adam', 'outputs': 1}\n"
     ]
    }
   ],
   "source": [
    "print(\"Best Score: \",grid_results.best_score_)\n",
    "print('------------------------')\n",
    "print(grid_results.best_params_)"
   ]
  },
  {
   "cell_type": "markdown",
   "id": "655879be-c7b1-475c-8cc4-5d803507698b",
   "metadata": {},
   "source": [
    "## Selecting Best Train-Test Split using Cross Validation"
   ]
  },
  {
   "cell_type": "code",
   "execution_count": 55,
   "id": "b7a5ef86-73f8-420f-8ee4-993cb491bc50",
   "metadata": {},
   "outputs": [],
   "source": [
    "X = df3.drop('not.fully.paid',axis=1,inplace = False)\n",
    "y = df3['not.fully.paid']"
   ]
  },
  {
   "cell_type": "code",
   "execution_count": 56,
   "id": "8755819b-f9bd-4d7a-b6b7-e274f1414d88",
   "metadata": {},
   "outputs": [
    {
     "name": "stdout",
     "output_type": "stream",
     "text": [
      "453/453 [==============================] - 2s 3ms/step - loss: 42.8847 - accuracy: 0.5021\n",
      "51/51 [==============================] - 0s 1ms/step - loss: 0.9897 - accuracy: 0.5158\n",
      "453/453 [==============================] - 1s 1ms/step - loss: 1.0014 - accuracy: 0.5243\n",
      "Test Score 0.516, Train Score 0.524 for Sample Split 1\n",
      "453/453 [==============================] - 1s 2ms/step - loss: 30.2826 - accuracy: 0.5054\n",
      "51/51 [==============================] - 0s 1ms/step - loss: 3.5399 - accuracy: 0.5146\n",
      "453/453 [==============================] - 1s 1ms/step - loss: 3.4140 - accuracy: 0.5011\n",
      "Test Score 0.515, Train Score 0.501 for Sample Split 2\n",
      "453/453 [==============================] - 1s 2ms/step - loss: 30.9926 - accuracy: 0.5078\n",
      "51/51 [==============================] - 0s 1ms/step - loss: 0.7445 - accuracy: 0.5084\n",
      "453/453 [==============================] - 1s 1ms/step - loss: 0.7483 - accuracy: 0.4973\n",
      "Test Score 0.508, Train Score 0.497 for Sample Split 3\n",
      "453/453 [==============================] - 1s 2ms/step - loss: 33.7965 - accuracy: 0.5065\n",
      "51/51 [==============================] - 0s 1ms/step - loss: 1.0931 - accuracy: 0.5320\n",
      "453/453 [==============================] - 1s 1ms/step - loss: 1.1715 - accuracy: 0.5106\n",
      "Test Score 0.532, Train Score 0.511 for Sample Split 4\n",
      "453/453 [==============================] - 2s 3ms/step - loss: 31.3475 - accuracy: 0.4993\n",
      "51/51 [==============================] - 0s 1ms/step - loss: 0.8992 - accuracy: 0.5109\n",
      "453/453 [==============================] - 1s 1ms/step - loss: 0.8907 - accuracy: 0.5098\n",
      "Test Score 0.511, Train Score 0.51 for Sample Split 5\n",
      "453/453 [==============================] - 2s 3ms/step - loss: 26.4411 - accuracy: 0.4993\n",
      "51/51 [==============================] - 0s 1ms/step - loss: 0.6945 - accuracy: 0.4935\n",
      "453/453 [==============================] - 1s 1ms/step - loss: 0.6924 - accuracy: 0.5182\n",
      "Test Score 0.493, Train Score 0.518 for Sample Split 6\n",
      "453/453 [==============================] - 2s 3ms/step - loss: 31.2938 - accuracy: 0.5040\n",
      "51/51 [==============================] - 0s 1ms/step - loss: 0.7238 - accuracy: 0.4997\n",
      "453/453 [==============================] - 1s 1ms/step - loss: 0.7291 - accuracy: 0.5181\n",
      "Test Score 0.5, Train Score 0.518 for Sample Split 7\n",
      "453/453 [==============================] - 1s 3ms/step - loss: 33.5859 - accuracy: 0.5021\n",
      "51/51 [==============================] - 0s 1ms/step - loss: 2.4085 - accuracy: 0.5264\n",
      "453/453 [==============================] - 1s 1ms/step - loss: 2.7107 - accuracy: 0.5175\n",
      "Test Score 0.526, Train Score 0.518 for Sample Split 8\n",
      "453/453 [==============================] - 1s 2ms/step - loss: 31.2371 - accuracy: 0.5024\n",
      "51/51 [==============================] - 0s 1ms/step - loss: 1.5580 - accuracy: 0.4953\n",
      "453/453 [==============================] - 1s 1ms/step - loss: 1.5757 - accuracy: 0.5029\n",
      "Test Score 0.495, Train Score 0.503 for Sample Split 9\n",
      "453/453 [==============================] - 1s 3ms/step - loss: 32.4922 - accuracy: 0.5038\n",
      "51/51 [==============================] - 0s 1ms/step - loss: 0.7207 - accuracy: 0.4922\n",
      "453/453 [==============================] - 1s 1ms/step - loss: 0.7196 - accuracy: 0.4830\n",
      "Test Score 0.492, Train Score 0.483 for Sample Split 10\n"
     ]
    }
   ],
   "source": [
    "kfold = KFold(n_splits=10, shuffle=True, random_state=1)\n",
    "counter = 0\n",
    "'''for train,test in kfold.split(X):\n",
    "    print(X[train][:],X[test][:])\n",
    "    print('--------------')'''\n",
    "for train,test in kfold.split(X,y):\n",
    "    counter+=1\n",
    "    X_train,X_test = X.iloc[train],X.iloc[test]\n",
    "    y_train,y_test = y.iloc[train],y.iloc[test]\n",
    "    model = create_model(layers=[256, 256, 256],outputs = 1,activation_fn='relu',activation_fn_output='sigmoid',\n",
    "                         optim_fn='adam',loss_fn = 'binary_crossentropy',metric_fn = ['accuracy'])\n",
    "    model.fit(X_train,y_train)\n",
    "    print(\"Test Score {}, Train Score {} for Sample Split {}\".format(round(model.evaluate(X_test,y_test)[1],3),\n",
    "                                                                     round(model.evaluate(X_train,y_train)[1],3),counter))"
   ]
  },
  {
   "cell_type": "code",
   "execution_count": 57,
   "id": "13881fd0-e35b-4280-9d64-025b3c7993df",
   "metadata": {},
   "outputs": [],
   "source": [
    "kfold = KFold(n_splits=10, shuffle=True, random_state=1)\n",
    "counter = 0\n",
    "for train,test in kfold.split(X):\n",
    "    counter+=1 \n",
    "    if counter==4 :\n",
    "        X_train,X_test = X.iloc[train],X.iloc[test]\n",
    "        y_train,y_test = y.iloc[train],y.iloc[test]"
   ]
  },
  {
   "cell_type": "markdown",
   "id": "de65a486-351a-4d6d-b09c-5ba8dc610d62",
   "metadata": {},
   "source": [
    "## Scaling the Data"
   ]
  },
  {
   "cell_type": "code",
   "execution_count": 58,
   "id": "b186ed1e-0a79-473a-a5a8-30b562554d3d",
   "metadata": {},
   "outputs": [],
   "source": [
    "scFeatures = StandardScaler()\n",
    "X_train = pd.DataFrame(scFeatures.fit_transform(X_train))\n",
    "X_test = pd.DataFrame(scFeatures.transform(X_test))"
   ]
  },
  {
   "cell_type": "markdown",
   "id": "71fb7077-b513-4044-a103-4535157020d9",
   "metadata": {},
   "source": [
    "## Training the Final Deep Learning Model"
   ]
  },
  {
   "cell_type": "code",
   "execution_count": 88,
   "id": "70dbf436-f016-469d-b3f9-40149a4165e2",
   "metadata": {},
   "outputs": [],
   "source": [
    "#Custom Callback\n",
    "\n",
    "class MyThresholdCallBack(tf.keras.callbacks.Callback):\n",
    "    def __init__(self,cl):\n",
    "        super(MyThresholdCallBack, self).__init__()\n",
    "        self.cl = cl\n",
    "        \n",
    "    def on_epoch_end(self, epoch, logs=None):\n",
    "        #test_score = logs[\"val_f1_score\"]\n",
    "        #train_score = logs[\"f1_score\"]\n",
    "        test_score = logs[\"val_accuracy\"]\n",
    "        train_score = logs[\"accuracy\"]\n",
    "        if test_score > train_score and test_score > self.cl:\n",
    "            self.model.stop_training = True"
   ]
  },
  {
   "cell_type": "code",
   "execution_count": 89,
   "id": "82e48b40-883a-4b1a-b2cf-9df6ccdd901f",
   "metadata": {},
   "outputs": [],
   "source": [
    "model = create_model(layers=[256, 256, 256],outputs = 1,activation_fn='relu',activation_fn_output='sigmoid',\n",
    "                         optim_fn='adam',loss_fn = 'binary_crossentropy',metric_fn = ['accuracy'])"
   ]
  },
  {
   "cell_type": "code",
   "execution_count": 90,
   "id": "1c099c40-e5e7-4725-bcae-312f25d681ab",
   "metadata": {},
   "outputs": [
    {
     "name": "stdout",
     "output_type": "stream",
     "text": [
      "Epoch 1/100\n",
      "57/57 [==============================] - 1s 6ms/step - loss: 0.6408 - accuracy: 0.6220 - val_loss: 0.6101 - val_accuracy: 0.6625\n",
      "Epoch 2/100\n",
      "57/57 [==============================] - 0s 5ms/step - loss: 0.6239 - accuracy: 0.6416 - val_loss: 0.5977 - val_accuracy: 0.6706\n",
      "Epoch 3/100\n",
      "57/57 [==============================] - 0s 5ms/step - loss: 0.6151 - accuracy: 0.6537 - val_loss: 0.5967 - val_accuracy: 0.6650\n",
      "Epoch 4/100\n",
      "57/57 [==============================] - 0s 6ms/step - loss: 0.6066 - accuracy: 0.6585 - val_loss: 0.5886 - val_accuracy: 0.6787\n",
      "Epoch 5/100\n",
      "57/57 [==============================] - 0s 6ms/step - loss: 0.6014 - accuracy: 0.6605 - val_loss: 0.5863 - val_accuracy: 0.6799\n",
      "Epoch 6/100\n",
      "57/57 [==============================] - 0s 6ms/step - loss: 0.5938 - accuracy: 0.6712 - val_loss: 0.5810 - val_accuracy: 0.6979\n",
      "Epoch 7/100\n",
      "57/57 [==============================] - 0s 6ms/step - loss: 0.5867 - accuracy: 0.6826 - val_loss: 0.5748 - val_accuracy: 0.6936\n",
      "Epoch 8/100\n",
      "57/57 [==============================] - 0s 6ms/step - loss: 0.5770 - accuracy: 0.6858 - val_loss: 0.5706 - val_accuracy: 0.6874\n",
      "Epoch 9/100\n",
      "57/57 [==============================] - 0s 6ms/step - loss: 0.5710 - accuracy: 0.6907 - val_loss: 0.5653 - val_accuracy: 0.7054\n",
      "Epoch 10/100\n",
      "57/57 [==============================] - 0s 6ms/step - loss: 0.5587 - accuracy: 0.7026 - val_loss: 0.5654 - val_accuracy: 0.6986\n",
      "Epoch 11/100\n",
      "57/57 [==============================] - 0s 6ms/step - loss: 0.5520 - accuracy: 0.7110 - val_loss: 0.5424 - val_accuracy: 0.7216\n",
      "Epoch 12/100\n",
      "57/57 [==============================] - 0s 6ms/step - loss: 0.5437 - accuracy: 0.7160 - val_loss: 0.5420 - val_accuracy: 0.7172\n",
      "Epoch 13/100\n",
      "57/57 [==============================] - 0s 6ms/step - loss: 0.5320 - accuracy: 0.7237 - val_loss: 0.5442 - val_accuracy: 0.7216\n",
      "Epoch 14/100\n",
      "57/57 [==============================] - 0s 6ms/step - loss: 0.5246 - accuracy: 0.7309 - val_loss: 0.5274 - val_accuracy: 0.7272\n",
      "Epoch 15/100\n",
      "57/57 [==============================] - 0s 6ms/step - loss: 0.5142 - accuracy: 0.7371 - val_loss: 0.5136 - val_accuracy: 0.7408\n",
      "Epoch 16/100\n",
      "57/57 [==============================] - 0s 6ms/step - loss: 0.5105 - accuracy: 0.7408 - val_loss: 0.5100 - val_accuracy: 0.7383\n",
      "Epoch 17/100\n",
      "57/57 [==============================] - 0s 6ms/step - loss: 0.4935 - accuracy: 0.7524 - val_loss: 0.4992 - val_accuracy: 0.7533\n",
      "Epoch 18/100\n",
      "57/57 [==============================] - 0s 6ms/step - loss: 0.4855 - accuracy: 0.7586 - val_loss: 0.5056 - val_accuracy: 0.7483\n",
      "Epoch 19/100\n",
      "57/57 [==============================] - 0s 6ms/step - loss: 0.4811 - accuracy: 0.7608 - val_loss: 0.4815 - val_accuracy: 0.7570\n",
      "Epoch 20/100\n",
      "57/57 [==============================] - 0s 6ms/step - loss: 0.4678 - accuracy: 0.7698 - val_loss: 0.4716 - val_accuracy: 0.7657\n",
      "Epoch 21/100\n",
      "57/57 [==============================] - 0s 6ms/step - loss: 0.4632 - accuracy: 0.7759 - val_loss: 0.4809 - val_accuracy: 0.7626\n",
      "Epoch 22/100\n",
      "57/57 [==============================] - 0s 6ms/step - loss: 0.4524 - accuracy: 0.7782 - val_loss: 0.4883 - val_accuracy: 0.7626\n",
      "Epoch 23/100\n",
      "57/57 [==============================] - 0s 6ms/step - loss: 0.4385 - accuracy: 0.7867 - val_loss: 0.4568 - val_accuracy: 0.7868\n",
      "Epoch 24/100\n",
      "57/57 [==============================] - 0s 6ms/step - loss: 0.4379 - accuracy: 0.7861 - val_loss: 0.4460 - val_accuracy: 0.7856\n",
      "Epoch 25/100\n",
      "57/57 [==============================] - 0s 7ms/step - loss: 0.4215 - accuracy: 0.7972 - val_loss: 0.4281 - val_accuracy: 0.8080\n",
      "Epoch 26/100\n",
      "57/57 [==============================] - 0s 6ms/step - loss: 0.4167 - accuracy: 0.8016 - val_loss: 0.4315 - val_accuracy: 0.8086\n",
      "Epoch 27/100\n",
      "57/57 [==============================] - 0s 6ms/step - loss: 0.4092 - accuracy: 0.8067 - val_loss: 0.4177 - val_accuracy: 0.8123\n",
      "Epoch 28/100\n",
      "57/57 [==============================] - 0s 6ms/step - loss: 0.4009 - accuracy: 0.8103 - val_loss: 0.4121 - val_accuracy: 0.8104\n",
      "Epoch 29/100\n",
      "57/57 [==============================] - 0s 6ms/step - loss: 0.3929 - accuracy: 0.8165 - val_loss: 0.4274 - val_accuracy: 0.8024\n",
      "Epoch 30/100\n",
      "57/57 [==============================] - 0s 6ms/step - loss: 0.3796 - accuracy: 0.8243 - val_loss: 0.4064 - val_accuracy: 0.8135\n",
      "Epoch 31/100\n",
      "57/57 [==============================] - 0s 6ms/step - loss: 0.3734 - accuracy: 0.8270 - val_loss: 0.4102 - val_accuracy: 0.8160\n",
      "Epoch 32/100\n",
      "57/57 [==============================] - 0s 6ms/step - loss: 0.3771 - accuracy: 0.8275 - val_loss: 0.4006 - val_accuracy: 0.8291\n",
      "Epoch 33/100\n",
      "57/57 [==============================] - 0s 6ms/step - loss: 0.3670 - accuracy: 0.8323 - val_loss: 0.3882 - val_accuracy: 0.8297\n",
      "Epoch 34/100\n",
      "57/57 [==============================] - 0s 6ms/step - loss: 0.3558 - accuracy: 0.8420 - val_loss: 0.3812 - val_accuracy: 0.8328\n",
      "Epoch 35/100\n",
      "57/57 [==============================] - 0s 6ms/step - loss: 0.3487 - accuracy: 0.8427 - val_loss: 0.3763 - val_accuracy: 0.8365\n",
      "Epoch 36/100\n",
      "57/57 [==============================] - 0s 6ms/step - loss: 0.3465 - accuracy: 0.8403 - val_loss: 0.3732 - val_accuracy: 0.8446\n",
      "Epoch 37/100\n",
      "57/57 [==============================] - 0s 6ms/step - loss: 0.3368 - accuracy: 0.8471 - val_loss: 0.3652 - val_accuracy: 0.8490\n",
      "Epoch 38/100\n",
      "57/57 [==============================] - 0s 6ms/step - loss: 0.3310 - accuracy: 0.8516 - val_loss: 0.3855 - val_accuracy: 0.8310\n",
      "Epoch 39/100\n",
      "57/57 [==============================] - 0s 6ms/step - loss: 0.3289 - accuracy: 0.8526 - val_loss: 0.3788 - val_accuracy: 0.8397\n",
      "Epoch 40/100\n",
      "57/57 [==============================] - 0s 6ms/step - loss: 0.3200 - accuracy: 0.8593 - val_loss: 0.3947 - val_accuracy: 0.8297\n",
      "Epoch 41/100\n",
      "57/57 [==============================] - 0s 6ms/step - loss: 0.3153 - accuracy: 0.8608 - val_loss: 0.3686 - val_accuracy: 0.8446\n",
      "Epoch 42/100\n",
      "57/57 [==============================] - 0s 6ms/step - loss: 0.3040 - accuracy: 0.8703 - val_loss: 0.3655 - val_accuracy: 0.8471\n",
      "Epoch 43/100\n",
      "57/57 [==============================] - 0s 6ms/step - loss: 0.3121 - accuracy: 0.8620 - val_loss: 0.3381 - val_accuracy: 0.8626\n",
      "Epoch 44/100\n",
      "57/57 [==============================] - 0s 6ms/step - loss: 0.2989 - accuracy: 0.8698 - val_loss: 0.3410 - val_accuracy: 0.8577\n",
      "Epoch 45/100\n",
      "57/57 [==============================] - 0s 6ms/step - loss: 0.2988 - accuracy: 0.8694 - val_loss: 0.3561 - val_accuracy: 0.8428\n",
      "Epoch 46/100\n",
      "57/57 [==============================] - 0s 6ms/step - loss: 0.2926 - accuracy: 0.8725 - val_loss: 0.3464 - val_accuracy: 0.8552\n",
      "Epoch 47/100\n",
      "57/57 [==============================] - 0s 6ms/step - loss: 0.2810 - accuracy: 0.8779 - val_loss: 0.3367 - val_accuracy: 0.8571\n",
      "Epoch 48/100\n",
      "57/57 [==============================] - 0s 6ms/step - loss: 0.2857 - accuracy: 0.8761 - val_loss: 0.3249 - val_accuracy: 0.8745\n",
      "Epoch 49/100\n",
      "57/57 [==============================] - 0s 6ms/step - loss: 0.2761 - accuracy: 0.8822 - val_loss: 0.3285 - val_accuracy: 0.8713\n",
      "Epoch 50/100\n",
      "57/57 [==============================] - 0s 6ms/step - loss: 0.2722 - accuracy: 0.8803 - val_loss: 0.3252 - val_accuracy: 0.8738\n",
      "Epoch 51/100\n",
      "57/57 [==============================] - 0s 6ms/step - loss: 0.2691 - accuracy: 0.8842 - val_loss: 0.3198 - val_accuracy: 0.8726\n",
      "Epoch 52/100\n",
      "57/57 [==============================] - 0s 6ms/step - loss: 0.2671 - accuracy: 0.8839 - val_loss: 0.3166 - val_accuracy: 0.8763\n",
      "Epoch 53/100\n",
      "57/57 [==============================] - 0s 6ms/step - loss: 0.2603 - accuracy: 0.8856 - val_loss: 0.3192 - val_accuracy: 0.8682\n",
      "Epoch 54/100\n",
      "57/57 [==============================] - 0s 6ms/step - loss: 0.2608 - accuracy: 0.8894 - val_loss: 0.3363 - val_accuracy: 0.8658\n",
      "Epoch 55/100\n",
      "57/57 [==============================] - 0s 6ms/step - loss: 0.2457 - accuracy: 0.8979 - val_loss: 0.3232 - val_accuracy: 0.8670\n",
      "Epoch 56/100\n",
      "57/57 [==============================] - 0s 6ms/step - loss: 0.2484 - accuracy: 0.8981 - val_loss: 0.3082 - val_accuracy: 0.8769\n",
      "Epoch 57/100\n",
      "57/57 [==============================] - 0s 6ms/step - loss: 0.2466 - accuracy: 0.8946 - val_loss: 0.2881 - val_accuracy: 0.8875\n",
      "Epoch 58/100\n",
      "57/57 [==============================] - 0s 6ms/step - loss: 0.2409 - accuracy: 0.8986 - val_loss: 0.3198 - val_accuracy: 0.8745\n",
      "Epoch 59/100\n",
      "57/57 [==============================] - 0s 6ms/step - loss: 0.2407 - accuracy: 0.8991 - val_loss: 0.3242 - val_accuracy: 0.8651\n",
      "Epoch 60/100\n",
      "57/57 [==============================] - 0s 6ms/step - loss: 0.2311 - accuracy: 0.9033 - val_loss: 0.3417 - val_accuracy: 0.8670\n",
      "Epoch 61/100\n",
      "57/57 [==============================] - 0s 6ms/step - loss: 0.2328 - accuracy: 0.9021 - val_loss: 0.3045 - val_accuracy: 0.8769\n",
      "Epoch 62/100\n",
      "57/57 [==============================] - 0s 6ms/step - loss: 0.2217 - accuracy: 0.9060 - val_loss: 0.3058 - val_accuracy: 0.8788\n",
      "Epoch 63/100\n",
      "57/57 [==============================] - 0s 7ms/step - loss: 0.2298 - accuracy: 0.9062 - val_loss: 0.3069 - val_accuracy: 0.8832\n",
      "Epoch 64/100\n",
      "57/57 [==============================] - 0s 6ms/step - loss: 0.2202 - accuracy: 0.9069 - val_loss: 0.2937 - val_accuracy: 0.8900\n",
      "Epoch 65/100\n",
      "57/57 [==============================] - 0s 6ms/step - loss: 0.2163 - accuracy: 0.9100 - val_loss: 0.3311 - val_accuracy: 0.8701\n",
      "Epoch 66/100\n",
      "57/57 [==============================] - 0s 6ms/step - loss: 0.2198 - accuracy: 0.9057 - val_loss: 0.3191 - val_accuracy: 0.8738\n",
      "Epoch 67/100\n",
      "57/57 [==============================] - 0s 6ms/step - loss: 0.2171 - accuracy: 0.9091 - val_loss: 0.3233 - val_accuracy: 0.8757\n",
      "Epoch 68/100\n",
      "57/57 [==============================] - 0s 6ms/step - loss: 0.2146 - accuracy: 0.9126 - val_loss: 0.3050 - val_accuracy: 0.8894\n",
      "Epoch 69/100\n",
      "57/57 [==============================] - 0s 6ms/step - loss: 0.2057 - accuracy: 0.9153 - val_loss: 0.2930 - val_accuracy: 0.8912\n",
      "Epoch 70/100\n",
      "57/57 [==============================] - 0s 6ms/step - loss: 0.2061 - accuracy: 0.9156 - val_loss: 0.2869 - val_accuracy: 0.8850\n",
      "Epoch 71/100\n",
      "57/57 [==============================] - 0s 6ms/step - loss: 0.2042 - accuracy: 0.9162 - val_loss: 0.2967 - val_accuracy: 0.8894\n",
      "Epoch 72/100\n",
      "57/57 [==============================] - 0s 6ms/step - loss: 0.2020 - accuracy: 0.9192 - val_loss: 0.3046 - val_accuracy: 0.8832\n",
      "Epoch 73/100\n",
      "57/57 [==============================] - 0s 6ms/step - loss: 0.2005 - accuracy: 0.9184 - val_loss: 0.2915 - val_accuracy: 0.8881\n",
      "Epoch 74/100\n",
      "57/57 [==============================] - 0s 6ms/step - loss: 0.1957 - accuracy: 0.9196 - val_loss: 0.2917 - val_accuracy: 0.8906\n",
      "Epoch 75/100\n",
      "57/57 [==============================] - 0s 6ms/step - loss: 0.1985 - accuracy: 0.9180 - val_loss: 0.2975 - val_accuracy: 0.8825\n",
      "Epoch 76/100\n",
      "57/57 [==============================] - 0s 6ms/step - loss: 0.2020 - accuracy: 0.9165 - val_loss: 0.2888 - val_accuracy: 0.8987\n",
      "Epoch 77/100\n",
      "57/57 [==============================] - 0s 6ms/step - loss: 0.1894 - accuracy: 0.9249 - val_loss: 0.2911 - val_accuracy: 0.8888\n",
      "Epoch 78/100\n",
      "57/57 [==============================] - 0s 7ms/step - loss: 0.1915 - accuracy: 0.9203 - val_loss: 0.3005 - val_accuracy: 0.8900\n",
      "Epoch 79/100\n",
      "57/57 [==============================] - 0s 6ms/step - loss: 0.1864 - accuracy: 0.9249 - val_loss: 0.3256 - val_accuracy: 0.8776\n",
      "Epoch 80/100\n",
      "57/57 [==============================] - 0s 6ms/step - loss: 0.1790 - accuracy: 0.9272 - val_loss: 0.3037 - val_accuracy: 0.8856\n",
      "Epoch 81/100\n",
      "57/57 [==============================] - 0s 6ms/step - loss: 0.1767 - accuracy: 0.9276 - val_loss: 0.2619 - val_accuracy: 0.9068\n",
      "Epoch 82/100\n",
      "57/57 [==============================] - 0s 6ms/step - loss: 0.1793 - accuracy: 0.9273 - val_loss: 0.2802 - val_accuracy: 0.8943\n",
      "Epoch 83/100\n",
      "57/57 [==============================] - 0s 6ms/step - loss: 0.1773 - accuracy: 0.9289 - val_loss: 0.3047 - val_accuracy: 0.8863\n",
      "Epoch 84/100\n",
      "57/57 [==============================] - 0s 6ms/step - loss: 0.1795 - accuracy: 0.9270 - val_loss: 0.3058 - val_accuracy: 0.8906\n",
      "Epoch 85/100\n",
      "57/57 [==============================] - 0s 6ms/step - loss: 0.1758 - accuracy: 0.9306 - val_loss: 0.2728 - val_accuracy: 0.8975\n",
      "Epoch 86/100\n",
      "57/57 [==============================] - 0s 6ms/step - loss: 0.1816 - accuracy: 0.9262 - val_loss: 0.3113 - val_accuracy: 0.8912\n",
      "Epoch 87/100\n",
      "57/57 [==============================] - 0s 6ms/step - loss: 0.1670 - accuracy: 0.9347 - val_loss: 0.2882 - val_accuracy: 0.9018\n",
      "Epoch 88/100\n",
      "57/57 [==============================] - 0s 6ms/step - loss: 0.1743 - accuracy: 0.9296 - val_loss: 0.2984 - val_accuracy: 0.8962\n",
      "Epoch 89/100\n",
      "57/57 [==============================] - 0s 6ms/step - loss: 0.1681 - accuracy: 0.9331 - val_loss: 0.2654 - val_accuracy: 0.9030\n",
      "Epoch 90/100\n",
      "57/57 [==============================] - 0s 6ms/step - loss: 0.1655 - accuracy: 0.9330 - val_loss: 0.2780 - val_accuracy: 0.8931\n",
      "Epoch 91/100\n",
      "57/57 [==============================] - 0s 6ms/step - loss: 0.1669 - accuracy: 0.9331 - val_loss: 0.2850 - val_accuracy: 0.9006\n",
      "Epoch 92/100\n",
      "57/57 [==============================] - 0s 6ms/step - loss: 0.1705 - accuracy: 0.9316 - val_loss: 0.3187 - val_accuracy: 0.8894\n",
      "Epoch 93/100\n",
      "57/57 [==============================] - 0s 6ms/step - loss: 0.1657 - accuracy: 0.9321 - val_loss: 0.3184 - val_accuracy: 0.8906\n",
      "Epoch 94/100\n",
      "57/57 [==============================] - 0s 6ms/step - loss: 0.1577 - accuracy: 0.9388 - val_loss: 0.2736 - val_accuracy: 0.9049\n",
      "Epoch 95/100\n",
      "57/57 [==============================] - 0s 6ms/step - loss: 0.1623 - accuracy: 0.9343 - val_loss: 0.2834 - val_accuracy: 0.9012\n",
      "Epoch 96/100\n",
      "57/57 [==============================] - 0s 6ms/step - loss: 0.1587 - accuracy: 0.9372 - val_loss: 0.2736 - val_accuracy: 0.9037\n",
      "Epoch 97/100\n",
      "57/57 [==============================] - 0s 7ms/step - loss: 0.1562 - accuracy: 0.9371 - val_loss: 0.2768 - val_accuracy: 0.9149\n",
      "Epoch 98/100\n",
      "57/57 [==============================] - 0s 6ms/step - loss: 0.1544 - accuracy: 0.9385 - val_loss: 0.3048 - val_accuracy: 0.9030\n",
      "Epoch 99/100\n",
      "57/57 [==============================] - 0s 6ms/step - loss: 0.1515 - accuracy: 0.9391 - val_loss: 0.2879 - val_accuracy: 0.9030\n",
      "Epoch 100/100\n",
      "57/57 [==============================] - 0s 6ms/step - loss: 0.1564 - accuracy: 0.9367 - val_loss: 0.2730 - val_accuracy: 0.9099\n"
     ]
    }
   ],
   "source": [
    "history = model.fit(X_train,y_train,batch_size=256, epochs=100 , validation_data=(X_test,y_test), callbacks=[MyThresholdCallBack(cl=0.88)])"
   ]
  },
  {
   "cell_type": "code",
   "execution_count": 101,
   "id": "d87dcc33-c7fc-4f11-9fcc-0a728acc0a3c",
   "metadata": {},
   "outputs": [
    {
     "name": "stdout",
     "output_type": "stream",
     "text": [
      "51/51 [==============================] - 0s 1ms/step\n"
     ]
    },
    {
     "data": {
      "text/plain": [
       "array([[1],\n",
       "       [1],\n",
       "       [1],\n",
       "       ...,\n",
       "       [0],\n",
       "       [1],\n",
       "       [1]])"
      ]
     },
     "execution_count": 101,
     "metadata": {},
     "output_type": "execute_result"
    }
   ],
   "source": [
    "pr_test =(model.predict(X_test)>0.5).astype(\"int32\")\n",
    "pr_test"
   ]
  },
  {
   "cell_type": "markdown",
   "id": "3b45c72f-f24d-4cd3-9903-85f1c4c02bcc",
   "metadata": {},
   "source": [
    "## Validating the Deep Learning model results"
   ]
  },
  {
   "cell_type": "code",
   "execution_count": 102,
   "id": "c7499720-bf13-4b40-b742-fadfe24fdae4",
   "metadata": {},
   "outputs": [
    {
     "data": {
      "text/plain": [
       "0.9098819142324425"
      ]
     },
     "execution_count": 102,
     "metadata": {},
     "output_type": "execute_result"
    }
   ],
   "source": [
    "accuracy_score(y_test, pr_test)"
   ]
  },
  {
   "cell_type": "code",
   "execution_count": 103,
   "id": "addeaf3e-e256-4afa-bba0-b0c0707bfe2c",
   "metadata": {},
   "outputs": [
    {
     "name": "stdout",
     "output_type": "stream",
     "text": [
      "              precision    recall  f1-score   support\n",
      "\n",
      "           0       0.99      0.84      0.91       843\n",
      "           1       0.85      0.99      0.91       766\n",
      "\n",
      "    accuracy                           0.91      1609\n",
      "   macro avg       0.92      0.91      0.91      1609\n",
      "weighted avg       0.92      0.91      0.91      1609\n",
      "\n"
     ]
    }
   ],
   "source": [
    "print(classification_report(y_test, pr_test))"
   ]
  },
  {
   "cell_type": "code",
   "execution_count": 104,
   "id": "25ef1afa-6d2c-4e0a-9cf4-3cfcfa63d69c",
   "metadata": {},
   "outputs": [
    {
     "name": "stdout",
     "output_type": "stream",
     "text": [
      "AUC:  0.9135206538874899\n"
     ]
    },
    {
     "data": {
      "text/plain": [
       "Text(0.5, 1.0, 'ROC')"
      ]
     },
     "execution_count": 104,
     "metadata": {},
     "output_type": "execute_result"
    },
    {
     "data": {
      "image/png": "[encoded data removed]",
      "text/plain": [
       "<Figure size 432x288 with 1 Axes>"
      ]
     },
     "metadata": {
      "needs_background": "light"
     },
     "output_type": "display_data"
    }
   ],
   "source": [
    "fpr,tpr,threshold = roc_curve(y_test,pr_test)\n",
    "AUC = auc(fpr,tpr)\n",
    "print('AUC: ',AUC)\n",
    "plt.plot(fpr,tpr)\n",
    "plt.xlabel(\"False Positive\")\n",
    "plt.ylabel(\"True Positive\")\n",
    "plt.title(\"ROC\")"
   ]
  },
  {
   "cell_type": "markdown",
   "id": "2bdf2eae-2663-4196-b03a-27540e564e1b",
   "metadata": {},
   "source": [
    "# From the above results we can see that we have built a very good Deep Learning model which has an f1_score of 91.3% and accuracy of 91%.This has been achieved using:\n",
    "### 1.Data Preprocessing,\n",
    "### 2.Balancing the data set by resampling,\n",
    "### 3.Applying EDA techniques to deal with Outliers,\n",
    "### 4.Handling strongly correlated features\n",
    "### 5.Scaling the data,\n",
    "### 6.Creating Artificial Neural Network which can handle over-fitting,\n",
    "### 7.Using GridSearchCV to optimize the hyperparameters,\n",
    "### 8.Using K-fold Cross Validation to find better train-test split,\n",
    "### 9.Modelling Artificial Neural Network\n",
    "### 10.Validating the Deep Learning model results"
   ]
  },
  {
   "cell_type": "code",
   "execution_count": null,
   "id": "3956a2f6-5b0e-45fd-8d14-7e9fe10c63c9",
   "metadata": {},
   "outputs": [],
   "source": []
  }
 ],
 "metadata": {
  "kernelspec": {
   "display_name": "Python 3 (ipykernel)",
   "language": "python",
   "name": "python3"
  },
  "language_info": {
   "codemirror_mode": {
    "name": "ipython",
    "version": 3
   },
   "file_extension": ".py",
   "mimetype": "text/x-python",
   "name": "python",
   "nbconvert_exporter": "python",
   "pygments_lexer": "ipython3",
   "version": "3.9.7"
  }
 },
 "nbformat": 4,
 "nbformat_minor": 5
}
