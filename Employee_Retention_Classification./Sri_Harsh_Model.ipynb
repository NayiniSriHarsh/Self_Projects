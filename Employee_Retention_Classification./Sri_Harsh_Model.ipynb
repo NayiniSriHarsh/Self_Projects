{
 "cells": [
  {
   "cell_type": "code",
   "execution_count": 1,
   "id": "689a5f33-206f-41b2-8718-3b358fc77097",
   "metadata": {},
   "outputs": [],
   "source": [
    "import numpy as np\n",
    "import pandas as pd\n",
    "import matplotlib.pyplot as plt\n",
    "import seaborn as sns\n",
    "import tensorflow as tf\n",
    "import warnings\n",
    "warnings.filterwarnings(\"ignore\")\n",
    "from sklearn. feature_selection import mutual_info_classif\n",
    "from sklearn.model_selection import KFold\n",
    "from sklearn.metrics import accuracy_score,confusion_matrix,classification_report\n",
    "from sklearn.metrics import roc_curve,auc\n",
    "from sklearn.model_selection import GridSearchCV"
   ]
  },
  {
   "cell_type": "code",
   "execution_count": 2,
   "id": "7044a0e8-2e5c-40c5-b730-9ec6e14dfa43",
   "metadata": {},
   "outputs": [
    {
     "name": "stdout",
     "output_type": "stream",
     "text": [
      "<class 'pandas.core.frame.DataFrame'>\n",
      "RangeIndex: 14999 entries, 0 to 14998\n",
      "Data columns (total 10 columns):\n",
      " #   Column                 Non-Null Count  Dtype  \n",
      "---  ------                 --------------  -----  \n",
      " 0   satisfaction_level     14999 non-null  float64\n",
      " 1   last_evaluation        14999 non-null  float64\n",
      " 2   number_project         14999 non-null  int64  \n",
      " 3   average_montly_hours   14999 non-null  int64  \n",
      " 4   time_spend_company     14999 non-null  int64  \n",
      " 5   Work_accident          14999 non-null  int64  \n",
      " 6   left                   14999 non-null  int64  \n",
      " 7   promotion_last_5years  14999 non-null  int64  \n",
      " 8   Department             14999 non-null  object \n",
      " 9   salary                 14999 non-null  object \n",
      "dtypes: float64(2), int64(6), object(2)\n",
      "memory usage: 1.1+ MB\n"
     ]
    }
   ],
   "source": [
    "df = pd.read_csv(\"HR_comma_sep.csv\")\n",
    "df.info()"
   ]
  },
  {
   "cell_type": "code",
   "execution_count": 3,
   "id": "ac0642c9-f626-4a13-ae21-32f5b254428a",
   "metadata": {},
   "outputs": [
    {
     "data": {
      "text/plain": [
       "0    11428\n",
       "1     3571\n",
       "Name: left, dtype: int64"
      ]
     },
     "execution_count": 3,
     "metadata": {},
     "output_type": "execute_result"
    }
   ],
   "source": [
    "df.left.value_counts()"
   ]
  },
  {
   "cell_type": "code",
   "execution_count": 4,
   "id": "c0601ac6-a1f8-4822-9428-295cf7c586fa",
   "metadata": {},
   "outputs": [
    {
     "data": {
      "text/plain": [
       "Index(['Department', 'salary'], dtype='object')"
      ]
     },
     "execution_count": 4,
     "metadata": {},
     "output_type": "execute_result"
    }
   ],
   "source": [
    "Categorical_col = df.select_dtypes(['object']).columns\n",
    "Categorical_col"
   ]
  },
  {
   "cell_type": "code",
   "execution_count": 5,
   "id": "441ad689-2aa1-4a34-bf4f-0eb70cebf230",
   "metadata": {},
   "outputs": [
    {
     "data": {
      "text/plain": [
       "Department    10\n",
       "salary         3\n",
       "dtype: int64"
      ]
     },
     "execution_count": 5,
     "metadata": {},
     "output_type": "execute_result"
    }
   ],
   "source": [
    "df[Categorical_col].nunique()"
   ]
  },
  {
   "cell_type": "code",
   "execution_count": 6,
   "id": "e5d8fbb1-a7ee-453d-a600-263db050a802",
   "metadata": {},
   "outputs": [],
   "source": [
    "from sklearn.model_selection import train_test_split\n",
    "X_col = list(set(df.columns) - set(['left']))\n",
    "y_col = 'left'\n",
    "X = df[X_col]\n",
    "y = df[y_col]"
   ]
  },
  {
   "cell_type": "code",
   "execution_count": 7,
   "id": "a4904066-250e-4d35-b307-492cfa264f8a",
   "metadata": {},
   "outputs": [
    {
     "data": {
      "text/plain": [
       "Index(['time_spend_company', 'last_evaluation', 'average_montly_hours',\n",
       "       'salary', 'promotion_last_5years', 'number_project', 'Work_accident',\n",
       "       'satisfaction_level', 'Department_IT', 'Department_RandD',\n",
       "       'Department_accounting', 'Department_hr', 'Department_management',\n",
       "       'Department_marketing', 'Department_product_mng', 'Department_sales',\n",
       "       'Department_support', 'Department_technical'],\n",
       "      dtype='object')"
      ]
     },
     "execution_count": 7,
     "metadata": {},
     "output_type": "execute_result"
    }
   ],
   "source": [
    "sm = {'low': 1,\n",
    "      'medium':2,\n",
    "      'high':3}\n",
    "X['salary'] = X['salary'].map(sm)\n",
    "X = pd.get_dummies(X,['Department'])\n",
    "X.columns"
   ]
  },
  {
   "cell_type": "code",
   "execution_count": 8,
   "id": "2247f32c-773b-4957-baaa-811874393a64",
   "metadata": {},
   "outputs": [],
   "source": [
    "X_col=list(X.columns)"
   ]
  },
  {
   "cell_type": "code",
   "execution_count": 9,
   "id": "0c9309d7-fe0c-4d77-b26b-95c46f92ba32",
   "metadata": {},
   "outputs": [],
   "source": [
    "from sklearn.preprocessing import MinMaxScaler,StandardScaler\n",
    "sc = MinMaxScaler()\n",
    "sc.fit(X)\n",
    "X = sc.transform(X)"
   ]
  },
  {
   "cell_type": "markdown",
   "id": "e134fbd9-9fbb-46eb-9fb9-aaf1f328d2c9",
   "metadata": {},
   "source": [
    "## Feature Importance"
   ]
  },
  {
   "cell_type": "code",
   "execution_count": 10,
   "id": "02c6499e-cd31-47b2-9a15-b1e8e45f384a",
   "metadata": {},
   "outputs": [
    {
     "data": {
      "image/png": "[encoded data removed]",
      "text/plain": [
       "<Figure size 432x288 with 1 Axes>"
      ]
     },
     "metadata": {
      "needs_background": "light"
     },
     "output_type": "display_data"
    }
   ],
   "source": [
    "importances = mutual_info_classif(X, y)\n",
    "feat_importances = pd.Series(importances, X_col).sort_values()\n",
    "\n",
    "feat_importances.plot (kind='barh', color = 'blue')\n",
    "plt.title('Feature Importance')\n",
    "plt.grid(color='y')\n",
    "plt.show()"
   ]
  },
  {
   "cell_type": "markdown",
   "id": "0566aa0e-2979-467b-a0d0-c3967ed3d955",
   "metadata": {},
   "source": [
    "# Logistic Regression"
   ]
  },
  {
   "cell_type": "markdown",
   "id": "6cf7cc13-8cee-497c-ae0b-f363ef851579",
   "metadata": {},
   "source": [
    "## Selecting Best Train-Test Split using Cross Validation for Logistic Regression"
   ]
  },
  {
   "cell_type": "code",
   "execution_count": 11,
   "id": "c5dce8cd-b9af-42f9-a03b-695d6936d399",
   "metadata": {},
   "outputs": [
    {
     "data": {
      "text/plain": [
       "array([0.80866667, 0.79266667, 0.79933333, 0.788     , 0.808     ,\n",
       "       0.81      , 0.79533333, 0.792     , 0.74733333, 0.73515677])"
      ]
     },
     "execution_count": 11,
     "metadata": {},
     "output_type": "execute_result"
    }
   ],
   "source": [
    "from sklearn.linear_model import LogisticRegression\n",
    "log_reg = LogisticRegression()\n",
    "from sklearn.model_selection import cross_val_score\n",
    "scores = cross_val_score(log_reg,X,y,cv=10)\n",
    "scores"
   ]
  },
  {
   "cell_type": "code",
   "execution_count": 12,
   "id": "42b33489-0f21-43f8-8792-fc0e231df90d",
   "metadata": {},
   "outputs": [
    {
     "name": "stdout",
     "output_type": "stream",
     "text": [
      "Test Score 0.809, Train Score 0.795 for Sample Split 5\n",
      "Test Score 0.809, Train Score 0.794 for Sample Split 7\n"
     ]
    }
   ],
   "source": [
    "kfold = KFold(n_splits=10, shuffle=True, random_state=1)\n",
    "counter = 0\n",
    "for train,test in kfold.split(X):\n",
    "    counter+=1\n",
    "    X_train,X_test = X[train],X[test]\n",
    "    y_train,y_test = y[train],y[test]\n",
    "    model = LogisticRegression()\n",
    "    model.fit(X_train,y_train)\n",
    "    if model.score(X_test,y_test) >= 0.80 :\n",
    "        print(\"Test Score {}, Train Score {} for Sample Split {}\".format(round(model.score(X_test,y_test),3),round(model.score(X_train,y_train),3),counter))"
   ]
  },
  {
   "cell_type": "code",
   "execution_count": 13,
   "id": "93dc6192-8cc1-4e6b-8a37-9fed363286e2",
   "metadata": {},
   "outputs": [],
   "source": [
    "kfold = KFold(n_splits=10, shuffle=True, random_state=1)\n",
    "counter = 0\n",
    "for train,test in kfold.split(X):\n",
    "    counter+=1 \n",
    "    if counter==7 :\n",
    "        X_train,X_test = X[train],X[test]\n",
    "        y_train,y_test = y[train],y[test]"
   ]
  },
  {
   "cell_type": "code",
   "execution_count": 14,
   "id": "f7d1b3fe-4629-4d1c-8526-09b4b28b0c49",
   "metadata": {},
   "outputs": [
    {
     "data": {
      "text/plain": [
       "LogisticRegression()"
      ]
     },
     "execution_count": 14,
     "metadata": {},
     "output_type": "execute_result"
    }
   ],
   "source": [
    "log_reg = LogisticRegression()\n",
    "log_reg.fit(X_train,y_train)"
   ]
  },
  {
   "cell_type": "code",
   "execution_count": 15,
   "id": "c6ae9956-f8ac-4830-8a53-892b55bc9958",
   "metadata": {},
   "outputs": [
    {
     "data": {
      "text/plain": [
       "(1500, 2)"
      ]
     },
     "execution_count": 15,
     "metadata": {},
     "output_type": "execute_result"
    }
   ],
   "source": [
    "prob1 = log_reg.predict_proba(X_test)\n",
    "prob1.shape"
   ]
  },
  {
   "cell_type": "code",
   "execution_count": 16,
   "id": "739672a6-e126-40b1-8edb-5f039331a0b1",
   "metadata": {},
   "outputs": [],
   "source": [
    "pr_test = log_reg.predict(X_test)\n",
    "pr_train = log_reg.predict(X_train)"
   ]
  },
  {
   "cell_type": "markdown",
   "id": "4306b91b-eed1-4231-9eac-caee4fe3cad9",
   "metadata": {},
   "source": [
    "## Validating the Logistic Regression model results"
   ]
  },
  {
   "cell_type": "code",
   "execution_count": 17,
   "id": "f712cea1-f682-435c-83ea-c28d3c299d7f",
   "metadata": {},
   "outputs": [
    {
     "name": "stdout",
     "output_type": "stream",
     "text": [
      "AUC:  0.8331919800140928\n"
     ]
    },
    {
     "data": {
      "text/plain": [
       "Text(0.5, 1.0, 'ROC')"
      ]
     },
     "execution_count": 17,
     "metadata": {},
     "output_type": "execute_result"
    },
    {
     "data": {
      "image/png": "[encoded data removed]",
      "text/plain": [
       "<Figure size 432x288 with 1 Axes>"
      ]
     },
     "metadata": {
      "needs_background": "light"
     },
     "output_type": "display_data"
    }
   ],
   "source": [
    "fpr,tpr,threshold = roc_curve(y_test,prob1[:,1])\n",
    "AUC = auc(fpr,tpr)\n",
    "print('AUC: ',AUC)\n",
    "plt.plot(fpr,tpr)\n",
    "plt.xlabel(\"False Positive\")\n",
    "plt.ylabel(\"True Positive\")\n",
    "plt.title(\"ROC\")"
   ]
  },
  {
   "cell_type": "code",
   "execution_count": 18,
   "id": "333f364d-fbf6-4343-9dff-232839ecf9ea",
   "metadata": {},
   "outputs": [
    {
     "name": "stdout",
     "output_type": "stream",
     "text": [
      "************Accuracy_Score*************\n",
      "0.8093333333333333\n",
      "**********Confusion_matrix*************\n",
      "[[1097   68]\n",
      " [ 218  117]]\n",
      "********Classification_report**********\n",
      "              precision    recall  f1-score   support\n",
      "\n",
      "           0       0.83      0.94      0.88      1165\n",
      "           1       0.63      0.35      0.45       335\n",
      "\n",
      "    accuracy                           0.81      1500\n",
      "   macro avg       0.73      0.65      0.67      1500\n",
      "weighted avg       0.79      0.81      0.79      1500\n",
      "\n"
     ]
    }
   ],
   "source": [
    "# test data\n",
    "print('************Accuracy_Score*************')\n",
    "print(accuracy_score(y_test,pr_test))\n",
    "print('**********Confusion_matrix*************')\n",
    "print(confusion_matrix(y_test,pr_test))\n",
    "print('********Classification_report**********')\n",
    "print(classification_report(y_test,pr_test))"
   ]
  },
  {
   "cell_type": "markdown",
   "id": "13dd6227-5875-497b-aa58-ae49bbc6ae95",
   "metadata": {},
   "source": [
    "# DecisionTree Classifier"
   ]
  },
  {
   "cell_type": "code",
   "execution_count": 19,
   "id": "a2b27ffe-962a-4ce5-ab1a-949ea16fe1ee",
   "metadata": {},
   "outputs": [],
   "source": [
    "from sklearn.tree import DecisionTreeClassifier\n",
    "dt = DecisionTreeClassifier(max_depth=8) "
   ]
  },
  {
   "cell_type": "markdown",
   "id": "f10c7702-9477-4ec0-8515-a97b0d92a133",
   "metadata": {},
   "source": [
    "## Selecting Best Train-Test Split using Cross Validation for DecisionTree Classifier"
   ]
  },
  {
   "cell_type": "code",
   "execution_count": 20,
   "id": "e666c7be-f6b9-458b-b40a-d2fb47d1acca",
   "metadata": {},
   "outputs": [
    {
     "data": {
      "text/plain": [
       "array([0.986     , 0.98133333, 0.97866667, 0.976     , 0.97466667,\n",
       "       0.97733333, 0.98533333, 0.97733333, 0.98533333, 0.98332221])"
      ]
     },
     "execution_count": 20,
     "metadata": {},
     "output_type": "execute_result"
    }
   ],
   "source": [
    "scores = cross_val_score(dt,X,y,cv=10)\n",
    "scores"
   ]
  },
  {
   "cell_type": "code",
   "execution_count": 21,
   "id": "3fdd3d9c-cc92-478a-866f-04e98186c50b",
   "metadata": {},
   "outputs": [
    {
     "name": "stdout",
     "output_type": "stream",
     "text": [
      "Test Score 0.987, Train Score 1.0 for Sample Split 10\n"
     ]
    }
   ],
   "source": [
    "kfold = KFold(n_splits=10, shuffle=True, random_state=1)\n",
    "counter = 0\n",
    "for train,test in kfold.split(X):\n",
    "    counter+=1\n",
    "    X_train,X_test = X[train],X[test]\n",
    "    y_train,y_test = y[train],y[test]\n",
    "    model = DecisionTreeClassifier()\n",
    "    model.fit(X_train,y_train)\n",
    "    if model.score(X_test,y_test) >= 0.985 :\n",
    "        print(\"Test Score {}, Train Score {} for Sample Split {}\".format(round(model.score(X_test,y_test),3),round(model.score(X_train,y_train),3),counter))"
   ]
  },
  {
   "cell_type": "code",
   "execution_count": 22,
   "id": "8dc8ffb4-ff6d-4fb2-a4ec-814faa394217",
   "metadata": {},
   "outputs": [],
   "source": [
    "kfold = KFold(n_splits=10, shuffle=True, random_state=1)\n",
    "counter = 0\n",
    "for train,test in kfold.split(X):\n",
    "    counter+=1 \n",
    "    if counter==10 :\n",
    "        X_train,X_test = X[train],X[test]\n",
    "        y_train,y_test = y[train],y[test]"
   ]
  },
  {
   "cell_type": "markdown",
   "id": "9694e286-8147-45a9-8871-5d812d5b16ba",
   "metadata": {},
   "source": [
    "## Hyperparameter Tuning for DecisionTreeClassifier"
   ]
  },
  {
   "cell_type": "code",
   "execution_count": 23,
   "id": "d3fc733c-551c-44cd-9f5e-7e69856481f9",
   "metadata": {},
   "outputs": [],
   "source": [
    "parameters = {\"max_depth\" : [5,10,15,20],\n",
    "             \"criterion\" : ['entropy', 'gini']\n",
    "             }\n",
    "\n",
    "#GridSearch Check\n",
    "grid_search = GridSearchCV(estimator=DecisionTreeClassifier(),\n",
    "                 param_grid=parameters,\n",
    "                 scoring=\"recall\",\n",
    "                 cv=5)"
   ]
  },
  {
   "cell_type": "code",
   "execution_count": 24,
   "id": "8968a5d7-a486-4059-a84a-50a4e9746a99",
   "metadata": {},
   "outputs": [
    {
     "data": {
      "text/plain": [
       "GridSearchCV(cv=5, estimator=DecisionTreeClassifier(),\n",
       "             param_grid={'criterion': ['entropy', 'gini'],\n",
       "                         'max_depth': [5, 10, 15, 20]},\n",
       "             scoring='recall')"
      ]
     },
     "execution_count": 24,
     "metadata": {},
     "output_type": "execute_result"
    }
   ],
   "source": [
    "grid_search.fit(X_train, y_train)"
   ]
  },
  {
   "cell_type": "code",
   "execution_count": 25,
   "id": "3d7d4b33-a449-4ae9-9feb-2ed4ef98df44",
   "metadata": {},
   "outputs": [
    {
     "data": {
      "text/plain": [
       "DecisionTreeClassifier(criterion='entropy', max_depth=20)"
      ]
     },
     "execution_count": 25,
     "metadata": {},
     "output_type": "execute_result"
    }
   ],
   "source": [
    "grid_search.best_estimator_"
   ]
  },
  {
   "cell_type": "code",
   "execution_count": 26,
   "id": "edf6df0d-153e-4c44-ae2e-fc46a2b6cd8a",
   "metadata": {},
   "outputs": [
    {
     "data": {
      "text/plain": [
       "DecisionTreeClassifier(criterion='entropy', max_depth=20)"
      ]
     },
     "execution_count": 26,
     "metadata": {},
     "output_type": "execute_result"
    }
   ],
   "source": [
    "dt = DecisionTreeClassifier(max_depth = 20,criterion = 'entropy')\n",
    "dt.fit(X_train,y_train)"
   ]
  },
  {
   "cell_type": "markdown",
   "id": "47e253b7-b569-489d-a10a-f401c49df32c",
   "metadata": {},
   "source": [
    "## Validating the DecisionTree model results"
   ]
  },
  {
   "cell_type": "code",
   "execution_count": 27,
   "id": "1deeb95a-d6e4-404d-bbfe-20f1b3698fd8",
   "metadata": {},
   "outputs": [
    {
     "name": "stdout",
     "output_type": "stream",
     "text": [
      "AUC:  0.9864018024229292\n"
     ]
    },
    {
     "data": {
      "text/plain": [
       "Text(0.5, 1.0, 'ROC')"
      ]
     },
     "execution_count": 27,
     "metadata": {},
     "output_type": "execute_result"
    },
    {
     "data": {
      "image/png": "[encoded data removed]",
      "text/plain": [
       "<Figure size 432x288 with 1 Axes>"
      ]
     },
     "metadata": {
      "needs_background": "light"
     },
     "output_type": "display_data"
    }
   ],
   "source": [
    "prob = dt.predict_proba(X_test)\n",
    "fpr,tpr,threshold = roc_curve(y_test,prob[:,1])\n",
    "AUC = auc(fpr,tpr)\n",
    "print('AUC: ',AUC)\n",
    "plt.plot(fpr,tpr)\n",
    "plt.xlabel(\"False Positive\")\n",
    "plt.ylabel(\"True Positive\")\n",
    "plt.title(\"ROC\")"
   ]
  },
  {
   "cell_type": "code",
   "execution_count": 28,
   "id": "b6078bd7-d060-45a1-9986-8d3eb5df96f8",
   "metadata": {},
   "outputs": [
    {
     "name": "stdout",
     "output_type": "stream",
     "text": [
      "************Test Data*************\n",
      "************Accuracy_Score*************\n",
      "0.9866577718478986\n",
      "**********Confusion_matrix*************\n",
      "[[1129   15]\n",
      " [   5  350]]\n",
      "********Classification_report**********\n",
      "              precision    recall  f1-score   support\n",
      "\n",
      "           0       1.00      0.99      0.99      1144\n",
      "           1       0.96      0.99      0.97       355\n",
      "\n",
      "    accuracy                           0.99      1499\n",
      "   macro avg       0.98      0.99      0.98      1499\n",
      "weighted avg       0.99      0.99      0.99      1499\n",
      "\n",
      "***************************************\n",
      "************Train Data*************\n",
      "************Accuracy_Score*************\n",
      "1.0\n",
      "**********Confusion_matrix*************\n",
      "[[10284     0]\n",
      " [    0  3216]]\n",
      "********Classification_report**********\n",
      "              precision    recall  f1-score   support\n",
      "\n",
      "           0       1.00      1.00      1.00     10284\n",
      "           1       1.00      1.00      1.00      3216\n",
      "\n",
      "    accuracy                           1.00     13500\n",
      "   macro avg       1.00      1.00      1.00     13500\n",
      "weighted avg       1.00      1.00      1.00     13500\n",
      "\n"
     ]
    }
   ],
   "source": [
    "pr_test = dt.predict(X_test)\n",
    "pr_train = dt.predict(X_train)\n",
    "\n",
    "# test data\n",
    "print('************Test Data*************')\n",
    "print('************Accuracy_Score*************')\n",
    "print(accuracy_score(y_test,pr_test))\n",
    "print('**********Confusion_matrix*************')\n",
    "print(confusion_matrix(y_test,pr_test))\n",
    "print('********Classification_report**********')\n",
    "print(classification_report(y_test,pr_test))\n",
    "print('***************************************')\n",
    "print('************Train Data*************')\n",
    "# train data\n",
    "print('************Accuracy_Score*************')\n",
    "print(accuracy_score(y_train,pr_train))\n",
    "print('**********Confusion_matrix*************')\n",
    "print(confusion_matrix(y_train,pr_train))\n",
    "print('********Classification_report**********')\n",
    "print(classification_report(y_train,pr_train))"
   ]
  },
  {
   "cell_type": "markdown",
   "id": "469789c3-c7f8-44ad-9652-deee87d958ac",
   "metadata": {},
   "source": [
    "# Random Forest"
   ]
  },
  {
   "cell_type": "markdown",
   "id": "223c0a64-48c0-4fef-b44e-523a97784b38",
   "metadata": {},
   "source": [
    "## Selecting Best Train-Test Split using Cross Validation for RandomForestClassifier"
   ]
  },
  {
   "cell_type": "code",
   "execution_count": 29,
   "id": "e4c58593-5438-4041-a665-3f1e6c9f7c81",
   "metadata": {},
   "outputs": [
    {
     "data": {
      "text/plain": [
       "array([0.92866667, 0.90933333, 0.91266667, 0.91533333, 0.91666667,\n",
       "       0.92733333, 0.914     , 0.92066667, 0.91866667, 0.91994663])"
      ]
     },
     "execution_count": 29,
     "metadata": {},
     "output_type": "execute_result"
    }
   ],
   "source": [
    "from sklearn.ensemble import RandomForestClassifier\n",
    "rf = RandomForestClassifier(n_estimators = 100 ,max_depth = 4,criterion = 'entropy')\n",
    "scores = cross_val_score(rf,X,y,cv=10)\n",
    "scores"
   ]
  },
  {
   "cell_type": "code",
   "execution_count": 30,
   "id": "33463a5f-4122-4673-8115-1792505bb54b",
   "metadata": {},
   "outputs": [],
   "source": [
    "kfold = KFold(n_splits=10, shuffle=True, random_state=1)\n",
    "counter = 0\n",
    "for train,test in kfold.split(X):\n",
    "    counter+=1\n",
    "    X_train,X_test = X[train],X[test]\n",
    "    y_train,y_test = y[train],y[test]\n",
    "    model = RandomForestClassifier()\n",
    "    model.fit(X_train,y_train)\n",
    "    if model.score(X_test,y_test) >= 0.995 :\n",
    "        print(\"Test Score {}, Train Score {} for Sample Split {}\".format(round(model.score(X_test,y_test),3),round(model.score(X_train,y_train),3),counter))"
   ]
  },
  {
   "cell_type": "code",
   "execution_count": 31,
   "id": "33a7af39-593f-4bf8-9b48-bab642f1eed4",
   "metadata": {},
   "outputs": [],
   "source": [
    "kfold = KFold(n_splits=10, shuffle=True, random_state=1)\n",
    "counter = 0\n",
    "for train,test in kfold.split(X):\n",
    "    counter+=1 \n",
    "    if counter==5 :\n",
    "        X_train,X_test = X[train],X[test]\n",
    "        y_train,y_test = y[train],y[test]"
   ]
  },
  {
   "cell_type": "markdown",
   "id": "1657da9a-5047-4717-b47b-a73be4a73103",
   "metadata": {},
   "source": [
    "## Hyperparameter Tuning for RandomForestClassifier"
   ]
  },
  {
   "cell_type": "code",
   "execution_count": 32,
   "id": "a889fe50-232b-4f64-8a25-154d46829dfa",
   "metadata": {},
   "outputs": [],
   "source": [
    "parameters = {\"n_estimators\":[50,100,110],\n",
    "             \"max_depth\" : [5,10,15,20],\n",
    "             \"criterion\" : ['entropy', 'gini']\n",
    "             }\n",
    "\n",
    "#GridSearch Check\n",
    "grid_search = GridSearchCV(estimator=RandomForestClassifier(),\n",
    "                 param_grid=parameters,\n",
    "                 scoring=\"recall\",\n",
    "                 cv=5)"
   ]
  },
  {
   "cell_type": "code",
   "execution_count": 33,
   "id": "c6cf2ac5-4fdd-42ab-8ca1-6d117d3cf181",
   "metadata": {},
   "outputs": [
    {
     "data": {
      "text/plain": [
       "GridSearchCV(cv=5, estimator=RandomForestClassifier(),\n",
       "             param_grid={'criterion': ['entropy', 'gini'],\n",
       "                         'max_depth': [5, 10, 15, 20],\n",
       "                         'n_estimators': [50, 100, 110]},\n",
       "             scoring='recall')"
      ]
     },
     "execution_count": 33,
     "metadata": {},
     "output_type": "execute_result"
    }
   ],
   "source": [
    "grid_search.fit(X_train, y_train)"
   ]
  },
  {
   "cell_type": "code",
   "execution_count": 34,
   "id": "4a023ef1-a67a-4ec1-833a-490b4a2f1b44",
   "metadata": {},
   "outputs": [
    {
     "data": {
      "text/plain": [
       "RandomForestClassifier(max_depth=20)"
      ]
     },
     "execution_count": 34,
     "metadata": {},
     "output_type": "execute_result"
    }
   ],
   "source": [
    "grid_search.best_estimator_"
   ]
  },
  {
   "cell_type": "code",
   "execution_count": 35,
   "id": "0565d464-82be-465a-94f5-29cc286d7020",
   "metadata": {},
   "outputs": [
    {
     "data": {
      "text/plain": [
       "RandomForestClassifier(criterion='entropy', max_depth=20, n_estimators=110)"
      ]
     },
     "execution_count": 35,
     "metadata": {},
     "output_type": "execute_result"
    }
   ],
   "source": [
    "rf = RandomForestClassifier(n_estimators = 110 ,max_depth = 20,criterion = 'entropy')\n",
    "rf.fit(X_train,y_train)"
   ]
  },
  {
   "cell_type": "markdown",
   "id": "34f88c58-b9a2-4939-b66d-f7f1f287f741",
   "metadata": {},
   "source": [
    "## Validating the RandomForestClassification model results"
   ]
  },
  {
   "cell_type": "code",
   "execution_count": 36,
   "id": "38ab5a42-8979-468b-a03a-9ede3e009bb3",
   "metadata": {},
   "outputs": [
    {
     "name": "stdout",
     "output_type": "stream",
     "text": [
      "AUC:  0.9970978115930662\n"
     ]
    },
    {
     "data": {
      "text/plain": [
       "Text(0.5, 1.0, 'ROC')"
      ]
     },
     "execution_count": 36,
     "metadata": {},
     "output_type": "execute_result"
    },
    {
     "data": {
      "image/png": "[encoded data removed]",
      "text/plain": [
       "<Figure size 432x288 with 1 Axes>"
      ]
     },
     "metadata": {
      "needs_background": "light"
     },
     "output_type": "display_data"
    }
   ],
   "source": [
    "prob2 = rf.predict_proba(X_test)\n",
    "fpr,tpr,threshold = roc_curve(y_test,prob2[:,1])\n",
    "AUC = auc(fpr,tpr)\n",
    "print('AUC: ',AUC)\n",
    "plt.plot(fpr,tpr)\n",
    "plt.xlabel(\"False Positive\")\n",
    "plt.ylabel(\"True Positive\")\n",
    "plt.title(\"ROC\")"
   ]
  },
  {
   "cell_type": "code",
   "execution_count": 37,
   "id": "ced45611-b78f-4c69-8eb7-b133eef3e1a4",
   "metadata": {},
   "outputs": [
    {
     "name": "stdout",
     "output_type": "stream",
     "text": [
      "************Test Data*************\n",
      "************Accuracy_Score*************\n",
      "0.9946666666666667\n",
      "**********Confusion_matrix*************\n",
      "[[1156    3]\n",
      " [   5  336]]\n",
      "********Classification_report**********\n",
      "              precision    recall  f1-score   support\n",
      "\n",
      "           0       1.00      1.00      1.00      1159\n",
      "           1       0.99      0.99      0.99       341\n",
      "\n",
      "    accuracy                           0.99      1500\n",
      "   macro avg       0.99      0.99      0.99      1500\n",
      "weighted avg       0.99      0.99      0.99      1500\n",
      "\n",
      "***************************************\n",
      "************Train Data*************\n",
      "************Accuracy_Score*************\n",
      "0.999481443069857\n",
      "**********Confusion_matrix*************\n",
      "[[10263     6]\n",
      " [    1  3229]]\n",
      "********Classification_report**********\n",
      "              precision    recall  f1-score   support\n",
      "\n",
      "           0       1.00      1.00      1.00     10269\n",
      "           1       1.00      1.00      1.00      3230\n",
      "\n",
      "    accuracy                           1.00     13499\n",
      "   macro avg       1.00      1.00      1.00     13499\n",
      "weighted avg       1.00      1.00      1.00     13499\n",
      "\n"
     ]
    }
   ],
   "source": [
    "pr_test = rf.predict(X_test)\n",
    "pr_train = rf.predict(X_train)\n",
    "\n",
    "# test data\n",
    "print('************Test Data*************')\n",
    "print('************Accuracy_Score*************')\n",
    "print(accuracy_score(y_test,pr_test))\n",
    "print('**********Confusion_matrix*************')\n",
    "print(confusion_matrix(y_test,pr_test))\n",
    "print('********Classification_report**********')\n",
    "print(classification_report(y_test,pr_test))\n",
    "print('***************************************')\n",
    "print('************Train Data*************')\n",
    "# train data\n",
    "print('************Accuracy_Score*************')\n",
    "print(accuracy_score(y_train,pr_train))\n",
    "print('**********Confusion_matrix*************')\n",
    "print(confusion_matrix(y_train,pr_train))\n",
    "print('********Classification_report**********')\n",
    "print(classification_report(y_train,pr_train))"
   ]
  },
  {
   "cell_type": "markdown",
   "id": "d2990845-09a2-4aad-9641-ff2f25a1e139",
   "metadata": {},
   "source": [
    "# XGBoost"
   ]
  },
  {
   "cell_type": "markdown",
   "id": "9c52bc9e-b8b7-4370-a7a3-39254db42bad",
   "metadata": {},
   "source": [
    "## Selecting Best Train-Test Split using Cross Validation for XGBoost Classifier"
   ]
  },
  {
   "cell_type": "code",
   "execution_count": 38,
   "id": "c2c58fc7-bc1e-4ea1-8b15-dd3cd814004a",
   "metadata": {},
   "outputs": [
    {
     "data": {
      "text/plain": [
       "array([0.99866667, 0.99866667, 0.98266667, 0.97933333, 0.97533333,\n",
       "       0.992     , 0.99866667, 0.99733333, 0.99933333, 0.99933289])"
      ]
     },
     "execution_count": 38,
     "metadata": {},
     "output_type": "execute_result"
    }
   ],
   "source": [
    "from xgboost import XGBClassifier\n",
    "xgbc = XGBClassifier()\n",
    "scores = cross_val_score(rf,X,y,cv=10)\n",
    "scores"
   ]
  },
  {
   "cell_type": "code",
   "execution_count": 39,
   "id": "111befc1-825e-4d83-a512-fa188d0ff94f",
   "metadata": {},
   "outputs": [
    {
     "name": "stdout",
     "output_type": "stream",
     "text": [
      "Test Score 0.991, Train Score 0.997 for Sample Split 8\n",
      "Test Score 0.991, Train Score 0.997 for Sample Split 10\n"
     ]
    }
   ],
   "source": [
    "kfold = KFold(n_splits=10, shuffle=True, random_state=1)\n",
    "counter = 0\n",
    "for train,test in kfold.split(X):\n",
    "    counter+=1\n",
    "    X_train,X_test = X[train],X[test]\n",
    "    y_train,y_test = y[train],y[test]\n",
    "    model = XGBClassifier()\n",
    "    model.fit(X_train,y_train)\n",
    "    if model.score(X_test,y_test) >= 0.99 :\n",
    "        print(\"Test Score {}, Train Score {} for Sample Split {}\".format(round(model.score(X_test,y_test),3),round(model.score(X_train,y_train),3),counter))"
   ]
  },
  {
   "cell_type": "code",
   "execution_count": 40,
   "id": "0f0eae72-f48a-4278-a41c-f842344da73f",
   "metadata": {},
   "outputs": [],
   "source": [
    "kfold = KFold(n_splits=10, shuffle=True, random_state=1)\n",
    "counter = 0\n",
    "for train,test in kfold.split(X):\n",
    "    counter+=1 \n",
    "    if counter==10 :\n",
    "        X_train,X_test = X[train],X[test]\n",
    "        y_train,y_test = y[train],y[test]"
   ]
  },
  {
   "cell_type": "markdown",
   "id": "94b8d607-d9d0-4b71-bf98-7923ee887107",
   "metadata": {},
   "source": [
    "## Hyperparameter Tuning for XGBoostClassifier"
   ]
  },
  {
   "cell_type": "code",
   "execution_count": 41,
   "id": "1ecb73fc-5503-4272-a57c-687bcd93e08d",
   "metadata": {},
   "outputs": [],
   "source": [
    "parameters = {\"n_estimators\":[50,100,110],\n",
    "             \"max_depth\" : [2,5,10,15,20],\n",
    "             \"learning_rate\" : [0.01,0.05, 0.1]\n",
    "             }\n",
    "\n",
    "#GridSearch Check\n",
    "grid_search = GridSearchCV(estimator=XGBClassifier(),\n",
    "                 param_grid=parameters,\n",
    "                 scoring=\"recall\",\n",
    "                 cv=5)"
   ]
  },
  {
   "cell_type": "code",
   "execution_count": 42,
   "id": "b93c61ec-70a6-4f1e-a9ee-7ee3237c21bb",
   "metadata": {},
   "outputs": [
    {
     "data": {
      "text/plain": [
       "GridSearchCV(cv=5,\n",
       "             estimator=XGBClassifier(base_score=None, booster=None,\n",
       "                                     callbacks=None, colsample_bylevel=None,\n",
       "                                     colsample_bynode=None,\n",
       "                                     colsample_bytree=None,\n",
       "                                     early_stopping_rounds=None,\n",
       "                                     enable_categorical=False, eval_metric=None,\n",
       "                                     gamma=None, gpu_id=None, grow_policy=None,\n",
       "                                     importance_type=None,\n",
       "                                     interaction_constraints=None,\n",
       "                                     learning_rate=None, max_bin=None,\n",
       "                                     max_ca...,\n",
       "                                     max_delta_step=None, max_depth=None,\n",
       "                                     max_leaves=None, min_child_weight=None,\n",
       "                                     missing=nan, monotone_constraints=None,\n",
       "                                     n_estimators=100, n_jobs=None,\n",
       "                                     num_parallel_tree=None, predictor=None,\n",
       "                                     random_state=None, reg_alpha=None,\n",
       "                                     reg_lambda=None, ...),\n",
       "             param_grid={'learning_rate': [0.01, 0.05, 0.1],\n",
       "                         'max_depth': [2, 5, 10, 15, 20],\n",
       "                         'n_estimators': [50, 100, 110]},\n",
       "             scoring='recall')"
      ]
     },
     "execution_count": 42,
     "metadata": {},
     "output_type": "execute_result"
    }
   ],
   "source": [
    "grid_search.fit(X_train, y_train)"
   ]
  },
  {
   "cell_type": "code",
   "execution_count": 43,
   "id": "29e912f0-7f8a-4d59-8f8c-c41ae66f1eba",
   "metadata": {},
   "outputs": [
    {
     "data": {
      "text/plain": [
       "XGBClassifier(base_score=0.5, booster='gbtree', callbacks=None,\n",
       "              colsample_bylevel=1, colsample_bynode=1, colsample_bytree=1,\n",
       "              early_stopping_rounds=None, enable_categorical=False,\n",
       "              eval_metric=None, gamma=0, gpu_id=-1, grow_policy='depthwise',\n",
       "              importance_type=None, interaction_constraints='',\n",
       "              learning_rate=0.1, max_bin=256, max_cat_to_onehot=4,\n",
       "              max_delta_step=0, max_depth=20, max_leaves=0, min_child_weight=1,\n",
       "              missing=nan, monotone_constraints='()', n_estimators=110,\n",
       "              n_jobs=0, num_parallel_tree=1, predictor='auto', random_state=0,\n",
       "              reg_alpha=0, reg_lambda=1, ...)"
      ]
     },
     "execution_count": 43,
     "metadata": {},
     "output_type": "execute_result"
    }
   ],
   "source": [
    "grid_search.best_estimator_"
   ]
  },
  {
   "cell_type": "markdown",
   "id": "c7bff00d-74ad-43cc-9eb5-da013c4d5aec",
   "metadata": {},
   "source": [
    "## Validating the XGBClassification model results"
   ]
  },
  {
   "cell_type": "code",
   "execution_count": 44,
   "id": "4a9398a7-7839-43a2-ae39-674518a70ba7",
   "metadata": {},
   "outputs": [
    {
     "name": "stdout",
     "output_type": "stream",
     "text": [
      "************Test Data*************\n",
      "************Accuracy_Score*************\n",
      "0.9946631087391594\n",
      "**********Confusion_matrix*************\n",
      "[[1141    3]\n",
      " [   5  350]]\n",
      "********Classification_report**********\n",
      "              precision    recall  f1-score   support\n",
      "\n",
      "           0       1.00      1.00      1.00      1144\n",
      "           1       0.99      0.99      0.99       355\n",
      "\n",
      "    accuracy                           0.99      1499\n",
      "   macro avg       0.99      0.99      0.99      1499\n",
      "weighted avg       0.99      0.99      0.99      1499\n",
      "\n",
      "***************************************\n",
      "************Train Data*************\n",
      "************Accuracy_Score*************\n",
      "0.9994814814814815\n",
      "**********Confusion_matrix*************\n",
      "[[10282     2]\n",
      " [    5  3211]]\n",
      "********Classification_report**********\n",
      "              precision    recall  f1-score   support\n",
      "\n",
      "           0       1.00      1.00      1.00     10284\n",
      "           1       1.00      1.00      1.00      3216\n",
      "\n",
      "    accuracy                           1.00     13500\n",
      "   macro avg       1.00      1.00      1.00     13500\n",
      "weighted avg       1.00      1.00      1.00     13500\n",
      "\n"
     ]
    }
   ],
   "source": [
    "xgbc = XGBClassifier(n_estimators = 100,max_depth=30,learning_rate=0.1,n_jobs=-1)\n",
    "xgbc.fit(X_train,y_train)\n",
    "pr_train = xgbc.predict(X_train)\n",
    "pr_test = xgbc.predict(X_test)\n",
    "\n",
    "# test data\n",
    "print('************Test Data*************')\n",
    "print('************Accuracy_Score*************')\n",
    "print(accuracy_score(y_test,pr_test))\n",
    "print('**********Confusion_matrix*************')\n",
    "print(confusion_matrix(y_test,pr_test))\n",
    "print('********Classification_report**********')\n",
    "print(classification_report(y_test,pr_test))\n",
    "print('***************************************')\n",
    "print('************Train Data*************')\n",
    "# train data\n",
    "print('************Accuracy_Score*************')\n",
    "print(accuracy_score(y_train,pr_train))\n",
    "print('**********Confusion_matrix*************')\n",
    "print(confusion_matrix(y_train,pr_train))\n",
    "print('********Classification_report**********')\n",
    "print(classification_report(y_train,pr_train))\n"
   ]
  },
  {
   "cell_type": "code",
   "execution_count": 45,
   "id": "4a42bfde-2504-401f-8afd-4a81669d1d17",
   "metadata": {},
   "outputs": [
    {
     "name": "stdout",
     "output_type": "stream",
     "text": [
      "AUC:  0.995976558652615\n"
     ]
    },
    {
     "data": {
      "text/plain": [
       "Text(0.5, 1.0, 'ROC')"
      ]
     },
     "execution_count": 45,
     "metadata": {},
     "output_type": "execute_result"
    },
    {
     "data": {
      "image/png": "[encoded data removed]",
      "text/plain": [
       "<Figure size 432x288 with 1 Axes>"
      ]
     },
     "metadata": {
      "needs_background": "light"
     },
     "output_type": "display_data"
    }
   ],
   "source": [
    "prob3 = xgbc.predict_proba(X_test)\n",
    "fpr,tpr,threshold = roc_curve(y_test,prob3[:,1])\n",
    "AUC = auc(fpr,tpr)\n",
    "print('AUC: ',AUC)\n",
    "plt.plot(fpr,tpr)\n",
    "plt.xlabel(\"False Positive\")\n",
    "plt.ylabel(\"True Positive\")\n",
    "plt.title(\"ROC\")"
   ]
  },
  {
   "cell_type": "markdown",
   "id": "fcf8068b-3c60-483b-b3da-f594ed707f2f",
   "metadata": {},
   "source": [
    "# AdaBoost Classifier"
   ]
  },
  {
   "cell_type": "code",
   "execution_count": 46,
   "id": "da3755c5-be60-415a-82df-5a4f678bbd3a",
   "metadata": {},
   "outputs": [],
   "source": [
    "from sklearn.ensemble import AdaBoostClassifier\n",
    "ada = AdaBoostClassifier()"
   ]
  },
  {
   "cell_type": "markdown",
   "id": "e42b0b05-d26f-4fa8-9ef8-8aa58052450c",
   "metadata": {},
   "source": [
    "## Selecting Best Train-Test Split using Cross Validation for RandomForestClassifier"
   ]
  },
  {
   "cell_type": "code",
   "execution_count": 47,
   "id": "f943e3d9-f1c1-4e79-b1b8-397b50fdd784",
   "metadata": {},
   "outputs": [
    {
     "data": {
      "text/plain": [
       "array([0.96133333, 0.956     , 0.96066667, 0.956     , 0.95      ,\n",
       "       0.95666667, 0.96133333, 0.95733333, 0.972     , 0.96531021])"
      ]
     },
     "execution_count": 47,
     "metadata": {},
     "output_type": "execute_result"
    }
   ],
   "source": [
    "scores = cross_val_score(ada,X,y,cv=10)\n",
    "scores"
   ]
  },
  {
   "cell_type": "code",
   "execution_count": 48,
   "id": "ce63ffa3-f340-44f4-bd5a-63520f20fbcc",
   "metadata": {},
   "outputs": [
    {
     "name": "stdout",
     "output_type": "stream",
     "text": [
      "Test Score 0.967, Train Score 0.96 for Sample Split 1\n",
      "Test Score 0.961, Train Score 0.96 for Sample Split 5\n",
      "Test Score 0.961, Train Score 0.962 for Sample Split 9\n",
      "Test Score 0.965, Train Score 0.957 for Sample Split 10\n"
     ]
    }
   ],
   "source": [
    "kfold = KFold(n_splits=10, shuffle=True, random_state=1)\n",
    "counter = 0\n",
    "for train,test in kfold.split(X):\n",
    "    counter+=1\n",
    "    X_train,X_test = X[train],X[test]\n",
    "    y_train,y_test = y[train],y[test]\n",
    "    model = AdaBoostClassifier()\n",
    "    model.fit(X_train,y_train)\n",
    "    if model.score(X_test,y_test) >= 0.96 :\n",
    "        print(\"Test Score {}, Train Score {} for Sample Split {}\".format(round(model.score(X_test,y_test),3),round(model.score(X_train,y_train),3),counter))"
   ]
  },
  {
   "cell_type": "code",
   "execution_count": 49,
   "id": "4902a730-f36c-4539-9bc7-37da31d2b8bc",
   "metadata": {},
   "outputs": [],
   "source": [
    "kfold = KFold(n_splits=10, shuffle=True, random_state=1)\n",
    "counter = 0\n",
    "for train,test in kfold.split(X):\n",
    "    counter+=1 \n",
    "    if counter==10 :\n",
    "        X_train,X_test = X[train],X[test]\n",
    "        y_train,y_test = y[train],y[test]"
   ]
  },
  {
   "cell_type": "markdown",
   "id": "044cd368-d1d5-4b9f-bf4a-413c476419fb",
   "metadata": {},
   "source": [
    "## Hyperparameter Tuning for AdaBoostClassifier"
   ]
  },
  {
   "cell_type": "code",
   "execution_count": 50,
   "id": "8c2ca9fb-c9e4-4dfc-9112-603565682b3e",
   "metadata": {},
   "outputs": [],
   "source": [
    "parameters = {\"n_estimators\":[50,100,110],\n",
    "             \"learning_rate\" : [0.01,0.05, 0.1,1]\n",
    "             }\n",
    "\n",
    "#GridSearch Check\n",
    "grid_search = GridSearchCV(estimator=AdaBoostClassifier(),\n",
    "                 param_grid=parameters,\n",
    "                 scoring=\"recall\",\n",
    "                 cv=5)"
   ]
  },
  {
   "cell_type": "code",
   "execution_count": 51,
   "id": "fe31f214-2869-4ee0-bedd-ecbf17ffbec6",
   "metadata": {},
   "outputs": [
    {
     "data": {
      "text/plain": [
       "GridSearchCV(cv=5, estimator=AdaBoostClassifier(),\n",
       "             param_grid={'learning_rate': [0.01, 0.05, 0.1, 1],\n",
       "                         'n_estimators': [50, 100, 110]},\n",
       "             scoring='recall')"
      ]
     },
     "execution_count": 51,
     "metadata": {},
     "output_type": "execute_result"
    }
   ],
   "source": [
    "grid_search.fit(X_train, y_train)"
   ]
  },
  {
   "cell_type": "code",
   "execution_count": 52,
   "id": "1a2359f6-af50-4009-ab49-05fa962306a8",
   "metadata": {},
   "outputs": [
    {
     "data": {
      "text/plain": [
       "AdaBoostClassifier(learning_rate=1, n_estimators=110)"
      ]
     },
     "execution_count": 52,
     "metadata": {},
     "output_type": "execute_result"
    }
   ],
   "source": [
    "grid_search.best_estimator_"
   ]
  },
  {
   "cell_type": "markdown",
   "id": "70e760cd-87fc-4687-8fd6-7abf8b4d261a",
   "metadata": {},
   "source": [
    "## Validating the AdaBoostClassification model results"
   ]
  },
  {
   "cell_type": "code",
   "execution_count": 53,
   "id": "d3b2c21b-b889-41c0-8fb9-11ebacc30adb",
   "metadata": {},
   "outputs": [
    {
     "name": "stdout",
     "output_type": "stream",
     "text": [
      "************Test Data*************\n",
      "************Accuracy_Score*************\n",
      "0.9946631087391594\n",
      "**********Confusion_matrix*************\n",
      "[[1141    3]\n",
      " [   5  350]]\n",
      "********Classification_report**********\n",
      "              precision    recall  f1-score   support\n",
      "\n",
      "           0       1.00      1.00      1.00      1144\n",
      "           1       0.99      0.99      0.99       355\n",
      "\n",
      "    accuracy                           0.99      1499\n",
      "   macro avg       0.99      0.99      0.99      1499\n",
      "weighted avg       0.99      0.99      0.99      1499\n",
      "\n",
      "***************************************\n",
      "************Train Data*************\n",
      "************Accuracy_Score*************\n",
      "0.9994814814814815\n",
      "**********Confusion_matrix*************\n",
      "[[10282     2]\n",
      " [    5  3211]]\n",
      "********Classification_report**********\n",
      "              precision    recall  f1-score   support\n",
      "\n",
      "           0       1.00      1.00      1.00     10284\n",
      "           1       1.00      1.00      1.00      3216\n",
      "\n",
      "    accuracy                           1.00     13500\n",
      "   macro avg       1.00      1.00      1.00     13500\n",
      "weighted avg       1.00      1.00      1.00     13500\n",
      "\n"
     ]
    }
   ],
   "source": [
    "ada = AdaBoostClassifier(n_estimators = 100,learning_rate=1)\n",
    "ada.fit(X_train,y_train)\n",
    "pr_train = xgbc.predict(X_train)\n",
    "pr_test = xgbc.predict(X_test)\n",
    "\n",
    "# test data\n",
    "print('************Test Data*************')\n",
    "print('************Accuracy_Score*************')\n",
    "print(accuracy_score(y_test,pr_test))\n",
    "print('**********Confusion_matrix*************')\n",
    "print(confusion_matrix(y_test,pr_test))\n",
    "print('********Classification_report**********')\n",
    "print(classification_report(y_test,pr_test))\n",
    "print('***************************************')\n",
    "print('************Train Data*************')\n",
    "# train data\n",
    "print('************Accuracy_Score*************')\n",
    "print(accuracy_score(y_train,pr_train))\n",
    "print('**********Confusion_matrix*************')\n",
    "print(confusion_matrix(y_train,pr_train))\n",
    "print('********Classification_report**********')\n",
    "print(classification_report(y_train,pr_train))\n"
   ]
  },
  {
   "cell_type": "code",
   "execution_count": 54,
   "id": "f7b7d8cb-27d0-40d6-a2f2-ff708d8a6143",
   "metadata": {},
   "outputs": [
    {
     "name": "stdout",
     "output_type": "stream",
     "text": [
      "AUC:  0.995976558652615\n"
     ]
    },
    {
     "data": {
      "text/plain": [
       "Text(0.5, 1.0, 'ROC')"
      ]
     },
     "execution_count": 54,
     "metadata": {},
     "output_type": "execute_result"
    },
    {
     "data": {
      "image/png": "[encoded data removed]",
      "text/plain": [
       "<Figure size 432x288 with 1 Axes>"
      ]
     },
     "metadata": {
      "needs_background": "light"
     },
     "output_type": "display_data"
    }
   ],
   "source": [
    "prob4 = xgbc.predict_proba(X_test)\n",
    "fpr,tpr,threshold = roc_curve(y_test,prob4[:,1])\n",
    "AUC = auc(fpr,tpr)\n",
    "print('AUC: ',AUC)\n",
    "plt.plot(fpr,tpr)\n",
    "plt.xlabel(\"False Positive\")\n",
    "plt.ylabel(\"True Positive\")\n",
    "plt.title(\"ROC\")"
   ]
  },
  {
   "cell_type": "code",
   "execution_count": 55,
   "id": "cdaba3d0-3807-4b94-8da5-20f8e7d0860e",
   "metadata": {},
   "outputs": [],
   "source": [
    "probf = (log_reg.predict_proba(X_test)+rf.predict_proba(X_test)+xgbc.predict_proba(X_test)+ada.predict_proba(X_test)+dt.predict_proba(X_test))/5"
   ]
  },
  {
   "cell_type": "code",
   "execution_count": 56,
   "id": "cc393f92-190a-477c-95b2-b7d749d0e7ab",
   "metadata": {},
   "outputs": [
    {
     "name": "stdout",
     "output_type": "stream",
     "text": [
      "AUC:  0.9997316064217472\n"
     ]
    },
    {
     "data": {
      "text/plain": [
       "Text(0.5, 1.0, 'ROC')"
      ]
     },
     "execution_count": 56,
     "metadata": {},
     "output_type": "execute_result"
    },
    {
     "data": {
      "image/png": "[encoded data removed]",
      "text/plain": [
       "<Figure size 432x288 with 1 Axes>"
      ]
     },
     "metadata": {
      "needs_background": "light"
     },
     "output_type": "display_data"
    }
   ],
   "source": [
    "fpr,tpr,threshold = roc_curve(y_test,probf[:,1])\n",
    "AUC = auc(fpr,tpr)\n",
    "print('AUC: ',AUC)\n",
    "plt.plot(fpr,tpr)\n",
    "plt.xlabel(\"False Positive\")\n",
    "plt.ylabel(\"True Positive\")\n",
    "plt.title(\"ROC\")"
   ]
  },
  {
   "cell_type": "markdown",
   "id": "b3d12521-495a-4308-a506-1e18924f583d",
   "metadata": {},
   "source": [
    "# ANN"
   ]
  },
  {
   "cell_type": "code",
   "execution_count": 57,
   "id": "07032d2e-7bf2-4fbd-bf05-60616e79ec2a",
   "metadata": {},
   "outputs": [],
   "source": [
    "model = tf.keras.models.Sequential()\n",
    "model.add(tf.keras.layers.Dense( units =6  , activation= 'relu' , input_shape= (18,) ))\n",
    "model.add(tf.keras.layers.Dense( units =6 , activation= 'relu' ))\n",
    "model.add(tf.keras.layers.Dense( units =6 , activation= 'relu' ))\n",
    "\n",
    "model.add(tf.keras.layers.Dense( units = 1, activation= 'sigmoid' ))\n"
   ]
  },
  {
   "cell_type": "code",
   "execution_count": 58,
   "id": "7c564afc-44c2-4890-87c9-ae71c70f273e",
   "metadata": {},
   "outputs": [],
   "source": [
    "class MyThresholdCallBack(tf.keras.callbacks.Callback):\n",
    "    def __init__(self,cl):\n",
    "        super(MyThresholdCallBack, self).__init__()\n",
    "        self.cl = cl\n",
    "        \n",
    "    def on_epoch_end(self, epoch, logs=None):\n",
    "        test_score = logs[\"val_recall\"]\n",
    "        train_score = logs[\"recall\"]\n",
    "        if test_score > train_score and test_score > self.cl:\n",
    "            self.model.stop_training = True\n",
    "        '''if test_score == self.cl:\n",
    "            self.model.stop_training = True'''"
   ]
  },
  {
   "cell_type": "code",
   "execution_count": 59,
   "id": "06d06f75-f474-4d56-b73d-699fbda0c7d5",
   "metadata": {},
   "outputs": [],
   "source": [
    "import tensorflow_addons as tfa\n",
    "\n",
    "model.compile(optimizer=tf.keras.optimizers.SGD(learning_rate=0.01), loss=\"binary_crossentropy\" , metrics=['Recall'])"
   ]
  },
  {
   "cell_type": "code",
   "execution_count": 60,
   "id": "79883d9b-edac-42ac-87d4-946f201d582e",
   "metadata": {
    "scrolled": true,
    "tags": []
   },
   "outputs": [
    {
     "name": "stdout",
     "output_type": "stream",
     "text": [
      "Epoch 1/200\n",
      "422/422 [==============================] - 1s 2ms/step - loss: 0.6039 - recall: 0.0283 - val_loss: 0.5556 - val_recall: 0.0000e+00\n",
      "Epoch 2/200\n",
      "422/422 [==============================] - 0s 1ms/step - loss: 0.5510 - recall: 0.0000e+00 - val_loss: 0.5467 - val_recall: 0.0000e+00\n",
      "Epoch 3/200\n",
      "422/422 [==============================] - 0s 1ms/step - loss: 0.5471 - recall: 0.0000e+00 - val_loss: 0.5443 - val_recall: 0.0000e+00\n",
      "Epoch 4/200\n",
      "422/422 [==============================] - 0s 1ms/step - loss: 0.5447 - recall: 0.0000e+00 - val_loss: 0.5420 - val_recall: 0.0000e+00\n",
      "Epoch 5/200\n",
      "422/422 [==============================] - 1s 1ms/step - loss: 0.5421 - recall: 0.0000e+00 - val_loss: 0.5395 - val_recall: 0.0000e+00\n",
      "Epoch 6/200\n",
      "422/422 [==============================] - 1s 1ms/step - loss: 0.5393 - recall: 0.0000e+00 - val_loss: 0.5368 - val_recall: 0.0000e+00\n",
      "Epoch 7/200\n",
      "422/422 [==============================] - 0s 1ms/step - loss: 0.5359 - recall: 0.0000e+00 - val_loss: 0.5333 - val_recall: 0.0000e+00\n",
      "Epoch 8/200\n",
      "422/422 [==============================] - 0s 1ms/step - loss: 0.5312 - recall: 0.0000e+00 - val_loss: 0.5285 - val_recall: 0.0000e+00\n",
      "Epoch 9/200\n",
      "422/422 [==============================] - 1s 1ms/step - loss: 0.5252 - recall: 0.0000e+00 - val_loss: 0.5218 - val_recall: 0.0000e+00\n",
      "Epoch 10/200\n",
      "422/422 [==============================] - 1s 2ms/step - loss: 0.5169 - recall: 0.0000e+00 - val_loss: 0.5126 - val_recall: 0.0000e+00\n",
      "Epoch 11/200\n",
      "422/422 [==============================] - 1s 2ms/step - loss: 0.5060 - recall: 0.0000e+00 - val_loss: 0.5001 - val_recall: 0.0000e+00\n",
      "Epoch 12/200\n",
      "422/422 [==============================] - 1s 2ms/step - loss: 0.4926 - recall: 0.0345 - val_loss: 0.4850 - val_recall: 0.0958\n",
      "Epoch 13/200\n",
      "422/422 [==============================] - 1s 2ms/step - loss: 0.4778 - recall: 0.1847 - val_loss: 0.4690 - val_recall: 0.2197\n",
      "Epoch 14/200\n",
      "422/422 [==============================] - 1s 2ms/step - loss: 0.4636 - recall: 0.2373 - val_loss: 0.4535 - val_recall: 0.2366\n",
      "Epoch 15/200\n",
      "422/422 [==============================] - 1s 2ms/step - loss: 0.4519 - recall: 0.2497 - val_loss: 0.4417 - val_recall: 0.2451\n",
      "Epoch 16/200\n",
      "422/422 [==============================] - 1s 2ms/step - loss: 0.4433 - recall: 0.2624 - val_loss: 0.4331 - val_recall: 0.2507\n",
      "Epoch 17/200\n",
      "422/422 [==============================] - 1s 2ms/step - loss: 0.4375 - recall: 0.2836 - val_loss: 0.4271 - val_recall: 0.2873\n",
      "Epoch 18/200\n",
      "422/422 [==============================] - 1s 2ms/step - loss: 0.4331 - recall: 0.3290 - val_loss: 0.4222 - val_recall: 0.3155\n",
      "Epoch 19/200\n",
      "422/422 [==============================] - 1s 2ms/step - loss: 0.4291 - recall: 0.3361 - val_loss: 0.4195 - val_recall: 0.4366\n",
      "Epoch 20/200\n",
      "422/422 [==============================] - 1s 2ms/step - loss: 0.4250 - recall: 0.3734 - val_loss: 0.4140 - val_recall: 0.4282\n",
      "Epoch 21/200\n",
      "422/422 [==============================] - 1s 2ms/step - loss: 0.4206 - recall: 0.4089 - val_loss: 0.4102 - val_recall: 0.4845\n",
      "Epoch 22/200\n",
      "422/422 [==============================] - 1s 2ms/step - loss: 0.4156 - recall: 0.4530 - val_loss: 0.4055 - val_recall: 0.4423\n",
      "Epoch 23/200\n",
      "422/422 [==============================] - 1s 2ms/step - loss: 0.4102 - recall: 0.4586 - val_loss: 0.4004 - val_recall: 0.4817\n",
      "Epoch 24/200\n",
      "422/422 [==============================] - 1s 2ms/step - loss: 0.4043 - recall: 0.4496 - val_loss: 0.3985 - val_recall: 0.5606\n",
      "Epoch 25/200\n",
      "422/422 [==============================] - 1s 2ms/step - loss: 0.3991 - recall: 0.4437 - val_loss: 0.3936 - val_recall: 0.4732\n",
      "Epoch 26/200\n",
      "422/422 [==============================] - 1s 2ms/step - loss: 0.3940 - recall: 0.4021 - val_loss: 0.3863 - val_recall: 0.4254\n",
      "Epoch 27/200\n",
      "422/422 [==============================] - 1s 2ms/step - loss: 0.3886 - recall: 0.4104 - val_loss: 0.3818 - val_recall: 0.3127\n",
      "Epoch 28/200\n",
      "422/422 [==============================] - 1s 2ms/step - loss: 0.3835 - recall: 0.3989 - val_loss: 0.3774 - val_recall: 0.4113\n",
      "Epoch 29/200\n",
      "422/422 [==============================] - 1s 2ms/step - loss: 0.3779 - recall: 0.4123 - val_loss: 0.3708 - val_recall: 0.4169\n",
      "Epoch 30/200\n",
      "422/422 [==============================] - 1s 2ms/step - loss: 0.3728 - recall: 0.4375 - val_loss: 0.3661 - val_recall: 0.4225\n",
      "Epoch 31/200\n",
      "422/422 [==============================] - 1s 2ms/step - loss: 0.3672 - recall: 0.4674 - val_loss: 0.3648 - val_recall: 0.5831\n",
      "Epoch 32/200\n",
      "422/422 [==============================] - 1s 2ms/step - loss: 0.3625 - recall: 0.4963 - val_loss: 0.3583 - val_recall: 0.6056\n",
      "Epoch 33/200\n",
      "422/422 [==============================] - 1s 2ms/step - loss: 0.3571 - recall: 0.5376 - val_loss: 0.3520 - val_recall: 0.6141\n",
      "Epoch 34/200\n",
      "422/422 [==============================] - 1s 2ms/step - loss: 0.3527 - recall: 0.5759 - val_loss: 0.3456 - val_recall: 0.5859\n",
      "Epoch 35/200\n",
      "422/422 [==============================] - 1s 2ms/step - loss: 0.3481 - recall: 0.5939 - val_loss: 0.3409 - val_recall: 0.6507\n",
      "Epoch 36/200\n",
      "422/422 [==============================] - 1s 2ms/step - loss: 0.3434 - recall: 0.6458 - val_loss: 0.3378 - val_recall: 0.6817\n",
      "Epoch 37/200\n",
      "422/422 [==============================] - 1s 2ms/step - loss: 0.3392 - recall: 0.6713 - val_loss: 0.3307 - val_recall: 0.6451\n",
      "Epoch 38/200\n",
      "422/422 [==============================] - 1s 2ms/step - loss: 0.3342 - recall: 0.6881 - val_loss: 0.3256 - val_recall: 0.7296\n",
      "Epoch 39/200\n",
      "422/422 [==============================] - 1s 2ms/step - loss: 0.3295 - recall: 0.6900 - val_loss: 0.3197 - val_recall: 0.7521\n",
      "Epoch 40/200\n",
      "422/422 [==============================] - 1s 2ms/step - loss: 0.3243 - recall: 0.7046 - val_loss: 0.3170 - val_recall: 0.7972\n",
      "Epoch 41/200\n",
      "422/422 [==============================] - 1s 2ms/step - loss: 0.3178 - recall: 0.7400 - val_loss: 0.3066 - val_recall: 0.6648\n",
      "Epoch 42/200\n",
      "422/422 [==============================] - 1s 2ms/step - loss: 0.3114 - recall: 0.7369 - val_loss: 0.2990 - val_recall: 0.7549\n",
      "Epoch 43/200\n",
      "422/422 [==============================] - 1s 2ms/step - loss: 0.3061 - recall: 0.7584 - val_loss: 0.2935 - val_recall: 0.7718\n",
      "Epoch 44/200\n",
      "422/422 [==============================] - 1s 2ms/step - loss: 0.2999 - recall: 0.7634 - val_loss: 0.2876 - val_recall: 0.7437\n",
      "Epoch 45/200\n",
      "422/422 [==============================] - 1s 2ms/step - loss: 0.2935 - recall: 0.7705 - val_loss: 0.2812 - val_recall: 0.8028\n",
      "Epoch 46/200\n",
      "422/422 [==============================] - 1s 2ms/step - loss: 0.2871 - recall: 0.7789 - val_loss: 0.2736 - val_recall: 0.7775\n",
      "Epoch 47/200\n",
      "422/422 [==============================] - 1s 2ms/step - loss: 0.2797 - recall: 0.7976 - val_loss: 0.2646 - val_recall: 0.8282\n",
      "Epoch 48/200\n",
      "422/422 [==============================] - 1s 2ms/step - loss: 0.2721 - recall: 0.8088 - val_loss: 0.2584 - val_recall: 0.8141\n",
      "Epoch 49/200\n",
      "422/422 [==============================] - 1s 2ms/step - loss: 0.2643 - recall: 0.8200 - val_loss: 0.2501 - val_recall: 0.8451\n",
      "Epoch 50/200\n",
      "422/422 [==============================] - 1s 2ms/step - loss: 0.2557 - recall: 0.8243 - val_loss: 0.2429 - val_recall: 0.8761\n",
      "Epoch 51/200\n",
      "422/422 [==============================] - 1s 2ms/step - loss: 0.2476 - recall: 0.8417 - val_loss: 0.2348 - val_recall: 0.8648\n",
      "Epoch 52/200\n",
      "422/422 [==============================] - 1s 2ms/step - loss: 0.2399 - recall: 0.8439 - val_loss: 0.2277 - val_recall: 0.8225\n",
      "Epoch 53/200\n",
      "422/422 [==============================] - 1s 2ms/step - loss: 0.2328 - recall: 0.8563 - val_loss: 0.2218 - val_recall: 0.8648\n",
      "Epoch 54/200\n",
      "422/422 [==============================] - 1s 2ms/step - loss: 0.2263 - recall: 0.8632 - val_loss: 0.2192 - val_recall: 0.9099\n",
      "Epoch 55/200\n",
      "422/422 [==============================] - 1s 2ms/step - loss: 0.2218 - recall: 0.8629 - val_loss: 0.2136 - val_recall: 0.8958\n",
      "Epoch 56/200\n",
      "422/422 [==============================] - 1s 2ms/step - loss: 0.2177 - recall: 0.8666 - val_loss: 0.2126 - val_recall: 0.8620\n",
      "Epoch 57/200\n",
      "422/422 [==============================] - 1s 2ms/step - loss: 0.2148 - recall: 0.8660 - val_loss: 0.2071 - val_recall: 0.8930\n",
      "Epoch 58/200\n",
      "422/422 [==============================] - 1s 2ms/step - loss: 0.2126 - recall: 0.8632 - val_loss: 0.2041 - val_recall: 0.8958\n",
      "Epoch 59/200\n",
      "422/422 [==============================] - 1s 2ms/step - loss: 0.2099 - recall: 0.8694 - val_loss: 0.1983 - val_recall: 0.8873\n",
      "Epoch 60/200\n",
      "422/422 [==============================] - 1s 2ms/step - loss: 0.2084 - recall: 0.8691 - val_loss: 0.2013 - val_recall: 0.9014\n",
      "Epoch 61/200\n",
      "422/422 [==============================] - 1s 2ms/step - loss: 0.2065 - recall: 0.8688 - val_loss: 0.1974 - val_recall: 0.8958\n",
      "Epoch 62/200\n",
      "422/422 [==============================] - 1s 2ms/step - loss: 0.2045 - recall: 0.8697 - val_loss: 0.1953 - val_recall: 0.8873\n",
      "Epoch 63/200\n",
      "422/422 [==============================] - 1s 2ms/step - loss: 0.2036 - recall: 0.8716 - val_loss: 0.1968 - val_recall: 0.8845\n",
      "Epoch 64/200\n",
      "422/422 [==============================] - 1s 2ms/step - loss: 0.2021 - recall: 0.8719 - val_loss: 0.1938 - val_recall: 0.8563\n",
      "Epoch 65/200\n",
      "422/422 [==============================] - 1s 2ms/step - loss: 0.2015 - recall: 0.8734 - val_loss: 0.1938 - val_recall: 0.8901\n",
      "Epoch 66/200\n",
      "422/422 [==============================] - 1s 2ms/step - loss: 0.2005 - recall: 0.8710 - val_loss: 0.1948 - val_recall: 0.9014\n",
      "Epoch 67/200\n",
      "422/422 [==============================] - 1s 2ms/step - loss: 0.1993 - recall: 0.8697 - val_loss: 0.1959 - val_recall: 0.9014\n",
      "Epoch 68/200\n",
      "422/422 [==============================] - 1s 2ms/step - loss: 0.1980 - recall: 0.8741 - val_loss: 0.1902 - val_recall: 0.8845\n",
      "Epoch 69/200\n",
      "422/422 [==============================] - 1s 2ms/step - loss: 0.1969 - recall: 0.8741 - val_loss: 0.1922 - val_recall: 0.9070\n",
      "Epoch 70/200\n",
      "422/422 [==============================] - 1s 2ms/step - loss: 0.1967 - recall: 0.8756 - val_loss: 0.1932 - val_recall: 0.9070\n",
      "Epoch 71/200\n",
      "422/422 [==============================] - 1s 2ms/step - loss: 0.1962 - recall: 0.8716 - val_loss: 0.1908 - val_recall: 0.9099\n",
      "Epoch 72/200\n",
      "422/422 [==============================] - 1s 2ms/step - loss: 0.1957 - recall: 0.8738 - val_loss: 0.1925 - val_recall: 0.9014\n",
      "Epoch 73/200\n",
      "422/422 [==============================] - 1s 2ms/step - loss: 0.1943 - recall: 0.8744 - val_loss: 0.1870 - val_recall: 0.8930\n",
      "Epoch 74/200\n",
      "422/422 [==============================] - 1s 2ms/step - loss: 0.1946 - recall: 0.8725 - val_loss: 0.1862 - val_recall: 0.8958\n",
      "Epoch 75/200\n",
      "422/422 [==============================] - 1s 2ms/step - loss: 0.1936 - recall: 0.8778 - val_loss: 0.1871 - val_recall: 0.8845\n",
      "Epoch 76/200\n",
      "422/422 [==============================] - 1s 2ms/step - loss: 0.1922 - recall: 0.8744 - val_loss: 0.1869 - val_recall: 0.9042\n",
      "Epoch 77/200\n",
      "422/422 [==============================] - 1s 2ms/step - loss: 0.1921 - recall: 0.8759 - val_loss: 0.1839 - val_recall: 0.8986\n",
      "Epoch 78/200\n",
      "422/422 [==============================] - 1s 2ms/step - loss: 0.1915 - recall: 0.8787 - val_loss: 0.1847 - val_recall: 0.8732\n",
      "Epoch 79/200\n",
      "422/422 [==============================] - 1s 2ms/step - loss: 0.1910 - recall: 0.8787 - val_loss: 0.1861 - val_recall: 0.8873\n",
      "Epoch 80/200\n",
      "422/422 [==============================] - 1s 2ms/step - loss: 0.1910 - recall: 0.8756 - val_loss: 0.1820 - val_recall: 0.8845\n",
      "Epoch 81/200\n",
      "422/422 [==============================] - 1s 2ms/step - loss: 0.1903 - recall: 0.8784 - val_loss: 0.1860 - val_recall: 0.8789\n",
      "Epoch 82/200\n",
      "422/422 [==============================] - 1s 2ms/step - loss: 0.1899 - recall: 0.8772 - val_loss: 0.1835 - val_recall: 0.9014\n",
      "Epoch 83/200\n",
      "422/422 [==============================] - 1s 2ms/step - loss: 0.1902 - recall: 0.8797 - val_loss: 0.1840 - val_recall: 0.8986\n",
      "Epoch 84/200\n",
      "422/422 [==============================] - 1s 2ms/step - loss: 0.1896 - recall: 0.8809 - val_loss: 0.2075 - val_recall: 0.7577\n",
      "Epoch 85/200\n",
      "422/422 [==============================] - 1s 2ms/step - loss: 0.1885 - recall: 0.8809 - val_loss: 0.1811 - val_recall: 0.8986\n",
      "Epoch 86/200\n",
      "422/422 [==============================] - 1s 2ms/step - loss: 0.1883 - recall: 0.8781 - val_loss: 0.1974 - val_recall: 0.9183\n",
      "Epoch 87/200\n",
      "422/422 [==============================] - 1s 2ms/step - loss: 0.1882 - recall: 0.8784 - val_loss: 0.1825 - val_recall: 0.9014\n",
      "Epoch 88/200\n",
      "422/422 [==============================] - 1s 2ms/step - loss: 0.1876 - recall: 0.8778 - val_loss: 0.1841 - val_recall: 0.9183\n",
      "Epoch 89/200\n",
      "422/422 [==============================] - 1s 2ms/step - loss: 0.1877 - recall: 0.8784 - val_loss: 0.1807 - val_recall: 0.8986\n",
      "Epoch 90/200\n",
      "422/422 [==============================] - 1s 2ms/step - loss: 0.1863 - recall: 0.8828 - val_loss: 0.1794 - val_recall: 0.8930\n",
      "Epoch 91/200\n",
      "422/422 [==============================] - 1s 2ms/step - loss: 0.1865 - recall: 0.8781 - val_loss: 0.1805 - val_recall: 0.8958\n",
      "Epoch 92/200\n",
      "422/422 [==============================] - 1s 2ms/step - loss: 0.1861 - recall: 0.8809 - val_loss: 0.1826 - val_recall: 0.9211\n",
      "Epoch 93/200\n",
      "422/422 [==============================] - 1s 2ms/step - loss: 0.1854 - recall: 0.8822 - val_loss: 0.1806 - val_recall: 0.8761\n",
      "Epoch 94/200\n",
      "422/422 [==============================] - 1s 2ms/step - loss: 0.1858 - recall: 0.8803 - val_loss: 0.1767 - val_recall: 0.9099\n",
      "Epoch 95/200\n",
      "422/422 [==============================] - 1s 2ms/step - loss: 0.1854 - recall: 0.8800 - val_loss: 0.1760 - val_recall: 0.8901\n",
      "Epoch 96/200\n",
      "422/422 [==============================] - 1s 2ms/step - loss: 0.1838 - recall: 0.8815 - val_loss: 0.1755 - val_recall: 0.8930\n",
      "Epoch 97/200\n",
      "422/422 [==============================] - 1s 2ms/step - loss: 0.1832 - recall: 0.8812 - val_loss: 0.1803 - val_recall: 0.9211\n",
      "Epoch 98/200\n",
      "422/422 [==============================] - 1s 2ms/step - loss: 0.1839 - recall: 0.8769 - val_loss: 0.1788 - val_recall: 0.8620\n",
      "Epoch 99/200\n",
      "422/422 [==============================] - 1s 2ms/step - loss: 0.1824 - recall: 0.8853 - val_loss: 0.1722 - val_recall: 0.9070\n",
      "Epoch 100/200\n",
      "422/422 [==============================] - 1s 2ms/step - loss: 0.1820 - recall: 0.8794 - val_loss: 0.1744 - val_recall: 0.8986\n",
      "Epoch 101/200\n",
      "422/422 [==============================] - 1s 2ms/step - loss: 0.1809 - recall: 0.8862 - val_loss: 0.1754 - val_recall: 0.9183\n",
      "Epoch 102/200\n",
      "422/422 [==============================] - 1s 2ms/step - loss: 0.1806 - recall: 0.8859 - val_loss: 0.1712 - val_recall: 0.9042\n",
      "Epoch 103/200\n",
      "422/422 [==============================] - 1s 2ms/step - loss: 0.1798 - recall: 0.8778 - val_loss: 0.1779 - val_recall: 0.9268\n",
      "Epoch 104/200\n",
      "422/422 [==============================] - 1s 2ms/step - loss: 0.1786 - recall: 0.8818 - val_loss: 0.1681 - val_recall: 0.9042\n",
      "Epoch 105/200\n",
      "422/422 [==============================] - 1s 2ms/step - loss: 0.1781 - recall: 0.8871 - val_loss: 0.1686 - val_recall: 0.8817\n",
      "Epoch 106/200\n",
      "422/422 [==============================] - 1s 2ms/step - loss: 0.1768 - recall: 0.8831 - val_loss: 0.1662 - val_recall: 0.8986\n",
      "Epoch 107/200\n",
      "422/422 [==============================] - 1s 2ms/step - loss: 0.1756 - recall: 0.8862 - val_loss: 0.1720 - val_recall: 0.9183\n",
      "Epoch 108/200\n",
      "422/422 [==============================] - 1s 2ms/step - loss: 0.1741 - recall: 0.8853 - val_loss: 0.1683 - val_recall: 0.9211\n",
      "Epoch 109/200\n",
      "422/422 [==============================] - 1s 2ms/step - loss: 0.1739 - recall: 0.8893 - val_loss: 0.1605 - val_recall: 0.9183\n",
      "Epoch 110/200\n",
      "422/422 [==============================] - 1s 2ms/step - loss: 0.1727 - recall: 0.8905 - val_loss: 0.1622 - val_recall: 0.9127\n",
      "Epoch 111/200\n",
      "422/422 [==============================] - 1s 2ms/step - loss: 0.1710 - recall: 0.8912 - val_loss: 0.1580 - val_recall: 0.9014\n",
      "Epoch 112/200\n",
      "422/422 [==============================] - 1s 2ms/step - loss: 0.1705 - recall: 0.8890 - val_loss: 0.1567 - val_recall: 0.9127\n",
      "Epoch 113/200\n",
      "422/422 [==============================] - 1s 2ms/step - loss: 0.1681 - recall: 0.8896 - val_loss: 0.1551 - val_recall: 0.9211\n",
      "Epoch 114/200\n",
      "422/422 [==============================] - 1s 2ms/step - loss: 0.1666 - recall: 0.8927 - val_loss: 0.1521 - val_recall: 0.9155\n",
      "Epoch 115/200\n",
      "422/422 [==============================] - 1s 2ms/step - loss: 0.1652 - recall: 0.8937 - val_loss: 0.1537 - val_recall: 0.9211\n",
      "Epoch 116/200\n",
      "422/422 [==============================] - 1s 2ms/step - loss: 0.1627 - recall: 0.8946 - val_loss: 0.1514 - val_recall: 0.9155\n",
      "Epoch 117/200\n",
      "422/422 [==============================] - 1s 2ms/step - loss: 0.1607 - recall: 0.8955 - val_loss: 0.1595 - val_recall: 0.8704\n",
      "Epoch 118/200\n",
      "422/422 [==============================] - 1s 2ms/step - loss: 0.1597 - recall: 0.9005 - val_loss: 0.1506 - val_recall: 0.9211\n",
      "Epoch 119/200\n",
      "422/422 [==============================] - 1s 2ms/step - loss: 0.1563 - recall: 0.8971 - val_loss: 0.1459 - val_recall: 0.9211\n",
      "Epoch 120/200\n",
      "422/422 [==============================] - 1s 2ms/step - loss: 0.1539 - recall: 0.8980 - val_loss: 0.1449 - val_recall: 0.9239\n",
      "Epoch 121/200\n",
      "422/422 [==============================] - 1s 2ms/step - loss: 0.1519 - recall: 0.8980 - val_loss: 0.1454 - val_recall: 0.9239\n",
      "Epoch 122/200\n",
      "422/422 [==============================] - 1s 2ms/step - loss: 0.1486 - recall: 0.8986 - val_loss: 0.1424 - val_recall: 0.9211\n",
      "Epoch 123/200\n",
      "422/422 [==============================] - 1s 2ms/step - loss: 0.1471 - recall: 0.9008 - val_loss: 0.1398 - val_recall: 0.9127\n",
      "Epoch 124/200\n",
      "422/422 [==============================] - 1s 2ms/step - loss: 0.1451 - recall: 0.9005 - val_loss: 0.1410 - val_recall: 0.9211\n",
      "Epoch 125/200\n",
      "422/422 [==============================] - 1s 2ms/step - loss: 0.1435 - recall: 0.9008 - val_loss: 0.1390 - val_recall: 0.9268\n",
      "Epoch 126/200\n",
      "422/422 [==============================] - 1s 2ms/step - loss: 0.1413 - recall: 0.9027 - val_loss: 0.1401 - val_recall: 0.9239\n",
      "Epoch 127/200\n",
      "422/422 [==============================] - 1s 2ms/step - loss: 0.1407 - recall: 0.9024 - val_loss: 0.1378 - val_recall: 0.9239\n",
      "Epoch 128/200\n",
      "422/422 [==============================] - 1s 2ms/step - loss: 0.1392 - recall: 0.9036 - val_loss: 0.1324 - val_recall: 0.9099\n",
      "Epoch 129/200\n",
      "422/422 [==============================] - 1s 2ms/step - loss: 0.1376 - recall: 0.8993 - val_loss: 0.1342 - val_recall: 0.9239\n",
      "Epoch 130/200\n",
      "422/422 [==============================] - 1s 2ms/step - loss: 0.1375 - recall: 0.9017 - val_loss: 0.1306 - val_recall: 0.9127\n",
      "Epoch 131/200\n",
      "422/422 [==============================] - 1s 2ms/step - loss: 0.1359 - recall: 0.9011 - val_loss: 0.1274 - val_recall: 0.9211\n",
      "Epoch 132/200\n",
      "422/422 [==============================] - 1s 2ms/step - loss: 0.1356 - recall: 0.9017 - val_loss: 0.1288 - val_recall: 0.9296\n",
      "Epoch 133/200\n",
      "422/422 [==============================] - 1s 2ms/step - loss: 0.1351 - recall: 0.9008 - val_loss: 0.1302 - val_recall: 0.9239\n",
      "Epoch 134/200\n",
      "422/422 [==============================] - 1s 2ms/step - loss: 0.1337 - recall: 0.8999 - val_loss: 0.1277 - val_recall: 0.9099\n",
      "Epoch 135/200\n",
      "422/422 [==============================] - 1s 2ms/step - loss: 0.1333 - recall: 0.9014 - val_loss: 0.1264 - val_recall: 0.9155\n",
      "Epoch 136/200\n",
      "422/422 [==============================] - 1s 2ms/step - loss: 0.1334 - recall: 0.9027 - val_loss: 0.1270 - val_recall: 0.9239\n",
      "Epoch 137/200\n",
      "422/422 [==============================] - 1s 2ms/step - loss: 0.1328 - recall: 0.9011 - val_loss: 0.1295 - val_recall: 0.9211\n",
      "Epoch 138/200\n",
      "422/422 [==============================] - 1s 2ms/step - loss: 0.1321 - recall: 0.9017 - val_loss: 0.1318 - val_recall: 0.9296\n",
      "Epoch 139/200\n",
      "422/422 [==============================] - 1s 2ms/step - loss: 0.1323 - recall: 0.9005 - val_loss: 0.1273 - val_recall: 0.9211\n",
      "Epoch 140/200\n",
      "422/422 [==============================] - 1s 2ms/step - loss: 0.1320 - recall: 0.8996 - val_loss: 0.1476 - val_recall: 0.8563\n",
      "Epoch 141/200\n",
      "422/422 [==============================] - 1s 2ms/step - loss: 0.1315 - recall: 0.9011 - val_loss: 0.1259 - val_recall: 0.9268\n",
      "Epoch 142/200\n",
      "422/422 [==============================] - 1s 2ms/step - loss: 0.1317 - recall: 0.8999 - val_loss: 0.1259 - val_recall: 0.9239\n",
      "Epoch 143/200\n",
      "422/422 [==============================] - 1s 2ms/step - loss: 0.1307 - recall: 0.8989 - val_loss: 0.1287 - val_recall: 0.9268\n",
      "Epoch 144/200\n",
      "422/422 [==============================] - 1s 2ms/step - loss: 0.1304 - recall: 0.9002 - val_loss: 0.1304 - val_recall: 0.9268\n",
      "Epoch 145/200\n",
      "422/422 [==============================] - 1s 2ms/step - loss: 0.1302 - recall: 0.9002 - val_loss: 0.1247 - val_recall: 0.9183\n",
      "Epoch 146/200\n",
      "422/422 [==============================] - 1s 2ms/step - loss: 0.1304 - recall: 0.9014 - val_loss: 0.1301 - val_recall: 0.9268\n",
      "Epoch 147/200\n",
      "422/422 [==============================] - 1s 2ms/step - loss: 0.1306 - recall: 0.8977 - val_loss: 0.1250 - val_recall: 0.9211\n",
      "Epoch 148/200\n",
      "422/422 [==============================] - 1s 2ms/step - loss: 0.1300 - recall: 0.8974 - val_loss: 0.1313 - val_recall: 0.9268\n",
      "Epoch 149/200\n",
      "422/422 [==============================] - 1s 2ms/step - loss: 0.1295 - recall: 0.9021 - val_loss: 0.1242 - val_recall: 0.9070\n",
      "Epoch 150/200\n",
      "422/422 [==============================] - 1s 2ms/step - loss: 0.1300 - recall: 0.8968 - val_loss: 0.1244 - val_recall: 0.9211\n",
      "Epoch 151/200\n",
      "422/422 [==============================] - 1s 2ms/step - loss: 0.1302 - recall: 0.8996 - val_loss: 0.1275 - val_recall: 0.9268\n",
      "Epoch 152/200\n",
      "422/422 [==============================] - 1s 2ms/step - loss: 0.1292 - recall: 0.8996 - val_loss: 0.1284 - val_recall: 0.9268\n",
      "Epoch 153/200\n",
      "422/422 [==============================] - 1s 2ms/step - loss: 0.1294 - recall: 0.8958 - val_loss: 0.1272 - val_recall: 0.9268\n",
      "Epoch 154/200\n",
      "422/422 [==============================] - 1s 2ms/step - loss: 0.1285 - recall: 0.8999 - val_loss: 0.1258 - val_recall: 0.9296\n",
      "Epoch 155/200\n",
      "422/422 [==============================] - 1s 2ms/step - loss: 0.1282 - recall: 0.8968 - val_loss: 0.1302 - val_recall: 0.9268\n",
      "Epoch 156/200\n",
      "422/422 [==============================] - 1s 1ms/step - loss: 0.1288 - recall: 0.8989 - val_loss: 0.1227 - val_recall: 0.9211\n",
      "Epoch 157/200\n",
      "422/422 [==============================] - 1s 1ms/step - loss: 0.1288 - recall: 0.8986 - val_loss: 0.1225 - val_recall: 0.9155\n",
      "Epoch 158/200\n",
      "422/422 [==============================] - 1s 2ms/step - loss: 0.1286 - recall: 0.8986 - val_loss: 0.1227 - val_recall: 0.9155\n",
      "Epoch 159/200\n",
      "422/422 [==============================] - 1s 2ms/step - loss: 0.1283 - recall: 0.8977 - val_loss: 0.1274 - val_recall: 0.9239\n",
      "Epoch 160/200\n",
      "422/422 [==============================] - 1s 2ms/step - loss: 0.1279 - recall: 0.8977 - val_loss: 0.1238 - val_recall: 0.9239\n",
      "Epoch 161/200\n",
      "422/422 [==============================] - 1s 2ms/step - loss: 0.1281 - recall: 0.8993 - val_loss: 0.1264 - val_recall: 0.9211\n",
      "Epoch 162/200\n",
      "422/422 [==============================] - 1s 2ms/step - loss: 0.1277 - recall: 0.8989 - val_loss: 0.1241 - val_recall: 0.9183\n",
      "Epoch 163/200\n",
      "422/422 [==============================] - 1s 2ms/step - loss: 0.1277 - recall: 0.8952 - val_loss: 0.1255 - val_recall: 0.9239\n",
      "Epoch 164/200\n",
      "422/422 [==============================] - 1s 2ms/step - loss: 0.1278 - recall: 0.8986 - val_loss: 0.1246 - val_recall: 0.9183\n",
      "Epoch 165/200\n",
      "422/422 [==============================] - 1s 2ms/step - loss: 0.1270 - recall: 0.8989 - val_loss: 0.1230 - val_recall: 0.9211\n",
      "Epoch 166/200\n",
      "422/422 [==============================] - 1s 2ms/step - loss: 0.1282 - recall: 0.8983 - val_loss: 0.1230 - val_recall: 0.9239\n",
      "Epoch 167/200\n",
      "422/422 [==============================] - 1s 2ms/step - loss: 0.1270 - recall: 0.8983 - val_loss: 0.1204 - val_recall: 0.9127\n",
      "Epoch 168/200\n",
      "422/422 [==============================] - 1s 2ms/step - loss: 0.1268 - recall: 0.8983 - val_loss: 0.1224 - val_recall: 0.9183\n",
      "Epoch 169/200\n",
      "422/422 [==============================] - 1s 1ms/step - loss: 0.1273 - recall: 0.8989 - val_loss: 0.1246 - val_recall: 0.9239\n",
      "Epoch 170/200\n",
      "422/422 [==============================] - 1s 1ms/step - loss: 0.1267 - recall: 0.8993 - val_loss: 0.1225 - val_recall: 0.9183\n",
      "Epoch 171/200\n",
      "422/422 [==============================] - 1s 1ms/step - loss: 0.1271 - recall: 0.8961 - val_loss: 0.1205 - val_recall: 0.9155\n",
      "Epoch 172/200\n",
      "422/422 [==============================] - 1s 1ms/step - loss: 0.1270 - recall: 0.8968 - val_loss: 0.1229 - val_recall: 0.9183\n",
      "Epoch 173/200\n",
      "422/422 [==============================] - 1s 1ms/step - loss: 0.1266 - recall: 0.8999 - val_loss: 0.1268 - val_recall: 0.9268\n",
      "Epoch 174/200\n",
      "422/422 [==============================] - 1s 1ms/step - loss: 0.1270 - recall: 0.8955 - val_loss: 0.1211 - val_recall: 0.9183\n",
      "Epoch 175/200\n",
      "422/422 [==============================] - 1s 1ms/step - loss: 0.1269 - recall: 0.8965 - val_loss: 0.1241 - val_recall: 0.9183\n",
      "Epoch 176/200\n",
      "422/422 [==============================] - 1s 2ms/step - loss: 0.1263 - recall: 0.8965 - val_loss: 0.1212 - val_recall: 0.9183\n",
      "Epoch 177/200\n",
      "422/422 [==============================] - 1s 2ms/step - loss: 0.1267 - recall: 0.8983 - val_loss: 0.1242 - val_recall: 0.9211\n",
      "Epoch 178/200\n",
      "422/422 [==============================] - 1s 2ms/step - loss: 0.1255 - recall: 0.8980 - val_loss: 0.1261 - val_recall: 0.9239\n",
      "Epoch 179/200\n",
      "422/422 [==============================] - 1s 2ms/step - loss: 0.1255 - recall: 0.8983 - val_loss: 0.1210 - val_recall: 0.9183\n",
      "Epoch 180/200\n",
      "422/422 [==============================] - 1s 2ms/step - loss: 0.1261 - recall: 0.9011 - val_loss: 0.1233 - val_recall: 0.9183\n",
      "Epoch 181/200\n",
      "422/422 [==============================] - 1s 2ms/step - loss: 0.1261 - recall: 0.8968 - val_loss: 0.1316 - val_recall: 0.9268\n",
      "Epoch 182/200\n",
      "422/422 [==============================] - 1s 2ms/step - loss: 0.1253 - recall: 0.8989 - val_loss: 0.1303 - val_recall: 0.9239\n",
      "Epoch 183/200\n",
      "422/422 [==============================] - 1s 2ms/step - loss: 0.1257 - recall: 0.8974 - val_loss: 0.1231 - val_recall: 0.9211\n",
      "Epoch 184/200\n",
      "422/422 [==============================] - 1s 2ms/step - loss: 0.1260 - recall: 0.9008 - val_loss: 0.1236 - val_recall: 0.9183\n",
      "Epoch 185/200\n",
      "422/422 [==============================] - 1s 2ms/step - loss: 0.1254 - recall: 0.8983 - val_loss: 0.1233 - val_recall: 0.9211\n",
      "Epoch 186/200\n",
      "422/422 [==============================] - 1s 2ms/step - loss: 0.1255 - recall: 0.8980 - val_loss: 0.1243 - val_recall: 0.9183\n",
      "Epoch 187/200\n",
      "422/422 [==============================] - 1s 2ms/step - loss: 0.1255 - recall: 0.8989 - val_loss: 0.1221 - val_recall: 0.9183\n",
      "Epoch 188/200\n",
      "422/422 [==============================] - 1s 2ms/step - loss: 0.1250 - recall: 0.8983 - val_loss: 0.1239 - val_recall: 0.9211\n",
      "Epoch 189/200\n",
      "422/422 [==============================] - 1s 2ms/step - loss: 0.1247 - recall: 0.9002 - val_loss: 0.1215 - val_recall: 0.9155\n",
      "Epoch 190/200\n",
      "422/422 [==============================] - 1s 1ms/step - loss: 0.1245 - recall: 0.9008 - val_loss: 0.1232 - val_recall: 0.9239\n",
      "Epoch 191/200\n",
      "422/422 [==============================] - 0s 1ms/step - loss: 0.1254 - recall: 0.8983 - val_loss: 0.1230 - val_recall: 0.9211\n",
      "Epoch 192/200\n",
      "422/422 [==============================] - 0s 1ms/step - loss: 0.1247 - recall: 0.9005 - val_loss: 0.1254 - val_recall: 0.9211\n",
      "Epoch 193/200\n",
      "422/422 [==============================] - 1s 1ms/step - loss: 0.1249 - recall: 0.8986 - val_loss: 0.1218 - val_recall: 0.9183\n",
      "Epoch 194/200\n",
      "422/422 [==============================] - 1s 1ms/step - loss: 0.1247 - recall: 0.9002 - val_loss: 0.1237 - val_recall: 0.9127\n",
      "Epoch 195/200\n",
      "422/422 [==============================] - 1s 1ms/step - loss: 0.1246 - recall: 0.9008 - val_loss: 0.1210 - val_recall: 0.9183\n",
      "Epoch 196/200\n",
      "422/422 [==============================] - 1s 1ms/step - loss: 0.1243 - recall: 0.8983 - val_loss: 0.1305 - val_recall: 0.9268\n",
      "Epoch 197/200\n",
      "422/422 [==============================] - 1s 1ms/step - loss: 0.1246 - recall: 0.8968 - val_loss: 0.1257 - val_recall: 0.9099\n",
      "Epoch 198/200\n",
      "422/422 [==============================] - 1s 1ms/step - loss: 0.1241 - recall: 0.8983 - val_loss: 0.1238 - val_recall: 0.9211\n",
      "Epoch 199/200\n",
      "422/422 [==============================] - 1s 1ms/step - loss: 0.1237 - recall: 0.8999 - val_loss: 0.1203 - val_recall: 0.9183\n",
      "Epoch 200/200\n",
      "422/422 [==============================] - 1s 1ms/step - loss: 0.1235 - recall: 0.8996 - val_loss: 0.1250 - val_recall: 0.9239\n"
     ]
    },
    {
     "data": {
      "text/plain": [
       "<keras.callbacks.History at 0x26e72877ca0>"
      ]
     },
     "execution_count": 60,
     "metadata": {},
     "output_type": "execute_result"
    }
   ],
   "source": [
    "model.fit(X_train,y_train, epochs=200 , validation_data=(X_test,y_test),callbacks=[MyThresholdCallBack(cl=0.98)])"
   ]
  },
  {
   "cell_type": "code",
   "execution_count": 61,
   "id": "54b1ad03-fc75-4c28-a477-a627ce4f3547",
   "metadata": {},
   "outputs": [
    {
     "name": "stdout",
     "output_type": "stream",
     "text": [
      "422/422 [==============================] - 0s 990us/step - loss: 0.1229 - recall: 0.9030\n",
      "47/47 [==============================] - 0s 1ms/step - loss: 0.1250 - recall: 0.9239\n"
     ]
    },
    {
     "data": {
      "text/plain": [
       "[0.12495655566453934, 0.9239436388015747]"
      ]
     },
     "execution_count": 61,
     "metadata": {},
     "output_type": "execute_result"
    }
   ],
   "source": [
    "model.evaluate(X_train,y_train)\n",
    "model.evaluate(X_test,y_test)"
   ]
  },
  {
   "cell_type": "code",
   "execution_count": 62,
   "id": "d66d37f9-b63a-4067-93f7-cbcec859744c",
   "metadata": {},
   "outputs": [
    {
     "name": "stdout",
     "output_type": "stream",
     "text": [
      "47/47 [==============================] - 0s 1ms/step\n",
      "AUC:  0.977969565645622\n"
     ]
    },
    {
     "data": {
      "text/plain": [
       "Text(0.5, 1.0, 'ROC')"
      ]
     },
     "execution_count": 62,
     "metadata": {},
     "output_type": "execute_result"
    },
    {
     "data": {
      "image/png": "[encoded data removed]",
      "text/plain": [
       "<Figure size 432x288 with 1 Axes>"
      ]
     },
     "metadata": {
      "needs_background": "light"
     },
     "output_type": "display_data"
    }
   ],
   "source": [
    "prob = model.predict(X_test)#(model.predict(Xt) > 0.5).astype(\"int32\")\n",
    "fpr,tpr,threshold = roc_curve(y_test,prob[:,0])\n",
    "AUC = auc(fpr,tpr)\n",
    "print('AUC: ',AUC)\n",
    "plt.plot(fpr,tpr)\n",
    "plt.xlabel(\"False Positive\")\n",
    "plt.ylabel(\"True Positive\")\n",
    "plt.title(\"ROC\")"
   ]
  },
  {
   "cell_type": "markdown",
   "id": "b448387a-7f9d-43b0-b461-7f21f516767f",
   "metadata": {},
   "source": [
    "# Deploying the Models"
   ]
  },
  {
   "cell_type": "code",
   "execution_count": 63,
   "id": "0a044ee0-e020-4501-ac6c-ef84d1087858",
   "metadata": {},
   "outputs": [],
   "source": [
    "import pickle\n",
    "pickle.dump(log_reg,open(\"lr_model.pkl\",\"wb\"))\n",
    "pickle.dump(dt,open(\"dt_model.pkl\",\"wb\"))\n",
    "pickle.dump(rf,open(\"rf_model.pkl\",\"wb\"))\n",
    "pickle.dump(ada,open(\"ada_model.pkl\",\"wb\"))\n",
    "pickle.dump(xgbc,open(\"xgb_model.pkl\",\"wb\"))\n",
    "\n",
    "pickle.dump(sc,open(\"scalar.std\",\"wb\"))"
   ]
  },
  {
   "cell_type": "markdown",
   "id": "026fe269-5903-483a-93e1-f3be38e6f781",
   "metadata": {},
   "source": []
  }
 ],
 "metadata": {
  "kernelspec": {
   "display_name": "Python 3 (ipykernel)",
   "language": "python",
   "name": "python3"
  },
  "language_info": {
   "codemirror_mode": {
    "name": "ipython",
    "version": 3
   },
   "file_extension": ".py",
   "mimetype": "text/x-python",
   "name": "python",
   "nbconvert_exporter": "python",
   "pygments_lexer": "ipython3",
   "version": "3.9.7"
  }
 },
 "nbformat": 4,
 "nbformat_minor": 5
}
