{
 "cells": [
  {
   "cell_type": "code",
   "execution_count": 1,
   "id": "dfc55509-c2f1-4d5a-bcd7-9fa7efcbf129",
   "metadata": {},
   "outputs": [],
   "source": [
    "import pandas as pd\n",
    "from ProcessX import ProcessX\n",
    "import model"
   ]
  },
  {
   "cell_type": "code",
   "execution_count": 2,
   "id": "c4c3f791-e3f7-4344-87b6-81e43eefafe0",
   "metadata": {},
   "outputs": [],
   "source": [
    "df = pd.read_csv('test.csv')"
   ]
  },
  {
   "cell_type": "code",
   "execution_count": 3,
   "id": "e168cfae-8758-437d-b1ee-97616ff24659",
   "metadata": {},
   "outputs": [],
   "source": [
    "X = ProcessX(df)"
   ]
  },
  {
   "cell_type": "code",
   "execution_count": 4,
   "id": "e5fd6714-1c53-404d-b9d8-d6503bb0b8b9",
   "metadata": {},
   "outputs": [
    {
     "data": {
      "text/plain": [
       "array([1, 1, 1, 1, 1, 1, 1, 1, 1, 1, 1, 1, 1, 1, 1, 1, 1, 1, 1, 1, 1, 1,\n",
       "       1, 1, 1, 1, 1, 1, 1, 1, 1, 1, 1, 1, 1, 1, 1, 1, 1, 1, 0, 0, 0, 0,\n",
       "       0, 0, 0, 0, 0, 0, 0, 0, 0, 0, 0, 0, 0, 0, 0, 0, 0, 0, 0, 0, 0, 0,\n",
       "       0, 0, 0, 0, 0, 0, 0, 0, 0, 0, 0, 0, 0, 0], dtype=int64)"
      ]
     },
     "execution_count": 4,
     "metadata": {},
     "output_type": "execute_result"
    }
   ],
   "source": [
    "model.Predict(X)"
   ]
  },
  {
   "cell_type": "code",
   "execution_count": null,
   "id": "bbb27f7f-0e60-44eb-a859-c0fd01d62a10",
   "metadata": {},
   "outputs": [],
   "source": []
  }
 ],
 "metadata": {
  "kernelspec": {
   "display_name": "Python 3 (ipykernel)",
   "language": "python",
   "name": "python3"
  },
  "language_info": {
   "codemirror_mode": {
    "name": "ipython",
    "version": 3
   },
   "file_extension": ".py",
   "mimetype": "text/x-python",
   "name": "python",
   "nbconvert_exporter": "python",
   "pygments_lexer": "ipython3",
   "version": "3.9.7"
  }
 },
 "nbformat": 4,
 "nbformat_minor": 5
}
